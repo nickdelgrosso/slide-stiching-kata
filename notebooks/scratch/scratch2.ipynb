{
 "metadata": {
  "language_info": {
   "codemirror_mode": {
    "name": "ipython",
    "version": 3
   },
   "file_extension": ".py",
   "mimetype": "text/x-python",
   "name": "python",
   "nbconvert_exporter": "python",
   "pygments_lexer": "ipython3",
   "version": "3.8.5-final"
  },
  "orig_nbformat": 2,
  "kernelspec": {
   "name": "python3",
   "display_name": "Python 3.8.5 64-bit ('base': conda)",
   "metadata": {
    "interpreter": {
     "hash": "9fe23046073ed631980aa760203da97d2d072d4e4d9fe308dce15b8f61603078"
    }
   }
  }
 },
 "nbformat": 4,
 "nbformat_minor": 2,
 "cells": [
  {
   "cell_type": "code",
   "execution_count": 2,
   "metadata": {},
   "outputs": [
    {
     "output_type": "execute_result",
     "data": {
      "text/plain": [
       "'what is the problem?\\n- number of slices/understanding file naming system\\n- stitching images according to slices \\n\\nideas/approach\\n- list file names\\n- extract coordinates of image\\n- scatter plot coordinates\\n- avg. pixel values for each file --> scatterplot (identify white space)'"
      ]
     },
     "metadata": {},
     "execution_count": 2
    }
   ],
   "source": [
    "\"\"\"what is the problem?\n",
    "- number of slices/understanding file naming system\n",
    "- stitching images according to slices \n",
    "\n",
    "ideas/approach\n",
    "- list file names\n",
    "- extract coordinates of image\n",
    "- scatter plot coordinates\n",
    "- avg. pixel values for each file --> scatterplot (identify white space)\"\"\""
   ]
  },
  {
   "cell_type": "code",
   "execution_count": 61,
   "metadata": {},
   "outputs": [],
   "source": [
    "#importing packages\n",
    "from pathlib import Path\n",
    "import numpy as np\n",
    "import matplotlib.pyplot as plt\n",
    "import re"
   ]
  },
  {
   "cell_type": "code",
   "execution_count": 62,
   "metadata": {},
   "outputs": [],
   "source": [
    "#getting all tif files as string list\n",
    "filenames = list(Path('../../../data/raw').glob('*.tif'))\n",
    "\n",
    "#extracting coordinates from filenames\n",
    "coord_str = [x.stem[25:35] for x in filenames]\n",
    "\n",
    "#spliting xy coordinates\n",
    "coord_temp = [x.split(',') for x in coord_str]\n",
    "\n",
    "#converting string array to int tuple\n",
    "coord_int = [tuple([int(x) for x in temp] for temp in coord_temp)]"
   ]
  },
  {
   "cell_type": "code",
   "execution_count": 68,
   "metadata": {},
   "outputs": [
    {
     "output_type": "stream",
     "name": "stdout",
     "text": [
      "['[9771,56981]']\n"
     ]
    }
   ],
   "source": [
    "x = filenames[0].stem\n",
    "y = re.findall(r'\\[.*?\\]',x)\n",
    "print(y)"
   ]
  },
  {
   "cell_type": "code",
   "execution_count": null,
   "metadata": {},
   "outputs": [],
   "source": []
  },
  {
   "cell_type": "code",
   "execution_count": 63,
   "metadata": {},
   "outputs": [
    {
     "output_type": "stream",
     "name": "stdout",
     "text": [
      "ExPW021_PW162-A05_Scan1_[9771,56981]_component_data\nExPW021_PW162-A05_Scan1_[14405,56981]_component_data\nExPW021_PW162-A05_Scan1_[13056,41397]_component_data\n['9771', '56981']\n['14405', '5698']\n['13056', '4139']\n"
     ]
    }
   ],
   "source": [
    "print(filenames[0].stem)\n",
    "print(filenames[50].stem)\n",
    "print(filenames[75].stem)\n",
    "print(coord_temp[0])\n",
    "print(coord_temp[50])\n",
    "print(coord_temp[75])"
   ]
  },
  {
   "cell_type": "code",
   "execution_count": 46,
   "metadata": {},
   "outputs": [
    {
     "output_type": "execute_result",
     "data": {
      "text/plain": [
       "(275, 2)"
      ]
     },
     "metadata": {},
     "execution_count": 46
    }
   ],
   "source": [
    "coord_array = np.array(coord_int)[0]\n",
    "coord_array.shape"
   ]
  },
  {
   "cell_type": "code",
   "execution_count": 50,
   "metadata": {},
   "outputs": [
    {
     "output_type": "display_data",
     "data": {
      "text/plain": "<Figure size 432x288 with 1 Axes>",
      "image/svg+xml": "<?xml version=\"1.0\" encoding=\"utf-8\" standalone=\"no\"?>\n<!DOCTYPE svg PUBLIC \"-//W3C//DTD SVG 1.1//EN\"\n  \"http://www.w3.org/Graphics/SVG/1.1/DTD/svg11.dtd\">\n<!-- Created with matplotlib (https://matplotlib.org/) -->\n<svg height=\"250.842849pt\" version=\"1.1\" viewBox=\"0 0 388.0125 250.842849\" width=\"388.0125pt\" xmlns=\"http://www.w3.org/2000/svg\" xmlns:xlink=\"http://www.w3.org/1999/xlink\">\n <metadata>\n  <rdf:RDF xmlns:cc=\"http://creativecommons.org/ns#\" xmlns:dc=\"http://purl.org/dc/elements/1.1/\" xmlns:rdf=\"http://www.w3.org/1999/02/22-rdf-syntax-ns#\">\n   <cc:Work>\n    <dc:type rdf:resource=\"http://purl.org/dc/dcmitype/StillImage\"/>\n    <dc:date>2021-03-16T11:53:31.554981</dc:date>\n    <dc:format>image/svg+xml</dc:format>\n    <dc:creator>\n     <cc:Agent>\n      <dc:title>Matplotlib v3.3.4, https://matplotlib.org/</dc:title>\n     </cc:Agent>\n    </dc:creator>\n   </cc:Work>\n  </rdf:RDF>\n </metadata>\n <defs>\n  <style type=\"text/css\">*{stroke-linecap:butt;stroke-linejoin:round;}</style>\n </defs>\n <g id=\"figure_1\">\n  <g id=\"patch_1\">\n   <path d=\"M 0 250.842849 \nL 388.0125 250.842849 \nL 388.0125 0 \nL 0 0 \nz\n\" style=\"fill:none;\"/>\n  </g>\n  <g id=\"axes_1\">\n   <g id=\"patch_2\">\n    <path d=\"M 46.0125 226.964724 \nL 380.8125 226.964724 \nL 380.8125 9.524724 \nL 46.0125 9.524724 \nz\n\" style=\"fill:#ffffff;\"/>\n   </g>\n   <g id=\"PathCollection_1\">\n    <defs>\n     <path d=\"M 0 3 \nC 0.795609 3 1.55874 2.683901 2.12132 2.12132 \nC 2.683901 1.55874 3 0.795609 3 0 \nC 3 -0.795609 2.683901 -1.55874 2.12132 -2.12132 \nC 1.55874 -2.683901 0.795609 -3 0 -3 \nC -0.795609 -3 -1.55874 -2.683901 -2.12132 -2.12132 \nC -2.683901 -1.55874 -3 -0.795609 -3 0 \nC -3 0.795609 -2.683901 1.55874 -2.12132 2.12132 \nC -1.55874 2.683901 -0.795609 3 0 3 \nz\n\" id=\"m31cffbd454\" style=\"stroke:#1f77b4;\"/>\n    </defs>\n    <g clip-path=\"url(#pe4668302a9)\">\n     <use style=\"fill:#1f77b4;stroke:#1f77b4;\" x=\"94.957261\" xlink:href=\"#m31cffbd454\" y=\"21.923143\"/>\n     <use style=\"fill:#1f77b4;stroke:#1f77b4;\" x=\"67.376414\" xlink:href=\"#m31cffbd454\" y=\"102.797811\"/>\n     <use style=\"fill:#1f77b4;stroke:#1f77b4;\" x=\"272.983631\" xlink:href=\"#m31cffbd454\" y=\"215.318931\"/>\n     <use style=\"fill:#1f77b4;stroke:#1f77b4;\" x=\"141.275095\" xlink:href=\"#m31cffbd454\" y=\"206.982157\"/>\n     <use style=\"fill:#1f77b4;stroke:#1f77b4;\" x=\"249.824714\" xlink:href=\"#m31cffbd454\" y=\"216.324844\"/>\n     <use style=\"fill:#1f77b4;stroke:#1f77b4;\" x=\"177.025269\" xlink:href=\"#m31cffbd454\" y=\"211.617317\"/>\n     <use style=\"fill:#1f77b4;stroke:#1f77b4;\" x=\"107.548517\" xlink:href=\"#m31cffbd454\" y=\"212.872899\"/>\n     <use style=\"fill:#1f77b4;stroke:#1f77b4;\" x=\"319.276483\" xlink:href=\"#m31cffbd454\" y=\"215.318931\"/>\n     <use style=\"fill:#1f77b4;stroke:#1f77b4;\" x=\"200.159204\" xlink:href=\"#m31cffbd454\" y=\"210.861073\"/>\n     <use style=\"fill:#1f77b4;stroke:#1f77b4;\" x=\"118.116178\" xlink:href=\"#m31cffbd454\" y=\"207.235445\"/>\n     <use style=\"fill:#1f77b4;stroke:#1f77b4;\" x=\"365.594318\" xlink:href=\"#m31cffbd454\" y=\"216.574513\"/>\n     <use style=\"fill:#1f77b4;stroke:#1f77b4;\" x=\"90.535331\" xlink:href=\"#m31cffbd454\" y=\"102.797811\"/>\n     <use style=\"fill:#1f77b4;stroke:#1f77b4;\" x=\"141.275095\" xlink:href=\"#m31cffbd454\" y=\"207.485114\"/>\n     <use style=\"fill:#1f77b4;stroke:#1f77b4;\" x=\"107.548517\" xlink:href=\"#m31cffbd454\" y=\"211.364029\"/>\n     <use style=\"fill:#1f77b4;stroke:#1f77b4;\" x=\"319.276483\" xlink:href=\"#m31cffbd454\" y=\"216.8278\"/>\n     <use style=\"fill:#1f77b4;stroke:#1f77b4;\" x=\"130.707434\" xlink:href=\"#m31cffbd454\" y=\"211.617317\"/>\n     <use style=\"fill:#1f77b4;stroke:#1f77b4;\" x=\"272.983631\" xlink:href=\"#m31cffbd454\" y=\"216.8278\"/>\n     <use style=\"fill:#1f77b4;stroke:#1f77b4;\" x=\"187.567948\" xlink:href=\"#m31cffbd454\" y=\"209.24727\"/>\n     <use style=\"fill:#1f77b4;stroke:#1f77b4;\" x=\"118.116178\" xlink:href=\"#m31cffbd454\" y=\"208.241357\"/>\n     <use style=\"fill:#1f77b4;stroke:#1f77b4;\" x=\"365.594318\" xlink:href=\"#m31cffbd454\" y=\"215.065644\"/>\n     <use style=\"fill:#1f77b4;stroke:#1f77b4;\" x=\"206.304936\" xlink:href=\"#m31cffbd454\" y=\"215.069262\"/>\n     <use style=\"fill:#1f77b4;stroke:#1f77b4;\" x=\"249.824714\" xlink:href=\"#m31cffbd454\" y=\"214.313018\"/>\n     <use style=\"fill:#1f77b4;stroke:#1f77b4;\" x=\"136.828184\" xlink:href=\"#m31cffbd454\" y=\"214.566306\"/>\n     <use style=\"fill:#1f77b4;stroke:#1f77b4;\" x=\"153.866351\" xlink:href=\"#m31cffbd454\" y=\"213.375855\"/>\n     <use style=\"fill:#1f77b4;stroke:#1f77b4;\" x=\"210.726865\" xlink:href=\"#m31cffbd454\" y=\"207.98807\"/>\n     <use style=\"fill:#1f77b4;stroke:#1f77b4;\" x=\"107.548517\" xlink:href=\"#m31cffbd454\" y=\"210.611404\"/>\n     <use style=\"fill:#1f77b4;stroke:#1f77b4;\" x=\"84.389599\" xlink:href=\"#m31cffbd454\" y=\"58.197517\"/>\n     <use style=\"fill:#1f77b4;stroke:#1f77b4;\" x=\"183.146018\" xlink:href=\"#m31cffbd454\" y=\"214.566306\"/>\n     <use style=\"fill:#1f77b4;stroke:#1f77b4;\" x=\"94.957261\" xlink:href=\"#m31cffbd454\" y=\"26.952707\"/>\n     <use style=\"fill:#1f77b4;stroke:#1f77b4;\" x=\"107.548517\" xlink:href=\"#m31cffbd454\" y=\"211.866986\"/>\n     <use style=\"fill:#1f77b4;stroke:#1f77b4;\" x=\"206.304936\" xlink:href=\"#m31cffbd454\" y=\"214.819593\"/>\n     <use style=\"fill:#1f77b4;stroke:#1f77b4;\" x=\"319.276483\" xlink:href=\"#m31cffbd454\" y=\"215.5686\"/>\n     <use style=\"fill:#1f77b4;stroke:#1f77b4;\" x=\"249.824714\" xlink:href=\"#m31cffbd454\" y=\"215.065644\"/>\n     <use style=\"fill:#1f77b4;stroke:#1f77b4;\" x=\"272.983631\" xlink:href=\"#m31cffbd454\" y=\"215.5686\"/>\n     <use style=\"fill:#1f77b4;stroke:#1f77b4;\" x=\"164.40903\" xlink:href=\"#m31cffbd454\" y=\"208.491026\"/>\n     <use style=\"fill:#1f77b4;stroke:#1f77b4;\" x=\"141.275095\" xlink:href=\"#m31cffbd454\" y=\"207.98807\"/>\n     <use style=\"fill:#1f77b4;stroke:#1f77b4;\" x=\"153.866351\" xlink:href=\"#m31cffbd454\" y=\"212.369942\"/>\n     <use style=\"fill:#1f77b4;stroke:#1f77b4;\" x=\"272.983631\" xlink:href=\"#m31cffbd454\" y=\"214.815975\"/>\n     <use style=\"fill:#1f77b4;stroke:#1f77b4;\" x=\"206.304936\" xlink:href=\"#m31cffbd454\" y=\"216.328462\"/>\n     <use style=\"fill:#1f77b4;stroke:#1f77b4;\" x=\"84.389599\" xlink:href=\"#m31cffbd454\" y=\"70.767809\"/>\n     <use style=\"fill:#1f77b4;stroke:#1f77b4;\" x=\"130.707434\" xlink:href=\"#m31cffbd454\" y=\"210.861073\"/>\n     <use style=\"fill:#1f77b4;stroke:#1f77b4;\" x=\"118.116178\" xlink:href=\"#m31cffbd454\" y=\"207.738401\"/>\n     <use style=\"fill:#1f77b4;stroke:#1f77b4;\" x=\"159.987101\" xlink:href=\"#m31cffbd454\" y=\"217.081088\"/>\n     <use style=\"fill:#1f77b4;stroke:#1f77b4;\" x=\"164.40903\" xlink:href=\"#m31cffbd454\" y=\"208.993983\"/>\n     <use style=\"fill:#1f77b4;stroke:#1f77b4;\" x=\"319.276483\" xlink:href=\"#m31cffbd454\" y=\"214.815975\"/>\n     <use style=\"fill:#1f77b4;stroke:#1f77b4;\" x=\"118.116178\" xlink:href=\"#m31cffbd454\" y=\"208.744314\"/>\n     <use style=\"fill:#1f77b4;stroke:#1f77b4;\" x=\"272.983631\" xlink:href=\"#m31cffbd454\" y=\"216.071557\"/>\n     <use style=\"fill:#1f77b4;stroke:#1f77b4;\" x=\"200.159204\" xlink:href=\"#m31cffbd454\" y=\"211.617317\"/>\n     <use style=\"fill:#1f77b4;stroke:#1f77b4;\" x=\"159.987101\" xlink:href=\"#m31cffbd454\" y=\"215.572219\"/>\n     <use style=\"fill:#1f77b4;stroke:#1f77b4;\" x=\"249.824714\" xlink:href=\"#m31cffbd454\" y=\"216.574513\"/>\n     <use style=\"fill:#1f77b4;stroke:#1f77b4;\" x=\"210.726865\" xlink:href=\"#m31cffbd454\" y=\"207.485114\"/>\n     <use style=\"fill:#1f77b4;stroke:#1f77b4;\" x=\"187.567948\" xlink:href=\"#m31cffbd454\" y=\"209.496939\"/>\n     <use style=\"fill:#1f77b4;stroke:#1f77b4;\" x=\"153.866351\" xlink:href=\"#m31cffbd454\" y=\"211.11436\"/>\n     <use style=\"fill:#1f77b4;stroke:#1f77b4;\" x=\"177.025269\" xlink:href=\"#m31cffbd454\" y=\"210.861073\"/>\n     <use style=\"fill:#1f77b4;stroke:#1f77b4;\" x=\"319.276483\" xlink:href=\"#m31cffbd454\" y=\"216.071557\"/>\n     <use style=\"fill:#1f77b4;stroke:#1f77b4;\" x=\"113.694249\" xlink:href=\"#m31cffbd454\" y=\"214.566306\"/>\n     <use style=\"fill:#1f77b4;stroke:#1f77b4;\" x=\"365.594318\" xlink:href=\"#m31cffbd454\" y=\"216.324844\"/>\n     <use style=\"fill:#1f77b4;stroke:#1f77b4;\" x=\"200.159204\" xlink:href=\"#m31cffbd454\" y=\"212.62323\"/>\n     <use style=\"fill:#1f77b4;stroke:#1f77b4;\" x=\"113.694249\" xlink:href=\"#m31cffbd454\" y=\"216.578131\"/>\n     <use style=\"fill:#1f77b4;stroke:#1f77b4;\" x=\"94.957261\" xlink:href=\"#m31cffbd454\" y=\"37.008217\"/>\n     <use style=\"fill:#1f77b4;stroke:#1f77b4;\" x=\"113.694249\" xlink:href=\"#m31cffbd454\" y=\"215.825506\"/>\n     <use style=\"fill:#1f77b4;stroke:#1f77b4;\" x=\"342.435401\" xlink:href=\"#m31cffbd454\" y=\"216.8278\"/>\n     <use style=\"fill:#1f77b4;stroke:#1f77b4;\" x=\"113.694249\" xlink:href=\"#m31cffbd454\" y=\"215.32255\"/>\n     <use style=\"fill:#1f77b4;stroke:#1f77b4;\" x=\"90.535331\" xlink:href=\"#m31cffbd454\" y=\"110.338539\"/>\n     <use style=\"fill:#1f77b4;stroke:#1f77b4;\" x=\"296.142549\" xlink:href=\"#m31cffbd454\" y=\"215.5686\"/>\n     <use style=\"fill:#1f77b4;stroke:#1f77b4;\" x=\"159.987101\" xlink:href=\"#m31cffbd454\" y=\"216.831419\"/>\n     <use style=\"fill:#1f77b4;stroke:#1f77b4;\" x=\"84.389599\" xlink:href=\"#m31cffbd454\" y=\"60.712299\"/>\n     <use style=\"fill:#1f77b4;stroke:#1f77b4;\" x=\"130.707434\" xlink:href=\"#m31cffbd454\" y=\"213.126186\"/>\n     <use style=\"fill:#1f77b4;stroke:#1f77b4;\" x=\"187.567948\" xlink:href=\"#m31cffbd454\" y=\"208.241357\"/>\n     <use style=\"fill:#1f77b4;stroke:#1f77b4;\" x=\"84.389599\" xlink:href=\"#m31cffbd454\" y=\"75.797374\"/>\n     <use style=\"fill:#1f77b4;stroke:#1f77b4;\" x=\"118.116178\" xlink:href=\"#m31cffbd454\" y=\"209.24727\"/>\n     <use style=\"fill:#1f77b4;stroke:#1f77b4;\" x=\"136.828184\" xlink:href=\"#m31cffbd454\" y=\"216.075175\"/>\n     <use style=\"fill:#1f77b4;stroke:#1f77b4;\" x=\"141.275095\" xlink:href=\"#m31cffbd454\" y=\"208.993983\"/>\n     <use style=\"fill:#1f77b4;stroke:#1f77b4;\" x=\"200.159204\" xlink:href=\"#m31cffbd454\" y=\"212.120273\"/>\n     <use style=\"fill:#1f77b4;stroke:#1f77b4;\" x=\"342.435401\" xlink:href=\"#m31cffbd454\" y=\"215.318931\"/>\n     <use style=\"fill:#1f77b4;stroke:#1f77b4;\" x=\"177.025269\" xlink:href=\"#m31cffbd454\" y=\"213.126186\"/>\n     <use style=\"fill:#1f77b4;stroke:#1f77b4;\" x=\"67.376414\" xlink:href=\"#m31cffbd454\" y=\"110.338539\"/>\n     <use style=\"fill:#1f77b4;stroke:#1f77b4;\" x=\"107.548517\" xlink:href=\"#m31cffbd454\" y=\"213.375855\"/>\n     <use style=\"fill:#1f77b4;stroke:#1f77b4;\" x=\"296.142549\" xlink:href=\"#m31cffbd454\" y=\"216.071557\"/>\n     <use style=\"fill:#1f77b4;stroke:#1f77b4;\" x=\"141.275095\" xlink:href=\"#m31cffbd454\" y=\"208.491026\"/>\n     <use style=\"fill:#1f77b4;stroke:#1f77b4;\" x=\"249.824714\" xlink:href=\"#m31cffbd454\" y=\"214.562687\"/>\n     <use style=\"fill:#1f77b4;stroke:#1f77b4;\" x=\"164.40903\" xlink:href=\"#m31cffbd454\" y=\"207.98807\"/>\n     <use style=\"fill:#1f77b4;stroke:#1f77b4;\" x=\"153.866351\" xlink:href=\"#m31cffbd454\" y=\"212.872899\"/>\n     <use style=\"fill:#1f77b4;stroke:#1f77b4;\" x=\"187.567948\" xlink:href=\"#m31cffbd454\" y=\"207.235445\"/>\n     <use style=\"fill:#1f77b4;stroke:#1f77b4;\" x=\"153.866351\" xlink:href=\"#m31cffbd454\" y=\"211.364029\"/>\n     <use style=\"fill:#1f77b4;stroke:#1f77b4;\" x=\"226.665796\" xlink:href=\"#m31cffbd454\" y=\"215.318931\"/>\n     <use style=\"fill:#1f77b4;stroke:#1f77b4;\" x=\"296.142549\" xlink:href=\"#m31cffbd454\" y=\"214.815975\"/>\n     <use style=\"fill:#1f77b4;stroke:#1f77b4;\" x=\"94.957261\" xlink:href=\"#m31cffbd454\" y=\"31.982271\"/>\n     <use style=\"fill:#1f77b4;stroke:#1f77b4;\" x=\"365.594318\" xlink:href=\"#m31cffbd454\" y=\"215.821888\"/>\n     <use style=\"fill:#1f77b4;stroke:#1f77b4;\" x=\"183.146018\" xlink:href=\"#m31cffbd454\" y=\"215.825506\"/>\n     <use style=\"fill:#1f77b4;stroke:#1f77b4;\" x=\"183.146018\" xlink:href=\"#m31cffbd454\" y=\"216.578131\"/>\n     <use style=\"fill:#1f77b4;stroke:#1f77b4;\" x=\"90.535331\" xlink:href=\"#m31cffbd454\" y=\"90.227519\"/>\n     <use style=\"fill:#1f77b4;stroke:#1f77b4;\" x=\"61.230682\" xlink:href=\"#m31cffbd454\" y=\"63.227082\"/>\n     <use style=\"fill:#1f77b4;stroke:#1f77b4;\" x=\"90.535331\" xlink:href=\"#m31cffbd454\" y=\"95.253465\"/>\n     <use style=\"fill:#1f77b4;stroke:#1f77b4;\" x=\"183.146018\" xlink:href=\"#m31cffbd454\" y=\"215.32255\"/>\n     <use style=\"fill:#1f77b4;stroke:#1f77b4;\" x=\"159.987101\" xlink:href=\"#m31cffbd454\" y=\"215.069262\"/>\n     <use style=\"fill:#1f77b4;stroke:#1f77b4;\" x=\"342.435401\" xlink:href=\"#m31cffbd454\" y=\"215.5686\"/>\n     <use style=\"fill:#1f77b4;stroke:#1f77b4;\" x=\"136.828184\" xlink:href=\"#m31cffbd454\" y=\"216.578131\"/>\n     <use style=\"fill:#1f77b4;stroke:#1f77b4;\" x=\"136.828184\" xlink:href=\"#m31cffbd454\" y=\"215.825506\"/>\n     <use style=\"fill:#1f77b4;stroke:#1f77b4;\" x=\"210.726865\" xlink:href=\"#m31cffbd454\" y=\"208.491026\"/>\n     <use style=\"fill:#1f77b4;stroke:#1f77b4;\" x=\"118.116178\" xlink:href=\"#m31cffbd454\" y=\"209.496939\"/>\n     <use style=\"fill:#1f77b4;stroke:#1f77b4;\" x=\"84.389599\" xlink:href=\"#m31cffbd454\" y=\"65.741864\"/>\n     <use style=\"fill:#1f77b4;stroke:#1f77b4;\" x=\"296.142549\" xlink:href=\"#m31cffbd454\" y=\"216.8278\"/>\n     <use style=\"fill:#1f77b4;stroke:#1f77b4;\" x=\"187.567948\" xlink:href=\"#m31cffbd454\" y=\"208.744314\"/>\n     <use style=\"fill:#1f77b4;stroke:#1f77b4;\" x=\"249.824714\" xlink:href=\"#m31cffbd454\" y=\"215.821888\"/>\n     <use style=\"fill:#1f77b4;stroke:#1f77b4;\" x=\"136.828184\" xlink:href=\"#m31cffbd454\" y=\"215.32255\"/>\n     <use style=\"fill:#1f77b4;stroke:#1f77b4;\" x=\"67.376414\" xlink:href=\"#m31cffbd454\" y=\"97.768247\"/>\n     <use style=\"fill:#1f77b4;stroke:#1f77b4;\" x=\"159.987101\" xlink:href=\"#m31cffbd454\" y=\"214.316637\"/>\n     <use style=\"fill:#1f77b4;stroke:#1f77b4;\" x=\"113.694249\" xlink:href=\"#m31cffbd454\" y=\"216.075175\"/>\n     <use style=\"fill:#1f77b4;stroke:#1f77b4;\" x=\"107.548517\" xlink:href=\"#m31cffbd454\" y=\"211.11436\"/>\n     <use style=\"fill:#1f77b4;stroke:#1f77b4;\" x=\"187.567948\" xlink:href=\"#m31cffbd454\" y=\"207.738401\"/>\n     <use style=\"fill:#1f77b4;stroke:#1f77b4;\" x=\"296.142549\" xlink:href=\"#m31cffbd454\" y=\"215.318931\"/>\n     <use style=\"fill:#1f77b4;stroke:#1f77b4;\" x=\"90.535331\" xlink:href=\"#m31cffbd454\" y=\"97.768247\"/>\n     <use style=\"fill:#1f77b4;stroke:#1f77b4;\" x=\"159.987101\" xlink:href=\"#m31cffbd454\" y=\"214.819593\"/>\n     <use style=\"fill:#1f77b4;stroke:#1f77b4;\" x=\"153.866351\" xlink:href=\"#m31cffbd454\" y=\"210.611404\"/>\n     <use style=\"fill:#1f77b4;stroke:#1f77b4;\" x=\"200.159204\" xlink:href=\"#m31cffbd454\" y=\"213.126186\"/>\n     <use style=\"fill:#1f77b4;stroke:#1f77b4;\" x=\"183.146018\" xlink:href=\"#m31cffbd454\" y=\"216.075175\"/>\n     <use style=\"fill:#1f77b4;stroke:#1f77b4;\" x=\"342.435401\" xlink:href=\"#m31cffbd454\" y=\"216.071557\"/>\n     <use style=\"fill:#1f77b4;stroke:#1f77b4;\" x=\"130.707434\" xlink:href=\"#m31cffbd454\" y=\"212.62323\"/>\n     <use style=\"fill:#1f77b4;stroke:#1f77b4;\" x=\"90.535331\" xlink:href=\"#m31cffbd454\" y=\"115.368103\"/>\n     <use style=\"fill:#1f77b4;stroke:#1f77b4;\" x=\"164.40903\" xlink:href=\"#m31cffbd454\" y=\"207.485114\"/>\n     <use style=\"fill:#1f77b4;stroke:#1f77b4;\" x=\"177.025269\" xlink:href=\"#m31cffbd454\" y=\"212.120273\"/>\n     <use style=\"fill:#1f77b4;stroke:#1f77b4;\" x=\"159.987101\" xlink:href=\"#m31cffbd454\" y=\"216.328462\"/>\n     <use style=\"fill:#1f77b4;stroke:#1f77b4;\" x=\"226.665796\" xlink:href=\"#m31cffbd454\" y=\"215.5686\"/>\n     <use style=\"fill:#1f77b4;stroke:#1f77b4;\" x=\"153.866351\" xlink:href=\"#m31cffbd454\" y=\"211.866986\"/>\n     <use style=\"fill:#1f77b4;stroke:#1f77b4;\" x=\"210.726865\" xlink:href=\"#m31cffbd454\" y=\"208.993983\"/>\n     <use style=\"fill:#1f77b4;stroke:#1f77b4;\" x=\"342.435401\" xlink:href=\"#m31cffbd454\" y=\"214.815975\"/>\n     <use style=\"fill:#1f77b4;stroke:#1f77b4;\" x=\"177.025269\" xlink:href=\"#m31cffbd454\" y=\"212.62323\"/>\n     <use style=\"fill:#1f77b4;stroke:#1f77b4;\" x=\"107.548517\" xlink:href=\"#m31cffbd454\" y=\"212.369942\"/>\n     <use style=\"fill:#1f77b4;stroke:#1f77b4;\" x=\"206.304936\" xlink:href=\"#m31cffbd454\" y=\"215.572219\"/>\n     <use style=\"fill:#1f77b4;stroke:#1f77b4;\" x=\"130.707434\" xlink:href=\"#m31cffbd454\" y=\"212.120273\"/>\n     <use style=\"fill:#1f77b4;stroke:#1f77b4;\" x=\"164.40903\" xlink:href=\"#m31cffbd454\" y=\"206.982157\"/>\n     <use style=\"fill:#1f77b4;stroke:#1f77b4;\" x=\"113.694249\" xlink:href=\"#m31cffbd454\" y=\"217.081088\"/>\n     <use style=\"fill:#1f77b4;stroke:#1f77b4;\" x=\"210.726865\" xlink:href=\"#m31cffbd454\" y=\"208.241357\"/>\n     <use style=\"fill:#1f77b4;stroke:#1f77b4;\" x=\"365.594318\" xlink:href=\"#m31cffbd454\" y=\"215.5686\"/>\n     <use style=\"fill:#1f77b4;stroke:#1f77b4;\" x=\"130.707434\" xlink:href=\"#m31cffbd454\" y=\"211.11436\"/>\n     <use style=\"fill:#1f77b4;stroke:#1f77b4;\" x=\"159.987101\" xlink:href=\"#m31cffbd454\" y=\"214.566306\"/>\n     <use style=\"fill:#1f77b4;stroke:#1f77b4;\" x=\"319.276483\" xlink:href=\"#m31cffbd454\" y=\"214.313018\"/>\n     <use style=\"fill:#1f77b4;stroke:#1f77b4;\" x=\"118.116178\" xlink:href=\"#m31cffbd454\" y=\"207.98807\"/>\n     <use style=\"fill:#1f77b4;stroke:#1f77b4;\" x=\"342.435401\" xlink:href=\"#m31cffbd454\" y=\"217.077469\"/>\n     <use style=\"fill:#1f77b4;stroke:#1f77b4;\" x=\"342.435401\" xlink:href=\"#m31cffbd454\" y=\"214.562687\"/>\n     <use style=\"fill:#1f77b4;stroke:#1f77b4;\" x=\"272.983631\" xlink:href=\"#m31cffbd454\" y=\"214.313018\"/>\n     <use style=\"fill:#1f77b4;stroke:#1f77b4;\" x=\"153.866351\" xlink:href=\"#m31cffbd454\" y=\"210.861073\"/>\n     <use style=\"fill:#1f77b4;stroke:#1f77b4;\" x=\"177.025269\" xlink:href=\"#m31cffbd454\" y=\"211.11436\"/>\n     <use style=\"fill:#1f77b4;stroke:#1f77b4;\" x=\"113.694249\" xlink:href=\"#m31cffbd454\" y=\"215.572219\"/>\n     <use style=\"fill:#1f77b4;stroke:#1f77b4;\" x=\"141.275095\" xlink:href=\"#m31cffbd454\" y=\"207.738401\"/>\n     <use style=\"fill:#1f77b4;stroke:#1f77b4;\" x=\"84.389599\" xlink:href=\"#m31cffbd454\" y=\"55.682735\"/>\n     <use style=\"fill:#1f77b4;stroke:#1f77b4;\" x=\"107.548517\" xlink:href=\"#m31cffbd454\" y=\"212.120273\"/>\n     <use style=\"fill:#1f77b4;stroke:#1f77b4;\" x=\"249.824714\" xlink:href=\"#m31cffbd454\" y=\"215.318931\"/>\n     <use style=\"fill:#1f77b4;stroke:#1f77b4;\" x=\"272.983631\" xlink:href=\"#m31cffbd454\" y=\"216.324844\"/>\n     <use style=\"fill:#1f77b4;stroke:#1f77b4;\" x=\"164.40903\" xlink:href=\"#m31cffbd454\" y=\"209.24727\"/>\n     <use style=\"fill:#1f77b4;stroke:#1f77b4;\" x=\"210.726865\" xlink:href=\"#m31cffbd454\" y=\"207.235445\"/>\n     <use style=\"fill:#1f77b4;stroke:#1f77b4;\" x=\"130.707434\" xlink:href=\"#m31cffbd454\" y=\"212.369942\"/>\n     <use style=\"fill:#1f77b4;stroke:#1f77b4;\" x=\"183.146018\" xlink:href=\"#m31cffbd454\" y=\"215.572219\"/>\n     <use style=\"fill:#1f77b4;stroke:#1f77b4;\" x=\"319.276483\" xlink:href=\"#m31cffbd454\" y=\"216.324844\"/>\n     <use style=\"fill:#1f77b4;stroke:#1f77b4;\" x=\"365.594318\" xlink:href=\"#m31cffbd454\" y=\"216.071557\"/>\n     <use style=\"fill:#1f77b4;stroke:#1f77b4;\" x=\"94.957261\" xlink:href=\"#m31cffbd454\" y=\"34.497053\"/>\n     <use style=\"fill:#1f77b4;stroke:#1f77b4;\" x=\"206.304936\" xlink:href=\"#m31cffbd454\" y=\"216.075175\"/>\n     <use style=\"fill:#1f77b4;stroke:#1f77b4;\" x=\"94.957261\" xlink:href=\"#m31cffbd454\" y=\"24.437925\"/>\n     <use style=\"fill:#1f77b4;stroke:#1f77b4;\" x=\"177.025269\" xlink:href=\"#m31cffbd454\" y=\"212.369942\"/>\n     <use style=\"fill:#1f77b4;stroke:#1f77b4;\" x=\"107.548517\" xlink:href=\"#m31cffbd454\" y=\"212.62323\"/>\n     <use style=\"fill:#1f77b4;stroke:#1f77b4;\" x=\"141.275095\" xlink:href=\"#m31cffbd454\" y=\"208.744314\"/>\n     <use style=\"fill:#1f77b4;stroke:#1f77b4;\" x=\"296.142549\" xlink:href=\"#m31cffbd454\" y=\"215.821888\"/>\n     <use style=\"fill:#1f77b4;stroke:#1f77b4;\" x=\"365.594318\" xlink:href=\"#m31cffbd454\" y=\"214.815975\"/>\n     <use style=\"fill:#1f77b4;stroke:#1f77b4;\" x=\"249.824714\" xlink:href=\"#m31cffbd454\" y=\"216.8278\"/>\n     <use style=\"fill:#1f77b4;stroke:#1f77b4;\" x=\"210.726865\" xlink:href=\"#m31cffbd454\" y=\"207.738401\"/>\n     <use style=\"fill:#1f77b4;stroke:#1f77b4;\" x=\"130.707434\" xlink:href=\"#m31cffbd454\" y=\"213.375855\"/>\n     <use style=\"fill:#1f77b4;stroke:#1f77b4;\" x=\"249.824714\" xlink:href=\"#m31cffbd454\" y=\"214.815975\"/>\n     <use style=\"fill:#1f77b4;stroke:#1f77b4;\" x=\"136.828184\" xlink:href=\"#m31cffbd454\" y=\"217.081088\"/>\n     <use style=\"fill:#1f77b4;stroke:#1f77b4;\" x=\"141.275095\" xlink:href=\"#m31cffbd454\" y=\"207.235445\"/>\n     <use style=\"fill:#1f77b4;stroke:#1f77b4;\" x=\"200.159204\" xlink:href=\"#m31cffbd454\" y=\"212.369942\"/>\n     <use style=\"fill:#1f77b4;stroke:#1f77b4;\" x=\"118.116178\" xlink:href=\"#m31cffbd454\" y=\"206.982157\"/>\n     <use style=\"fill:#1f77b4;stroke:#1f77b4;\" x=\"187.567948\" xlink:href=\"#m31cffbd454\" y=\"208.491026\"/>\n     <use style=\"fill:#1f77b4;stroke:#1f77b4;\" x=\"296.142549\" xlink:href=\"#m31cffbd454\" y=\"214.562687\"/>\n     <use style=\"fill:#1f77b4;stroke:#1f77b4;\" x=\"272.983631\" xlink:href=\"#m31cffbd454\" y=\"216.574513\"/>\n     <use style=\"fill:#1f77b4;stroke:#1f77b4;\" x=\"94.957261\" xlink:href=\"#m31cffbd454\" y=\"19.408361\"/>\n     <use style=\"fill:#1f77b4;stroke:#1f77b4;\" x=\"177.025269\" xlink:href=\"#m31cffbd454\" y=\"213.375855\"/>\n     <use style=\"fill:#1f77b4;stroke:#1f77b4;\" x=\"107.548517\" xlink:href=\"#m31cffbd454\" y=\"213.126186\"/>\n     <use style=\"fill:#1f77b4;stroke:#1f77b4;\" x=\"249.824714\" xlink:href=\"#m31cffbd454\" y=\"216.071557\"/>\n     <use style=\"fill:#1f77b4;stroke:#1f77b4;\" x=\"365.594318\" xlink:href=\"#m31cffbd454\" y=\"215.318931\"/>\n     <use style=\"fill:#1f77b4;stroke:#1f77b4;\" x=\"210.726865\" xlink:href=\"#m31cffbd454\" y=\"208.744314\"/>\n     <use style=\"fill:#1f77b4;stroke:#1f77b4;\" x=\"136.828184\" xlink:href=\"#m31cffbd454\" y=\"215.572219\"/>\n     <use style=\"fill:#1f77b4;stroke:#1f77b4;\" x=\"118.116178\" xlink:href=\"#m31cffbd454\" y=\"207.485114\"/>\n     <use style=\"fill:#1f77b4;stroke:#1f77b4;\" x=\"296.142549\" xlink:href=\"#m31cffbd454\" y=\"217.077469\"/>\n     <use style=\"fill:#1f77b4;stroke:#1f77b4;\" x=\"319.276483\" xlink:href=\"#m31cffbd454\" y=\"216.574513\"/>\n     <use style=\"fill:#1f77b4;stroke:#1f77b4;\" x=\"84.389599\" xlink:href=\"#m31cffbd454\" y=\"63.227082\"/>\n     <use style=\"fill:#1f77b4;stroke:#1f77b4;\" x=\"153.866351\" xlink:href=\"#m31cffbd454\" y=\"211.617317\"/>\n     <use style=\"fill:#1f77b4;stroke:#1f77b4;\" x=\"187.567948\" xlink:href=\"#m31cffbd454\" y=\"208.993983\"/>\n     <use style=\"fill:#1f77b4;stroke:#1f77b4;\" x=\"206.304936\" xlink:href=\"#m31cffbd454\" y=\"216.578131\"/>\n     <use style=\"fill:#1f77b4;stroke:#1f77b4;\" x=\"206.304936\" xlink:href=\"#m31cffbd454\" y=\"215.825506\"/>\n     <use style=\"fill:#1f77b4;stroke:#1f77b4;\" x=\"141.275095\" xlink:href=\"#m31cffbd454\" y=\"206.732488\"/>\n     <use style=\"fill:#1f77b4;stroke:#1f77b4;\" x=\"141.275095\" xlink:href=\"#m31cffbd454\" y=\"208.241357\"/>\n     <use style=\"fill:#1f77b4;stroke:#1f77b4;\" x=\"200.159204\" xlink:href=\"#m31cffbd454\" y=\"211.11436\"/>\n     <use style=\"fill:#1f77b4;stroke:#1f77b4;\" x=\"206.304936\" xlink:href=\"#m31cffbd454\" y=\"215.32255\"/>\n     <use style=\"fill:#1f77b4;stroke:#1f77b4;\" x=\"342.435401\" xlink:href=\"#m31cffbd454\" y=\"215.821888\"/>\n     <use style=\"fill:#1f77b4;stroke:#1f77b4;\" x=\"94.957261\" xlink:href=\"#m31cffbd454\" y=\"29.467489\"/>\n     <use style=\"fill:#1f77b4;stroke:#1f77b4;\" x=\"272.983631\" xlink:href=\"#m31cffbd454\" y=\"215.065644\"/>\n     <use style=\"fill:#1f77b4;stroke:#1f77b4;\" x=\"90.535331\" xlink:href=\"#m31cffbd454\" y=\"92.738683\"/>\n     <use style=\"fill:#1f77b4;stroke:#1f77b4;\" x=\"164.40903\" xlink:href=\"#m31cffbd454\" y=\"209.496939\"/>\n     <use style=\"fill:#1f77b4;stroke:#1f77b4;\" x=\"319.276483\" xlink:href=\"#m31cffbd454\" y=\"215.065644\"/>\n     <use style=\"fill:#1f77b4;stroke:#1f77b4;\" x=\"249.824714\" xlink:href=\"#m31cffbd454\" y=\"215.5686\"/>\n     <use style=\"fill:#1f77b4;stroke:#1f77b4;\" x=\"141.275095\" xlink:href=\"#m31cffbd454\" y=\"209.496939\"/>\n     <use style=\"fill:#1f77b4;stroke:#1f77b4;\" x=\"272.983631\" xlink:href=\"#m31cffbd454\" y=\"214.562687\"/>\n     <use style=\"fill:#1f77b4;stroke:#1f77b4;\" x=\"296.142549\" xlink:href=\"#m31cffbd454\" y=\"216.574513\"/>\n     <use style=\"fill:#1f77b4;stroke:#1f77b4;\" x=\"90.535331\" xlink:href=\"#m31cffbd454\" y=\"100.283029\"/>\n     <use style=\"fill:#1f77b4;stroke:#1f77b4;\" x=\"113.694249\" xlink:href=\"#m31cffbd454\" y=\"216.328462\"/>\n     <use style=\"fill:#1f77b4;stroke:#1f77b4;\" x=\"319.276483\" xlink:href=\"#m31cffbd454\" y=\"217.077469\"/>\n     <use style=\"fill:#1f77b4;stroke:#1f77b4;\" x=\"153.866351\" xlink:href=\"#m31cffbd454\" y=\"212.120273\"/>\n     <use style=\"fill:#1f77b4;stroke:#1f77b4;\" x=\"183.146018\" xlink:href=\"#m31cffbd454\" y=\"214.819593\"/>\n     <use style=\"fill:#1f77b4;stroke:#1f77b4;\" x=\"342.435401\" xlink:href=\"#m31cffbd454\" y=\"214.313018\"/>\n     <use style=\"fill:#1f77b4;stroke:#1f77b4;\" x=\"183.146018\" xlink:href=\"#m31cffbd454\" y=\"214.316637\"/>\n     <use style=\"fill:#1f77b4;stroke:#1f77b4;\" x=\"90.535331\" xlink:href=\"#m31cffbd454\" y=\"105.312593\"/>\n     <use style=\"fill:#1f77b4;stroke:#1f77b4;\" x=\"90.535331\" xlink:href=\"#m31cffbd454\" y=\"112.853321\"/>\n     <use style=\"fill:#1f77b4;stroke:#1f77b4;\" x=\"130.707434\" xlink:href=\"#m31cffbd454\" y=\"211.866986\"/>\n     <use style=\"fill:#1f77b4;stroke:#1f77b4;\" x=\"177.025269\" xlink:href=\"#m31cffbd454\" y=\"210.611404\"/>\n     <use style=\"fill:#1f77b4;stroke:#1f77b4;\" x=\"272.983631\" xlink:href=\"#m31cffbd454\" y=\"217.077469\"/>\n     <use style=\"fill:#1f77b4;stroke:#1f77b4;\" x=\"319.276483\" xlink:href=\"#m31cffbd454\" y=\"214.562687\"/>\n     <use style=\"fill:#1f77b4;stroke:#1f77b4;\" x=\"153.866351\" xlink:href=\"#m31cffbd454\" y=\"212.62323\"/>\n     <use style=\"fill:#1f77b4;stroke:#1f77b4;\" x=\"67.376414\" xlink:href=\"#m31cffbd454\" y=\"100.283029\"/>\n     <use style=\"fill:#1f77b4;stroke:#1f77b4;\" x=\"136.828184\" xlink:href=\"#m31cffbd454\" y=\"215.069262\"/>\n     <use style=\"fill:#1f77b4;stroke:#1f77b4;\" x=\"67.376414\" xlink:href=\"#m31cffbd454\" y=\"105.312593\"/>\n     <use style=\"fill:#1f77b4;stroke:#1f77b4;\" x=\"164.40903\" xlink:href=\"#m31cffbd454\" y=\"206.732488\"/>\n     <use style=\"fill:#1f77b4;stroke:#1f77b4;\" x=\"164.40903\" xlink:href=\"#m31cffbd454\" y=\"208.241357\"/>\n     <use style=\"fill:#1f77b4;stroke:#1f77b4;\" x=\"177.025269\" xlink:href=\"#m31cffbd454\" y=\"211.866986\"/>\n     <use style=\"fill:#1f77b4;stroke:#1f77b4;\" x=\"130.707434\" xlink:href=\"#m31cffbd454\" y=\"210.611404\"/>\n     <use style=\"fill:#1f77b4;stroke:#1f77b4;\" x=\"200.159204\" xlink:href=\"#m31cffbd454\" y=\"211.364029\"/>\n     <use style=\"fill:#1f77b4;stroke:#1f77b4;\" x=\"136.828184\" xlink:href=\"#m31cffbd454\" y=\"216.831419\"/>\n     <use style=\"fill:#1f77b4;stroke:#1f77b4;\" x=\"296.142549\" xlink:href=\"#m31cffbd454\" y=\"215.065644\"/>\n     <use style=\"fill:#1f77b4;stroke:#1f77b4;\" x=\"187.567948\" xlink:href=\"#m31cffbd454\" y=\"207.98807\"/>\n     <use style=\"fill:#1f77b4;stroke:#1f77b4;\" x=\"84.389599\" xlink:href=\"#m31cffbd454\" y=\"73.282592\"/>\n     <use style=\"fill:#1f77b4;stroke:#1f77b4;\" x=\"113.694249\" xlink:href=\"#m31cffbd454\" y=\"214.819593\"/>\n     <use style=\"fill:#1f77b4;stroke:#1f77b4;\" x=\"183.146018\" xlink:href=\"#m31cffbd454\" y=\"216.328462\"/>\n     <use style=\"fill:#1f77b4;stroke:#1f77b4;\" x=\"342.435401\" xlink:href=\"#m31cffbd454\" y=\"216.324844\"/>\n     <use style=\"fill:#1f77b4;stroke:#1f77b4;\" x=\"107.548517\" xlink:href=\"#m31cffbd454\" y=\"210.861073\"/>\n     <use style=\"fill:#1f77b4;stroke:#1f77b4;\" x=\"84.389599\" xlink:href=\"#m31cffbd454\" y=\"68.253027\"/>\n     <use style=\"fill:#1f77b4;stroke:#1f77b4;\" x=\"164.40903\" xlink:href=\"#m31cffbd454\" y=\"207.235445\"/>\n     <use style=\"fill:#1f77b4;stroke:#1f77b4;\" x=\"113.694249\" xlink:href=\"#m31cffbd454\" y=\"214.316637\"/>\n     <use style=\"fill:#1f77b4;stroke:#1f77b4;\" x=\"210.726865\" xlink:href=\"#m31cffbd454\" y=\"209.24727\"/>\n     <use style=\"fill:#1f77b4;stroke:#1f77b4;\" x=\"159.987101\" xlink:href=\"#m31cffbd454\" y=\"216.075175\"/>\n     <use style=\"fill:#1f77b4;stroke:#1f77b4;\" x=\"200.159204\" xlink:href=\"#m31cffbd454\" y=\"212.872899\"/>\n     <use style=\"fill:#1f77b4;stroke:#1f77b4;\" x=\"164.40903\" xlink:href=\"#m31cffbd454\" y=\"208.744314\"/>\n     <use style=\"fill:#1f77b4;stroke:#1f77b4;\" x=\"177.025269\" xlink:href=\"#m31cffbd454\" y=\"212.872899\"/>\n     <use style=\"fill:#1f77b4;stroke:#1f77b4;\" x=\"107.548517\" xlink:href=\"#m31cffbd454\" y=\"211.617317\"/>\n     <use style=\"fill:#1f77b4;stroke:#1f77b4;\" x=\"226.665796\" xlink:href=\"#m31cffbd454\" y=\"215.065644\"/>\n     <use style=\"fill:#1f77b4;stroke:#1f77b4;\" x=\"136.828184\" xlink:href=\"#m31cffbd454\" y=\"216.328462\"/>\n     <use style=\"fill:#1f77b4;stroke:#1f77b4;\" x=\"130.707434\" xlink:href=\"#m31cffbd454\" y=\"211.364029\"/>\n     <use style=\"fill:#1f77b4;stroke:#1f77b4;\" x=\"84.389599\" xlink:href=\"#m31cffbd454\" y=\"78.312156\"/>\n     <use style=\"fill:#1f77b4;stroke:#1f77b4;\" x=\"94.957261\" xlink:href=\"#m31cffbd454\" y=\"39.522999\"/>\n     <use style=\"fill:#1f77b4;stroke:#1f77b4;\" x=\"342.435401\" xlink:href=\"#m31cffbd454\" y=\"216.574513\"/>\n     <use style=\"fill:#1f77b4;stroke:#1f77b4;\" x=\"296.142549\" xlink:href=\"#m31cffbd454\" y=\"214.313018\"/>\n     <use style=\"fill:#1f77b4;stroke:#1f77b4;\" x=\"67.376414\" xlink:href=\"#m31cffbd454\" y=\"107.827375\"/>\n     <use style=\"fill:#1f77b4;stroke:#1f77b4;\" x=\"183.146018\" xlink:href=\"#m31cffbd454\" y=\"216.831419\"/>\n     <use style=\"fill:#1f77b4;stroke:#1f77b4;\" x=\"113.694249\" xlink:href=\"#m31cffbd454\" y=\"215.069262\"/>\n     <use style=\"fill:#1f77b4;stroke:#1f77b4;\" x=\"130.707434\" xlink:href=\"#m31cffbd454\" y=\"212.872899\"/>\n     <use style=\"fill:#1f77b4;stroke:#1f77b4;\" x=\"164.40903\" xlink:href=\"#m31cffbd454\" y=\"207.738401\"/>\n     <use style=\"fill:#1f77b4;stroke:#1f77b4;\" x=\"90.535331\" xlink:href=\"#m31cffbd454\" y=\"107.827375\"/>\n     <use style=\"fill:#1f77b4;stroke:#1f77b4;\" x=\"177.025269\" xlink:href=\"#m31cffbd454\" y=\"211.364029\"/>\n     <use style=\"fill:#1f77b4;stroke:#1f77b4;\" x=\"141.275095\" xlink:href=\"#m31cffbd454\" y=\"209.24727\"/>\n     <use style=\"fill:#1f77b4;stroke:#1f77b4;\" x=\"118.116178\" xlink:href=\"#m31cffbd454\" y=\"208.993983\"/>\n     <use style=\"fill:#1f77b4;stroke:#1f77b4;\" x=\"187.567948\" xlink:href=\"#m31cffbd454\" y=\"207.485114\"/>\n     <use style=\"fill:#1f77b4;stroke:#1f77b4;\" x=\"159.987101\" xlink:href=\"#m31cffbd454\" y=\"215.32255\"/>\n     <use style=\"fill:#1f77b4;stroke:#1f77b4;\" x=\"319.276483\" xlink:href=\"#m31cffbd454\" y=\"215.821888\"/>\n     <use style=\"fill:#1f77b4;stroke:#1f77b4;\" x=\"183.146018\" xlink:href=\"#m31cffbd454\" y=\"215.069262\"/>\n     <use style=\"fill:#1f77b4;stroke:#1f77b4;\" x=\"200.159204\" xlink:href=\"#m31cffbd454\" y=\"211.866986\"/>\n     <use style=\"fill:#1f77b4;stroke:#1f77b4;\" x=\"113.694249\" xlink:href=\"#m31cffbd454\" y=\"216.831419\"/>\n     <use style=\"fill:#1f77b4;stroke:#1f77b4;\" x=\"272.983631\" xlink:href=\"#m31cffbd454\" y=\"215.821888\"/>\n     <use style=\"fill:#1f77b4;stroke:#1f77b4;\" x=\"342.435401\" xlink:href=\"#m31cffbd454\" y=\"215.065644\"/>\n     <use style=\"fill:#1f77b4;stroke:#1f77b4;\" x=\"118.116178\" xlink:href=\"#m31cffbd454\" y=\"208.491026\"/>\n     <use style=\"fill:#1f77b4;stroke:#1f77b4;\" x=\"159.987101\" xlink:href=\"#m31cffbd454\" y=\"216.578131\"/>\n     <use style=\"fill:#1f77b4;stroke:#1f77b4;\" x=\"159.987101\" xlink:href=\"#m31cffbd454\" y=\"215.825506\"/>\n     <use style=\"fill:#1f77b4;stroke:#1f77b4;\" x=\"296.142549\" xlink:href=\"#m31cffbd454\" y=\"216.324844\"/>\n     <use style=\"fill:#1f77b4;stroke:#1f77b4;\" x=\"187.567948\" xlink:href=\"#m31cffbd454\" y=\"206.982157\"/>\n     <use style=\"fill:#1f77b4;stroke:#1f77b4;\" x=\"136.828184\" xlink:href=\"#m31cffbd454\" y=\"214.819593\"/>\n     <use style=\"fill:#1f77b4;stroke:#1f77b4;\" x=\"153.866351\" xlink:href=\"#m31cffbd454\" y=\"213.126186\"/>\n     <use style=\"fill:#1f77b4;stroke:#1f77b4;\" x=\"136.828184\" xlink:href=\"#m31cffbd454\" y=\"214.316637\"/>\n    </g>\n   </g>\n   <g id=\"matplotlib.axis_1\">\n    <g id=\"xtick_1\">\n     <g id=\"line2d_1\">\n      <defs>\n       <path d=\"M 0 0 \nL 0 3.5 \n\" id=\"m5584f422f5\" style=\"stroke:#000000;stroke-width:0.8;\"/>\n      </defs>\n      <g>\n       <use style=\"stroke:#000000;stroke-width:0.8;\" x=\"50.712986\" xlink:href=\"#m5584f422f5\" y=\"226.964724\"/>\n      </g>\n     </g>\n     <g id=\"text_1\">\n      <!-- 8000 -->\n      <g transform=\"translate(37.987986 241.563162)scale(0.1 -0.1)\">\n       <defs>\n        <path d=\"M 31.78125 34.625 \nQ 24.75 34.625 20.71875 30.859375 \nQ 16.703125 27.09375 16.703125 20.515625 \nQ 16.703125 13.921875 20.71875 10.15625 \nQ 24.75 6.390625 31.78125 6.390625 \nQ 38.8125 6.390625 42.859375 10.171875 \nQ 46.921875 13.96875 46.921875 20.515625 \nQ 46.921875 27.09375 42.890625 30.859375 \nQ 38.875 34.625 31.78125 34.625 \nz\nM 21.921875 38.8125 \nQ 15.578125 40.375 12.03125 44.71875 \nQ 8.5 49.078125 8.5 55.328125 \nQ 8.5 64.0625 14.71875 69.140625 \nQ 20.953125 74.21875 31.78125 74.21875 \nQ 42.671875 74.21875 48.875 69.140625 \nQ 55.078125 64.0625 55.078125 55.328125 \nQ 55.078125 49.078125 51.53125 44.71875 \nQ 48 40.375 41.703125 38.8125 \nQ 48.828125 37.15625 52.796875 32.3125 \nQ 56.78125 27.484375 56.78125 20.515625 \nQ 56.78125 9.90625 50.3125 4.234375 \nQ 43.84375 -1.421875 31.78125 -1.421875 \nQ 19.734375 -1.421875 13.25 4.234375 \nQ 6.78125 9.90625 6.78125 20.515625 \nQ 6.78125 27.484375 10.78125 32.3125 \nQ 14.796875 37.15625 21.921875 38.8125 \nz\nM 18.3125 54.390625 \nQ 18.3125 48.734375 21.84375 45.5625 \nQ 25.390625 42.390625 31.78125 42.390625 \nQ 38.140625 42.390625 41.71875 45.5625 \nQ 45.3125 48.734375 45.3125 54.390625 \nQ 45.3125 60.0625 41.71875 63.234375 \nQ 38.140625 66.40625 31.78125 66.40625 \nQ 25.390625 66.40625 21.84375 63.234375 \nQ 18.3125 60.0625 18.3125 54.390625 \nz\n\" id=\"DejaVuSans-56\"/>\n        <path d=\"M 31.78125 66.40625 \nQ 24.171875 66.40625 20.328125 58.90625 \nQ 16.5 51.421875 16.5 36.375 \nQ 16.5 21.390625 20.328125 13.890625 \nQ 24.171875 6.390625 31.78125 6.390625 \nQ 39.453125 6.390625 43.28125 13.890625 \nQ 47.125 21.390625 47.125 36.375 \nQ 47.125 51.421875 43.28125 58.90625 \nQ 39.453125 66.40625 31.78125 66.40625 \nz\nM 31.78125 74.21875 \nQ 44.046875 74.21875 50.515625 64.515625 \nQ 56.984375 54.828125 56.984375 36.375 \nQ 56.984375 17.96875 50.515625 8.265625 \nQ 44.046875 -1.421875 31.78125 -1.421875 \nQ 19.53125 -1.421875 13.0625 8.265625 \nQ 6.59375 17.96875 6.59375 36.375 \nQ 6.59375 54.828125 13.0625 64.515625 \nQ 19.53125 74.21875 31.78125 74.21875 \nz\n\" id=\"DejaVuSans-48\"/>\n       </defs>\n       <use xlink:href=\"#DejaVuSans-56\"/>\n       <use x=\"63.623047\" xlink:href=\"#DejaVuSans-48\"/>\n       <use x=\"127.246094\" xlink:href=\"#DejaVuSans-48\"/>\n       <use x=\"190.869141\" xlink:href=\"#DejaVuSans-48\"/>\n      </g>\n     </g>\n    </g>\n    <g id=\"xtick_2\">\n     <g id=\"line2d_2\">\n      <g>\n       <use style=\"stroke:#000000;stroke-width:0.8;\" x=\"100.678288\" xlink:href=\"#m5584f422f5\" y=\"226.964724\"/>\n      </g>\n     </g>\n     <g id=\"text_2\">\n      <!-- 10000 -->\n      <g transform=\"translate(84.772038 241.563162)scale(0.1 -0.1)\">\n       <defs>\n        <path d=\"M 12.40625 8.296875 \nL 28.515625 8.296875 \nL 28.515625 63.921875 \nL 10.984375 60.40625 \nL 10.984375 69.390625 \nL 28.421875 72.90625 \nL 38.28125 72.90625 \nL 38.28125 8.296875 \nL 54.390625 8.296875 \nL 54.390625 0 \nL 12.40625 0 \nz\n\" id=\"DejaVuSans-49\"/>\n       </defs>\n       <use xlink:href=\"#DejaVuSans-49\"/>\n       <use x=\"63.623047\" xlink:href=\"#DejaVuSans-48\"/>\n       <use x=\"127.246094\" xlink:href=\"#DejaVuSans-48\"/>\n       <use x=\"190.869141\" xlink:href=\"#DejaVuSans-48\"/>\n       <use x=\"254.492188\" xlink:href=\"#DejaVuSans-48\"/>\n      </g>\n     </g>\n    </g>\n    <g id=\"xtick_3\">\n     <g id=\"line2d_3\">\n      <g>\n       <use style=\"stroke:#000000;stroke-width:0.8;\" x=\"150.64359\" xlink:href=\"#m5584f422f5\" y=\"226.964724\"/>\n      </g>\n     </g>\n     <g id=\"text_3\">\n      <!-- 12000 -->\n      <g transform=\"translate(134.73734 241.563162)scale(0.1 -0.1)\">\n       <defs>\n        <path d=\"M 19.1875 8.296875 \nL 53.609375 8.296875 \nL 53.609375 0 \nL 7.328125 0 \nL 7.328125 8.296875 \nQ 12.9375 14.109375 22.625 23.890625 \nQ 32.328125 33.6875 34.8125 36.53125 \nQ 39.546875 41.84375 41.421875 45.53125 \nQ 43.3125 49.21875 43.3125 52.78125 \nQ 43.3125 58.59375 39.234375 62.25 \nQ 35.15625 65.921875 28.609375 65.921875 \nQ 23.96875 65.921875 18.8125 64.3125 \nQ 13.671875 62.703125 7.8125 59.421875 \nL 7.8125 69.390625 \nQ 13.765625 71.78125 18.9375 73 \nQ 24.125 74.21875 28.421875 74.21875 \nQ 39.75 74.21875 46.484375 68.546875 \nQ 53.21875 62.890625 53.21875 53.421875 \nQ 53.21875 48.921875 51.53125 44.890625 \nQ 49.859375 40.875 45.40625 35.40625 \nQ 44.1875 33.984375 37.640625 27.21875 \nQ 31.109375 20.453125 19.1875 8.296875 \nz\n\" id=\"DejaVuSans-50\"/>\n       </defs>\n       <use xlink:href=\"#DejaVuSans-49\"/>\n       <use x=\"63.623047\" xlink:href=\"#DejaVuSans-50\"/>\n       <use x=\"127.246094\" xlink:href=\"#DejaVuSans-48\"/>\n       <use x=\"190.869141\" xlink:href=\"#DejaVuSans-48\"/>\n       <use x=\"254.492188\" xlink:href=\"#DejaVuSans-48\"/>\n      </g>\n     </g>\n    </g>\n    <g id=\"xtick_4\">\n     <g id=\"line2d_4\">\n      <g>\n       <use style=\"stroke:#000000;stroke-width:0.8;\" x=\"200.608891\" xlink:href=\"#m5584f422f5\" y=\"226.964724\"/>\n      </g>\n     </g>\n     <g id=\"text_4\">\n      <!-- 14000 -->\n      <g transform=\"translate(184.702641 241.563162)scale(0.1 -0.1)\">\n       <defs>\n        <path d=\"M 37.796875 64.3125 \nL 12.890625 25.390625 \nL 37.796875 25.390625 \nz\nM 35.203125 72.90625 \nL 47.609375 72.90625 \nL 47.609375 25.390625 \nL 58.015625 25.390625 \nL 58.015625 17.1875 \nL 47.609375 17.1875 \nL 47.609375 0 \nL 37.796875 0 \nL 37.796875 17.1875 \nL 4.890625 17.1875 \nL 4.890625 26.703125 \nz\n\" id=\"DejaVuSans-52\"/>\n       </defs>\n       <use xlink:href=\"#DejaVuSans-49\"/>\n       <use x=\"63.623047\" xlink:href=\"#DejaVuSans-52\"/>\n       <use x=\"127.246094\" xlink:href=\"#DejaVuSans-48\"/>\n       <use x=\"190.869141\" xlink:href=\"#DejaVuSans-48\"/>\n       <use x=\"254.492188\" xlink:href=\"#DejaVuSans-48\"/>\n      </g>\n     </g>\n    </g>\n    <g id=\"xtick_5\">\n     <g id=\"line2d_5\">\n      <g>\n       <use style=\"stroke:#000000;stroke-width:0.8;\" x=\"250.574193\" xlink:href=\"#m5584f422f5\" y=\"226.964724\"/>\n      </g>\n     </g>\n     <g id=\"text_5\">\n      <!-- 16000 -->\n      <g transform=\"translate(234.667943 241.563162)scale(0.1 -0.1)\">\n       <defs>\n        <path d=\"M 33.015625 40.375 \nQ 26.375 40.375 22.484375 35.828125 \nQ 18.609375 31.296875 18.609375 23.390625 \nQ 18.609375 15.53125 22.484375 10.953125 \nQ 26.375 6.390625 33.015625 6.390625 \nQ 39.65625 6.390625 43.53125 10.953125 \nQ 47.40625 15.53125 47.40625 23.390625 \nQ 47.40625 31.296875 43.53125 35.828125 \nQ 39.65625 40.375 33.015625 40.375 \nz\nM 52.59375 71.296875 \nL 52.59375 62.3125 \nQ 48.875 64.0625 45.09375 64.984375 \nQ 41.3125 65.921875 37.59375 65.921875 \nQ 27.828125 65.921875 22.671875 59.328125 \nQ 17.53125 52.734375 16.796875 39.40625 \nQ 19.671875 43.65625 24.015625 45.921875 \nQ 28.375 48.1875 33.59375 48.1875 \nQ 44.578125 48.1875 50.953125 41.515625 \nQ 57.328125 34.859375 57.328125 23.390625 \nQ 57.328125 12.15625 50.6875 5.359375 \nQ 44.046875 -1.421875 33.015625 -1.421875 \nQ 20.359375 -1.421875 13.671875 8.265625 \nQ 6.984375 17.96875 6.984375 36.375 \nQ 6.984375 53.65625 15.1875 63.9375 \nQ 23.390625 74.21875 37.203125 74.21875 \nQ 40.921875 74.21875 44.703125 73.484375 \nQ 48.484375 72.75 52.59375 71.296875 \nz\n\" id=\"DejaVuSans-54\"/>\n       </defs>\n       <use xlink:href=\"#DejaVuSans-49\"/>\n       <use x=\"63.623047\" xlink:href=\"#DejaVuSans-54\"/>\n       <use x=\"127.246094\" xlink:href=\"#DejaVuSans-48\"/>\n       <use x=\"190.869141\" xlink:href=\"#DejaVuSans-48\"/>\n       <use x=\"254.492188\" xlink:href=\"#DejaVuSans-48\"/>\n      </g>\n     </g>\n    </g>\n    <g id=\"xtick_6\">\n     <g id=\"line2d_6\">\n      <g>\n       <use style=\"stroke:#000000;stroke-width:0.8;\" x=\"300.539495\" xlink:href=\"#m5584f422f5\" y=\"226.964724\"/>\n      </g>\n     </g>\n     <g id=\"text_6\">\n      <!-- 18000 -->\n      <g transform=\"translate(284.633245 241.563162)scale(0.1 -0.1)\">\n       <use xlink:href=\"#DejaVuSans-49\"/>\n       <use x=\"63.623047\" xlink:href=\"#DejaVuSans-56\"/>\n       <use x=\"127.246094\" xlink:href=\"#DejaVuSans-48\"/>\n       <use x=\"190.869141\" xlink:href=\"#DejaVuSans-48\"/>\n       <use x=\"254.492188\" xlink:href=\"#DejaVuSans-48\"/>\n      </g>\n     </g>\n    </g>\n    <g id=\"xtick_7\">\n     <g id=\"line2d_7\">\n      <g>\n       <use style=\"stroke:#000000;stroke-width:0.8;\" x=\"350.504797\" xlink:href=\"#m5584f422f5\" y=\"226.964724\"/>\n      </g>\n     </g>\n     <g id=\"text_7\">\n      <!-- 20000 -->\n      <g transform=\"translate(334.598547 241.563162)scale(0.1 -0.1)\">\n       <use xlink:href=\"#DejaVuSans-50\"/>\n       <use x=\"63.623047\" xlink:href=\"#DejaVuSans-48\"/>\n       <use x=\"127.246094\" xlink:href=\"#DejaVuSans-48\"/>\n       <use x=\"190.869141\" xlink:href=\"#DejaVuSans-48\"/>\n       <use x=\"254.492188\" xlink:href=\"#DejaVuSans-48\"/>\n      </g>\n     </g>\n    </g>\n   </g>\n   <g id=\"matplotlib.axis_2\">\n    <g id=\"ytick_1\">\n     <g id=\"line2d_8\">\n      <defs>\n       <path d=\"M 0 0 \nL -3.5 0 \n\" id=\"m74119bd554\" style=\"stroke:#000000;stroke-width:0.8;\"/>\n      </defs>\n      <g>\n       <use style=\"stroke:#000000;stroke-width:0.8;\" x=\"46.0125\" xlink:href=\"#m74119bd554\" y=\"191.918793\"/>\n      </g>\n     </g>\n     <g id=\"text_8\">\n      <!-- 10000 -->\n      <g transform=\"translate(7.2 195.718012)scale(0.1 -0.1)\">\n       <use xlink:href=\"#DejaVuSans-49\"/>\n       <use x=\"63.623047\" xlink:href=\"#DejaVuSans-48\"/>\n       <use x=\"127.246094\" xlink:href=\"#DejaVuSans-48\"/>\n       <use x=\"190.869141\" xlink:href=\"#DejaVuSans-48\"/>\n       <use x=\"254.492188\" xlink:href=\"#DejaVuSans-48\"/>\n      </g>\n     </g>\n    </g>\n    <g id=\"ytick_2\">\n     <g id=\"line2d_9\">\n      <g>\n       <use style=\"stroke:#000000;stroke-width:0.8;\" x=\"46.0125\" xlink:href=\"#m74119bd554\" y=\"155.734878\"/>\n      </g>\n     </g>\n     <g id=\"text_9\">\n      <!-- 20000 -->\n      <g transform=\"translate(7.2 159.534097)scale(0.1 -0.1)\">\n       <use xlink:href=\"#DejaVuSans-50\"/>\n       <use x=\"63.623047\" xlink:href=\"#DejaVuSans-48\"/>\n       <use x=\"127.246094\" xlink:href=\"#DejaVuSans-48\"/>\n       <use x=\"190.869141\" xlink:href=\"#DejaVuSans-48\"/>\n       <use x=\"254.492188\" xlink:href=\"#DejaVuSans-48\"/>\n      </g>\n     </g>\n    </g>\n    <g id=\"ytick_3\">\n     <g id=\"line2d_10\">\n      <g>\n       <use style=\"stroke:#000000;stroke-width:0.8;\" x=\"46.0125\" xlink:href=\"#m74119bd554\" y=\"119.550964\"/>\n      </g>\n     </g>\n     <g id=\"text_10\">\n      <!-- 30000 -->\n      <g transform=\"translate(7.2 123.350182)scale(0.1 -0.1)\">\n       <defs>\n        <path d=\"M 40.578125 39.3125 \nQ 47.65625 37.796875 51.625 33 \nQ 55.609375 28.21875 55.609375 21.1875 \nQ 55.609375 10.40625 48.1875 4.484375 \nQ 40.765625 -1.421875 27.09375 -1.421875 \nQ 22.515625 -1.421875 17.65625 -0.515625 \nQ 12.796875 0.390625 7.625 2.203125 \nL 7.625 11.71875 \nQ 11.71875 9.328125 16.59375 8.109375 \nQ 21.484375 6.890625 26.8125 6.890625 \nQ 36.078125 6.890625 40.9375 10.546875 \nQ 45.796875 14.203125 45.796875 21.1875 \nQ 45.796875 27.640625 41.28125 31.265625 \nQ 36.765625 34.90625 28.71875 34.90625 \nL 20.21875 34.90625 \nL 20.21875 43.015625 \nL 29.109375 43.015625 \nQ 36.375 43.015625 40.234375 45.921875 \nQ 44.09375 48.828125 44.09375 54.296875 \nQ 44.09375 59.90625 40.109375 62.90625 \nQ 36.140625 65.921875 28.71875 65.921875 \nQ 24.65625 65.921875 20.015625 65.03125 \nQ 15.375 64.15625 9.8125 62.3125 \nL 9.8125 71.09375 \nQ 15.4375 72.65625 20.34375 73.4375 \nQ 25.25 74.21875 29.59375 74.21875 \nQ 40.828125 74.21875 47.359375 69.109375 \nQ 53.90625 64.015625 53.90625 55.328125 \nQ 53.90625 49.265625 50.4375 45.09375 \nQ 46.96875 40.921875 40.578125 39.3125 \nz\n\" id=\"DejaVuSans-51\"/>\n       </defs>\n       <use xlink:href=\"#DejaVuSans-51\"/>\n       <use x=\"63.623047\" xlink:href=\"#DejaVuSans-48\"/>\n       <use x=\"127.246094\" xlink:href=\"#DejaVuSans-48\"/>\n       <use x=\"190.869141\" xlink:href=\"#DejaVuSans-48\"/>\n       <use x=\"254.492188\" xlink:href=\"#DejaVuSans-48\"/>\n      </g>\n     </g>\n    </g>\n    <g id=\"ytick_4\">\n     <g id=\"line2d_11\">\n      <g>\n       <use style=\"stroke:#000000;stroke-width:0.8;\" x=\"46.0125\" xlink:href=\"#m74119bd554\" y=\"83.367049\"/>\n      </g>\n     </g>\n     <g id=\"text_11\">\n      <!-- 40000 -->\n      <g transform=\"translate(7.2 87.166267)scale(0.1 -0.1)\">\n       <use xlink:href=\"#DejaVuSans-52\"/>\n       <use x=\"63.623047\" xlink:href=\"#DejaVuSans-48\"/>\n       <use x=\"127.246094\" xlink:href=\"#DejaVuSans-48\"/>\n       <use x=\"190.869141\" xlink:href=\"#DejaVuSans-48\"/>\n       <use x=\"254.492188\" xlink:href=\"#DejaVuSans-48\"/>\n      </g>\n     </g>\n    </g>\n    <g id=\"ytick_5\">\n     <g id=\"line2d_12\">\n      <g>\n       <use style=\"stroke:#000000;stroke-width:0.8;\" x=\"46.0125\" xlink:href=\"#m74119bd554\" y=\"47.183134\"/>\n      </g>\n     </g>\n     <g id=\"text_12\">\n      <!-- 50000 -->\n      <g transform=\"translate(7.2 50.982352)scale(0.1 -0.1)\">\n       <defs>\n        <path d=\"M 10.796875 72.90625 \nL 49.515625 72.90625 \nL 49.515625 64.59375 \nL 19.828125 64.59375 \nL 19.828125 46.734375 \nQ 21.96875 47.46875 24.109375 47.828125 \nQ 26.265625 48.1875 28.421875 48.1875 \nQ 40.625 48.1875 47.75 41.5 \nQ 54.890625 34.8125 54.890625 23.390625 \nQ 54.890625 11.625 47.5625 5.09375 \nQ 40.234375 -1.421875 26.90625 -1.421875 \nQ 22.3125 -1.421875 17.546875 -0.640625 \nQ 12.796875 0.140625 7.71875 1.703125 \nL 7.71875 11.625 \nQ 12.109375 9.234375 16.796875 8.0625 \nQ 21.484375 6.890625 26.703125 6.890625 \nQ 35.15625 6.890625 40.078125 11.328125 \nQ 45.015625 15.765625 45.015625 23.390625 \nQ 45.015625 31 40.078125 35.4375 \nQ 35.15625 39.890625 26.703125 39.890625 \nQ 22.75 39.890625 18.8125 39.015625 \nQ 14.890625 38.140625 10.796875 36.28125 \nz\n\" id=\"DejaVuSans-53\"/>\n       </defs>\n       <use xlink:href=\"#DejaVuSans-53\"/>\n       <use x=\"63.623047\" xlink:href=\"#DejaVuSans-48\"/>\n       <use x=\"127.246094\" xlink:href=\"#DejaVuSans-48\"/>\n       <use x=\"190.869141\" xlink:href=\"#DejaVuSans-48\"/>\n       <use x=\"254.492188\" xlink:href=\"#DejaVuSans-48\"/>\n      </g>\n     </g>\n    </g>\n    <g id=\"ytick_6\">\n     <g id=\"line2d_13\">\n      <g>\n       <use style=\"stroke:#000000;stroke-width:0.8;\" x=\"46.0125\" xlink:href=\"#m74119bd554\" y=\"10.999219\"/>\n      </g>\n     </g>\n     <g id=\"text_13\">\n      <!-- 60000 -->\n      <g transform=\"translate(7.2 14.798437)scale(0.1 -0.1)\">\n       <use xlink:href=\"#DejaVuSans-54\"/>\n       <use x=\"63.623047\" xlink:href=\"#DejaVuSans-48\"/>\n       <use x=\"127.246094\" xlink:href=\"#DejaVuSans-48\"/>\n       <use x=\"190.869141\" xlink:href=\"#DejaVuSans-48\"/>\n       <use x=\"254.492188\" xlink:href=\"#DejaVuSans-48\"/>\n      </g>\n     </g>\n    </g>\n   </g>\n   <g id=\"patch_3\">\n    <path d=\"M 46.0125 226.964724 \nL 46.0125 9.524724 \n\" style=\"fill:none;stroke:#000000;stroke-linecap:square;stroke-linejoin:miter;stroke-width:0.8;\"/>\n   </g>\n   <g id=\"patch_4\">\n    <path d=\"M 380.8125 226.964724 \nL 380.8125 9.524724 \n\" style=\"fill:none;stroke:#000000;stroke-linecap:square;stroke-linejoin:miter;stroke-width:0.8;\"/>\n   </g>\n   <g id=\"patch_5\">\n    <path d=\"M 46.0125 226.964724 \nL 380.8125 226.964724 \n\" style=\"fill:none;stroke:#000000;stroke-linecap:square;stroke-linejoin:miter;stroke-width:0.8;\"/>\n   </g>\n   <g id=\"patch_6\">\n    <path d=\"M 46.0125 9.524724 \nL 380.8125 9.524724 \n\" style=\"fill:none;stroke:#000000;stroke-linecap:square;stroke-linejoin:miter;stroke-width:0.8;\"/>\n   </g>\n  </g>\n </g>\n <defs>\n  <clipPath id=\"pe4668302a9\">\n   <rect height=\"217.44\" width=\"334.8\" x=\"46.0125\" y=\"9.524724\"/>\n  </clipPath>\n </defs>\n</svg>\n",
      "image/png": "[encoded data removed]"
     },
     "metadata": {
      "needs_background": "light"
     }
    }
   ],
   "source": [
    "#scatter plot x,y coordinates\n",
    "fig, ax = plt.subplots()\n",
    "ax.scatter(coord_array[:,0], coord_array[:,1])\n",
    "plt.show()"
   ]
  },
  {
   "cell_type": "code",
   "execution_count": 45,
   "metadata": {},
   "outputs": [
    {
     "output_type": "execute_result",
     "data": {
      "text/plain": [
       "([9771, 56981],\n",
       " [8667, 34630],\n",
       " [16897, 3533],\n",
       " [11625, 5837],\n",
       " [15970, 3255],\n",
       " [13056, 4556],\n",
       " [10275, 4209],\n",
       " [18750, 3533],\n",
       " [13982, 4765],\n",
       " [10698, 5767],\n",
       " [20604, 3186],\n",
       " [9594, 34630],\n",
       " [11625, 5698],\n",
       " [10275, 4626],\n",
       " [18750, 3116],\n",
       " [11202, 4556],\n",
       " [16897, 3116],\n",
       " [13478, 5211],\n",
       " [10698, 5489],\n",
       " [20604, 3603],\n",
       " [14228, 3602],\n",
       " [15970, 3811],\n",
       " [11447, 3741],\n",
       " [12129, 4070],\n",
       " [14405, 5559],\n",
       " [10275, 4834],\n",
       " [9348, 46956],\n",
       " [13301, 3741],\n",
       " [9771, 55591],\n",
       " [10275, 4487],\n",
       " [14228, 3671],\n",
       " [18750, 3464],\n",
       " [15970, 3603],\n",
       " [16897, 3464],\n",
       " [12551, 5420],\n",
       " [11625, 5559],\n",
       " [12129, 4348],\n",
       " [16897, 3672],\n",
       " [14228, 3254],\n",
       " [9348, 43482],\n",
       " [11202, 4765],\n",
       " [10698, 5628],\n",
       " [12374, 3046],\n",
       " [12551, 5281],\n",
       " [18750, 3672],\n",
       " [10698, 5350],\n",
       " [16897, 3325],\n",
       " [13982, 4556],\n",
       " [12374, 3463],\n",
       " [15970, 3186],\n",
       " [14405, 5698],\n",
       " [13478, 5142],\n",
       " [12129, 4695],\n",
       " [13056, 4765],\n",
       " [18750, 3325],\n",
       " [10521, 3741],\n",
       " [20604, 3255],\n",
       " [13982, 4278],\n",
       " [10521, 3185],\n",
       " [9771, 52812],\n",
       " [10521, 3393],\n",
       " [19677, 3116],\n",
       " [10521, 3532],\n",
       " [9594, 32546],\n",
       " [17824, 3464],\n",
       " [12374, 3115],\n",
       " [9348, 46261],\n",
       " [11202, 4139],\n",
       " [13478, 5489],\n",
       " [9348, 42092],\n",
       " [10698, 5211],\n",
       " [11447, 3324],\n",
       " [11625, 5281],\n",
       " [13982, 4417],\n",
       " [19677, 3533],\n",
       " [13056, 4139],\n",
       " [8667, 32546],\n",
       " [10275, 4070],\n",
       " [17824, 3325],\n",
       " [11625, 5420],\n",
       " [15970, 3742],\n",
       " [12551, 5559],\n",
       " [12129, 4209],\n",
       " [13478, 5767],\n",
       " [12129, 4626],\n",
       " [15043, 3533],\n",
       " [17824, 3672],\n",
       " [9771, 54201],\n",
       " [20604, 3394],\n",
       " [13301, 3393],\n",
       " [13301, 3185],\n",
       " [9594, 38104],\n",
       " [8421, 45566],\n",
       " [9594, 36715],\n",
       " [13301, 3532],\n",
       " [12374, 3602],\n",
       " [19677, 3464],\n",
       " [11447, 3185],\n",
       " [11447, 3393],\n",
       " [14405, 5420],\n",
       " [10698, 5142],\n",
       " [9348, 44871],\n",
       " [17824, 3116],\n",
       " [13478, 5350],\n",
       " [15970, 3394],\n",
       " [11447, 3532],\n",
       " [8667, 36020],\n",
       " [12374, 3810],\n",
       " [10521, 3324],\n",
       " [10275, 4695],\n",
       " [13478, 5628],\n",
       " [17824, 3533],\n",
       " [9594, 36020],\n",
       " [12374, 3671],\n",
       " [12129, 4834],\n",
       " [13982, 4139],\n",
       " [13301, 3324],\n",
       " [19677, 3325],\n",
       " [11202, 4278],\n",
       " [9594, 31156],\n",
       " [12551, 5698],\n",
       " [13056, 4417],\n",
       " [12374, 3254],\n",
       " [15043, 3464],\n",
       " [12129, 4487],\n",
       " [14405, 5281],\n",
       " [19677, 3672],\n",
       " [13056, 4278],\n",
       " [10275, 4348],\n",
       " [14228, 3463],\n",
       " [11202, 4417],\n",
       " [12551, 5837],\n",
       " [10521, 3046],\n",
       " [14405, 5489],\n",
       " [20604, 3464],\n",
       " [11202, 4695],\n",
       " [12374, 3741],\n",
       " [18750, 3811],\n",
       " [10698, 5559],\n",
       " [19677, 3047],\n",
       " [19677, 3742],\n",
       " [16897, 3811],\n",
       " [12129, 4765],\n",
       " [13056, 4695],\n",
       " [10521, 3463],\n",
       " [11625, 5628],\n",
       " [9348, 47651],\n",
       " [10275, 4417],\n",
       " [15970, 3533],\n",
       " [16897, 3255],\n",
       " [12551, 5211],\n",
       " [14405, 5767],\n",
       " [11202, 4348],\n",
       " [13301, 3463],\n",
       " [18750, 3255],\n",
       " [20604, 3325],\n",
       " [9771, 53506],\n",
       " [14228, 3324],\n",
       " [9771, 56286],\n",
       " [13056, 4348],\n",
       " [10275, 4278],\n",
       " [11625, 5350],\n",
       " [17824, 3394],\n",
       " [20604, 3672],\n",
       " [15970, 3116],\n",
       " [14405, 5628],\n",
       " [11202, 4070],\n",
       " [15970, 3672],\n",
       " [11447, 3046],\n",
       " [11625, 5767],\n",
       " [13982, 4348],\n",
       " [10698, 5837],\n",
       " [13478, 5420],\n",
       " [17824, 3742],\n",
       " [16897, 3186],\n",
       " [9771, 57676],\n",
       " [13056, 4070],\n",
       " [10275, 4139],\n",
       " [15970, 3325],\n",
       " [20604, 3533],\n",
       " [14405, 5350],\n",
       " [11447, 3463],\n",
       " [10698, 5698],\n",
       " [17824, 3047],\n",
       " [18750, 3186],\n",
       " [9348, 45566],\n",
       " [12129, 4556],\n",
       " [13478, 5281],\n",
       " [14228, 3185],\n",
       " [14228, 3393],\n",
       " [11625, 5906],\n",
       " [11625, 5489],\n",
       " [13982, 4695],\n",
       " [14228, 3532],\n",
       " [19677, 3394],\n",
       " [9771, 54896],\n",
       " [16897, 3603],\n",
       " [9594, 37410],\n",
       " [12551, 5142],\n",
       " [18750, 3603],\n",
       " [15970, 3464],\n",
       " [11625, 5142],\n",
       " [16897, 3742],\n",
       " [17824, 3186],\n",
       " [9594, 35325],\n",
       " [10521, 3254],\n",
       " [18750, 3047],\n",
       " [12129, 4417],\n",
       " [13301, 3671],\n",
       " [19677, 3811],\n",
       " [13301, 3810],\n",
       " [9594, 33935],\n",
       " [9594, 31851],\n",
       " [11202, 4487],\n",
       " [13056, 4834],\n",
       " [16897, 3047],\n",
       " [18750, 3742],\n",
       " [12129, 4278],\n",
       " [8667, 35325],\n",
       " [11447, 3602],\n",
       " [8667, 33935],\n",
       " [12551, 5906],\n",
       " [12551, 5489],\n",
       " [13056, 4487],\n",
       " [11202, 4834],\n",
       " [13982, 4626],\n",
       " [11447, 3115],\n",
       " [17824, 3603],\n",
       " [13478, 5559],\n",
       " [9348, 42787],\n",
       " [10521, 3671],\n",
       " [13301, 3254],\n",
       " [19677, 3255],\n",
       " [10275, 4765],\n",
       " [9348, 44177],\n",
       " [12551, 5767],\n",
       " [10521, 3810],\n",
       " [14405, 5211],\n",
       " [12374, 3324],\n",
       " [13982, 4209],\n",
       " [12551, 5350],\n",
       " [13056, 4209],\n",
       " [10275, 4556],\n",
       " [15043, 3603],\n",
       " [11447, 3254],\n",
       " [11202, 4626],\n",
       " [9348, 41397],\n",
       " [9771, 52117],\n",
       " [19677, 3186],\n",
       " [17824, 3811],\n",
       " [8667, 33240],\n",
       " [13301, 3115],\n",
       " [10521, 3602],\n",
       " [11202, 4209],\n",
       " [12551, 5628],\n",
       " [9594, 33240],\n",
       " [13056, 4626],\n",
       " [11625, 5211],\n",
       " [10698, 5281],\n",
       " [13478, 5698],\n",
       " [12374, 3532],\n",
       " [18750, 3394],\n",
       " [13301, 3602],\n",
       " [13982, 4487],\n",
       " [10521, 3115],\n",
       " [16897, 3394],\n",
       " [19677, 3603],\n",
       " [10698, 5420],\n",
       " [12374, 3185],\n",
       " [12374, 3393],\n",
       " [17824, 3255],\n",
       " [13478, 5837],\n",
       " [11447, 3671],\n",
       " [12129, 4139],\n",
       " [11447, 3810])"
      ]
     },
     "metadata": {},
     "execution_count": 45
    }
   ],
   "source": [
    "coord_int[:][0]"
   ]
  },
  {
   "cell_type": "code",
   "execution_count": null,
   "metadata": {},
   "outputs": [],
   "source": [
    "coord_array = np.array(coord_int)[0]"
   ]
  },
  {
   "cell_type": "code",
   "execution_count": 33,
   "metadata": {},
   "outputs": [
    {
     "output_type": "execute_result",
     "data": {
      "text/plain": [
       "numpy.ndarray"
      ]
     },
     "metadata": {},
     "execution_count": 33
    }
   ],
   "source": [
    "type(coord_array)"
   ]
  },
  {
   "cell_type": "code",
   "execution_count": 34,
   "metadata": {},
   "outputs": [
    {
     "output_type": "execute_result",
     "data": {
      "text/plain": [
       "(275, 2)"
      ]
     },
     "metadata": {},
     "execution_count": 34
    }
   ],
   "source": [
    "coord_array.shape"
   ]
  },
  {
   "cell_type": "code",
   "execution_count": 35,
   "metadata": {},
   "outputs": [
    {
     "output_type": "stream",
     "name": "stdout",
     "text": [
      "[[ 9771 56981]\n [ 8667 34630]\n [16897  3533]\n [11625  5837]\n [15970  3255]\n [13056  4556]\n [10275  4209]\n [18750  3533]\n [13982  4765]\n [10698  5767]\n [20604  3186]\n [ 9594 34630]\n [11625  5698]\n [10275  4626]\n [18750  3116]\n [11202  4556]\n [16897  3116]\n [13478  5211]\n [10698  5489]\n [20604  3603]\n [14228  3602]\n [15970  3811]\n [11447  3741]\n [12129  4070]\n [14405  5559]\n [10275  4834]\n [ 9348 46956]\n [13301  3741]\n [ 9771 55591]\n [10275  4487]\n [14228  3671]\n [18750  3464]\n [15970  3603]\n [16897  3464]\n [12551  5420]\n [11625  5559]\n [12129  4348]\n [16897  3672]\n [14228  3254]\n [ 9348 43482]\n [11202  4765]\n [10698  5628]\n [12374  3046]\n [12551  5281]\n [18750  3672]\n [10698  5350]\n [16897  3325]\n [13982  4556]\n [12374  3463]\n [15970  3186]\n [14405  5698]\n [13478  5142]\n [12129  4695]\n [13056  4765]\n [18750  3325]\n [10521  3741]\n [20604  3255]\n [13982  4278]\n [10521  3185]\n [ 9771 52812]\n [10521  3393]\n [19677  3116]\n [10521  3532]\n [ 9594 32546]\n [17824  3464]\n [12374  3115]\n [ 9348 46261]\n [11202  4139]\n [13478  5489]\n [ 9348 42092]\n [10698  5211]\n [11447  3324]\n [11625  5281]\n [13982  4417]\n [19677  3533]\n [13056  4139]\n [ 8667 32546]\n [10275  4070]\n [17824  3325]\n [11625  5420]\n [15970  3742]\n [12551  5559]\n [12129  4209]\n [13478  5767]\n [12129  4626]\n [15043  3533]\n [17824  3672]\n [ 9771 54201]\n [20604  3394]\n [13301  3393]\n [13301  3185]\n [ 9594 38104]\n [ 8421 45566]\n [ 9594 36715]\n [13301  3532]\n [12374  3602]\n [19677  3464]\n [11447  3185]\n [11447  3393]\n [14405  5420]\n [10698  5142]\n [ 9348 44871]\n [17824  3116]\n [13478  5350]\n [15970  3394]\n [11447  3532]\n [ 8667 36020]\n [12374  3810]\n [10521  3324]\n [10275  4695]\n [13478  5628]\n [17824  3533]\n [ 9594 36020]\n [12374  3671]\n [12129  4834]\n [13982  4139]\n [13301  3324]\n [19677  3325]\n [11202  4278]\n [ 9594 31156]\n [12551  5698]\n [13056  4417]\n [12374  3254]\n [15043  3464]\n [12129  4487]\n [14405  5281]\n [19677  3672]\n [13056  4278]\n [10275  4348]\n [14228  3463]\n [11202  4417]\n [12551  5837]\n [10521  3046]\n [14405  5489]\n [20604  3464]\n [11202  4695]\n [12374  3741]\n [18750  3811]\n [10698  5559]\n [19677  3047]\n [19677  3742]\n [16897  3811]\n [12129  4765]\n [13056  4695]\n [10521  3463]\n [11625  5628]\n [ 9348 47651]\n [10275  4417]\n [15970  3533]\n [16897  3255]\n [12551  5211]\n [14405  5767]\n [11202  4348]\n [13301  3463]\n [18750  3255]\n [20604  3325]\n [ 9771 53506]\n [14228  3324]\n [ 9771 56286]\n [13056  4348]\n [10275  4278]\n [11625  5350]\n [17824  3394]\n [20604  3672]\n [15970  3116]\n [14405  5628]\n [11202  4070]\n [15970  3672]\n [11447  3046]\n [11625  5767]\n [13982  4348]\n [10698  5837]\n [13478  5420]\n [17824  3742]\n [16897  3186]\n [ 9771 57676]\n [13056  4070]\n [10275  4139]\n [15970  3325]\n [20604  3533]\n [14405  5350]\n [11447  3463]\n [10698  5698]\n [17824  3047]\n [18750  3186]\n [ 9348 45566]\n [12129  4556]\n [13478  5281]\n [14228  3185]\n [14228  3393]\n [11625  5906]\n [11625  5489]\n [13982  4695]\n [14228  3532]\n [19677  3394]\n [ 9771 54896]\n [16897  3603]\n [ 9594 37410]\n [12551  5142]\n [18750  3603]\n [15970  3464]\n [11625  5142]\n [16897  3742]\n [17824  3186]\n [ 9594 35325]\n [10521  3254]\n [18750  3047]\n [12129  4417]\n [13301  3671]\n [19677  3811]\n [13301  3810]\n [ 9594 33935]\n [ 9594 31851]\n [11202  4487]\n [13056  4834]\n [16897  3047]\n [18750  3742]\n [12129  4278]\n [ 8667 35325]\n [11447  3602]\n [ 8667 33935]\n [12551  5906]\n [12551  5489]\n [13056  4487]\n [11202  4834]\n [13982  4626]\n [11447  3115]\n [17824  3603]\n [13478  5559]\n [ 9348 42787]\n [10521  3671]\n [13301  3254]\n [19677  3255]\n [10275  4765]\n [ 9348 44177]\n [12551  5767]\n [10521  3810]\n [14405  5211]\n [12374  3324]\n [13982  4209]\n [12551  5350]\n [13056  4209]\n [10275  4556]\n [15043  3603]\n [11447  3254]\n [11202  4626]\n [ 9348 41397]\n [ 9771 52117]\n [19677  3186]\n [17824  3811]\n [ 8667 33240]\n [13301  3115]\n [10521  3602]\n [11202  4209]\n [12551  5628]\n [ 9594 33240]\n [13056  4626]\n [11625  5211]\n [10698  5281]\n [13478  5698]\n [12374  3532]\n [18750  3394]\n [13301  3602]\n [13982  4487]\n [10521  3115]\n [16897  3394]\n [19677  3603]\n [10698  5420]\n [12374  3185]\n [12374  3393]\n [17824  3255]\n [13478  5837]\n [11447  3671]\n [12129  4139]\n [11447  3810]]\n"
     ]
    }
   ],
   "source": [
    "print(coord_array)"
   ]
  },
  {
   "cell_type": "code",
   "execution_count": null,
   "metadata": {},
   "outputs": [],
   "source": []
  }
 ]
}