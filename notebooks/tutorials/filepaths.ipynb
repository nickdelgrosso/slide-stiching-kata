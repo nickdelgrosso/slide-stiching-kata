{
 "metadata": {
  "language_info": {
   "codemirror_mode": {
    "name": "ipython",
    "version": 3
   },
   "file_extension": ".py",
   "mimetype": "text/x-python",
   "name": "python",
   "nbconvert_exporter": "python",
   "pygments_lexer": "ipython3",
   "version": "3.8.5-final"
  },
  "orig_nbformat": 2,
  "kernelspec": {
   "name": "python3",
   "display_name": "Python 3.8.5 64-bit ('tryPyCharm': conda)",
   "metadata": {
    "interpreter": {
     "hash": "b5cce6c0657068a2def11c728d028ab9f82348536ecee54edd92b3da8b7e5e7c"
    }
   }
  }
 },
 "nbformat": 4,
 "nbformat_minor": 2,
 "cells": [
  {
   "cell_type": "code",
   "execution_count": 2,
   "metadata": {},
   "outputs": [],
   "source": [
    "from pathlib import Path"
   ]
  },
  {
   "source": [
    "# Working with File Paths"
   ],
   "cell_type": "markdown",
   "metadata": {}
  },
  {
   "source": [
    "## Dessecting File Paths into components using the PathLib package\n",
    "\n",
    "Lookup:  Drive, Directory, Name, Extension, etc\n",
    "\n",
    "  - Path.name\n",
    "  - filename.stem\n",
    "  - path.parent\n",
    "  - Path.suffix, Path.suffixes\n",
    "  - Path.parts\n",
    "\n",
    "Transform:\n",
    "\n",
    "   - Path.with_name(\"new_name.txt\")\n",
    "   - Path.with_suffix(\".tif\")\n",
    "\n",
    "Check on Filesystem:\n",
    "\n",
    "   - Path.exists()\n",
    "   - Path.is_dir()\n",
    "   - Path.is_file()   \n"
   ],
   "cell_type": "markdown",
   "metadata": {}
  },
  {
   "cell_type": "code",
   "execution_count": null,
   "metadata": {},
   "outputs": [],
   "source": [
    "filename"
   ]
  },
  {
   "source": [
    "#### Exercise\n",
    "\n",
    "Using the following Path, extract the following information"
   ],
   "cell_type": "markdown",
   "metadata": {}
  },
  {
   "cell_type": "code",
   "execution_count": 4,
   "metadata": {},
   "outputs": [
    {
     "output_type": "execute_result",
     "data": {
      "text/plain": [
       "WindowsPath('/usr/home/nick/Desktop/MyExperiment/data/nick_session1_day2.jpg')"
      ]
     },
     "metadata": {},
     "execution_count": 4
    }
   ],
   "source": [
    "filename = Path(\"/usr/home/nick/Desktop/MyExperiment/data/nick_session1_day2.jpg\")\n",
    "filename"
   ]
  },
  {
   "source": [
    "#### What directory is this file located in?"
   ],
   "cell_type": "markdown",
   "metadata": {}
  },
  {
   "source": [],
   "cell_type": "code",
   "metadata": {},
   "execution_count": null,
   "outputs": []
  },
  {
   "source": [
    "#### What is the filename (without the directory)?"
   ],
   "cell_type": "markdown",
   "metadata": {}
  },
  {
   "cell_type": "code",
   "execution_count": null,
   "metadata": {},
   "outputs": [],
   "source": []
  },
  {
   "source": [
    "#### What is the file extension?"
   ],
   "cell_type": "markdown",
   "metadata": {}
  },
  {
   "source": [],
   "cell_type": "markdown",
   "metadata": {}
  },
  {
   "source": [
    "#### What is the filename (without the extension)?"
   ],
   "cell_type": "markdown",
   "metadata": {}
  },
  {
   "cell_type": "code",
   "execution_count": null,
   "metadata": {},
   "outputs": [],
   "source": []
  },
  {
   "source": [],
   "cell_type": "markdown",
   "metadata": {}
  },
  {
   "source": [
    "#### Get the Path, but with a \".txt\" extension instead."
   ],
   "cell_type": "markdown",
   "metadata": {}
  },
  {
   "cell_type": "code",
   "execution_count": null,
   "metadata": {},
   "outputs": [],
   "source": []
  },
  {
   "source": [
    "#### Make a new filename \"data2.jpg\" in the same directory"
   ],
   "cell_type": "markdown",
   "metadata": {}
  },
  {
   "cell_type": "code",
   "execution_count": null,
   "metadata": {},
   "outputs": [],
   "source": []
  },
  {
   "source": [
    "#### Does the filename exist (the original one, not the new ones)?"
   ],
   "cell_type": "markdown",
   "metadata": {}
  },
  {
   "cell_type": "code",
   "execution_count": null,
   "metadata": {},
   "outputs": [],
   "source": []
  },
  {
   "source": [
    "## Joining Paths\n",
    "\n",
    "From scratch:\n",
    "\n",
    "   - Path(\"\").joinpath(\"home\").joinpath(\"nick\")\n",
    "   - Path(\"\").joinpath(\"home/nick\")\n",
    "   - Path(\"home\") / \"nick\"\n",
    "\n",
    "From an existing directory:\n",
    "\n",
    "   - Path.cwd()\n",
    "   - Path.home()\n",
    "\n",
    "Files in a directory:\n",
    "\n",
    "   - list(Path.home().iterdir())\n",
    "   - Path.home().glob(\"*.txt\")\n",
    "\n",
    "\n",
    "   "
   ],
   "cell_type": "markdown",
   "metadata": {}
  },
  {
   "source": [
    "### Exercises"
   ],
   "cell_type": "markdown",
   "metadata": {}
  },
  {
   "source": [
    "#### What is your home directory?"
   ],
   "cell_type": "markdown",
   "metadata": {}
  },
  {
   "source": [
    "#### "
   ],
   "cell_type": "markdown",
   "metadata": {}
  },
  {
   "source": [
    "### What is the current directory?"
   ],
   "cell_type": "markdown",
   "metadata": {}
  },
  {
   "cell_type": "code",
   "execution_count": null,
   "metadata": {},
   "outputs": [],
   "source": []
  },
  {
   "source": [
    "### How many files are on your desktop?"
   ],
   "cell_type": "markdown",
   "metadata": {}
  },
  {
   "cell_type": "code",
   "execution_count": null,
   "metadata": {},
   "outputs": [],
   "source": []
  },
  {
   "source": [
    "### What is the name of the .md file in the data/raw folder?"
   ],
   "cell_type": "markdown",
   "metadata": {}
  },
  {
   "source": [],
   "cell_type": "code",
   "metadata": {},
   "execution_count": null,
   "outputs": []
  },
  {
   "source": [
    "### How many image files are in the data/raw folder?"
   ],
   "cell_type": "markdown",
   "metadata": {}
  },
  {
   "source": [],
   "cell_type": "markdown",
   "metadata": {}
  }
 ]
}