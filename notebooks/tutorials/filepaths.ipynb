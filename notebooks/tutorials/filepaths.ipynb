{
 "metadata": {
  "language_info": {
   "codemirror_mode": {
    "name": "ipython",
    "version": 3
   },
   "file_extension": ".py",
   "mimetype": "text/x-python",
   "name": "python",
   "nbconvert_exporter": "python",
   "pygments_lexer": "ipython3",
   "version": "3.8.5-final"
  },
  "orig_nbformat": 2,
  "kernelspec": {
   "name": "python3",
   "display_name": "Python 3.8.5 64-bit ('tryPyCharm': conda)",
   "metadata": {
    "interpreter": {
     "hash": "b5cce6c0657068a2def11c728d028ab9f82348536ecee54edd92b3da8b7e5e7c"
    }
   }
  }
 },
 "nbformat": 4,
 "nbformat_minor": 2,
 "cells": [
  {
   "cell_type": "code",
   "execution_count": 2,
   "metadata": {},
   "outputs": [],
   "source": [
    "from pathlib import Path"
   ]
  },
  {
   "source": [
    "# Working with File Paths"
   ],
   "cell_type": "markdown",
   "metadata": {}
  },
  {
   "source": [
    "## Dessecting File Paths into components using the PathLib package\n",
    "\n",
    "Lookup:  Drive, Directory, Name, Extension, etc\n",
    "\n",
    "  - Path.name\n",
    "  - filename.stem\n",
    "  - path.parent\n",
    "  - Path.suffix, Path.suffixes\n",
    "  - Path.parts\n",
    "\n",
    "Transform:\n",
    "\n",
    "   - Path.with_name(\"new_name.txt\")\n",
    "   - Path.with_suffix(\".tif\")\n",
    "\n",
    "Check on Filesystem:\n",
    "\n",
    "   - Path.exists()\n",
    "   - Path.is_dir()\n",
    "   - Path.is_file()   \n"
   ],
   "cell_type": "markdown",
   "metadata": {}
  },
  {
   "source": [
    "#### Exercise\n",
    "\n",
    "Using the following Path, extract the following information"
   ],
   "cell_type": "markdown",
   "metadata": {}
  },
  {
   "cell_type": "code",
   "execution_count": 5,
   "metadata": {},
   "outputs": [
    {
     "output_type": "execute_result",
     "data": {
      "text/plain": [
       "WindowsPath('/usr/home/nick/Desktop/MyExperiment/data/nick_session1_day2.jpg')"
      ]
     },
     "metadata": {},
     "execution_count": 5
    }
   ],
   "source": [
    "filename = Path(\"/usr/home/nick/Desktop/MyExperiment/data/nick_session1_day2.jpg\")\n",
    "filename"
   ]
  },
  {
   "source": [
    "#### What directory is this file located in?"
   ],
   "cell_type": "markdown",
   "metadata": {}
  },
  {
   "source": [
    "filename.parent"
   ],
   "cell_type": "code",
   "metadata": {},
   "execution_count": 6,
   "outputs": [
    {
     "output_type": "execute_result",
     "data": {
      "text/plain": [
       "WindowsPath('/usr/home/nick/Desktop/MyExperiment/data')"
      ]
     },
     "metadata": {},
     "execution_count": 6
    }
   ]
  },
  {
   "source": [
    "#### What is the filename (without the directory)?"
   ],
   "cell_type": "markdown",
   "metadata": {}
  },
  {
   "cell_type": "code",
   "execution_count": 7,
   "metadata": {},
   "outputs": [
    {
     "output_type": "execute_result",
     "data": {
      "text/plain": [
       "'nick_session1_day2'"
      ]
     },
     "metadata": {},
     "execution_count": 7
    }
   ],
   "source": [
    "filename.stem"
   ]
  },
  {
   "cell_type": "code",
   "execution_count": 8,
   "metadata": {},
   "outputs": [
    {
     "output_type": "execute_result",
     "data": {
      "text/plain": [
       "'nick_session1_day2.jpg'"
      ]
     },
     "metadata": {},
     "execution_count": 8
    }
   ],
   "source": [
    "filename.stem + filename.suffix"
   ]
  },
  {
   "cell_type": "code",
   "execution_count": 9,
   "metadata": {},
   "outputs": [
    {
     "output_type": "execute_result",
     "data": {
      "text/plain": [
       "'nick_session1_day2.jpg'"
      ]
     },
     "metadata": {},
     "execution_count": 9
    }
   ],
   "source": [
    "filename.name"
   ]
  },
  {
   "cell_type": "code",
   "execution_count": 11,
   "metadata": {},
   "outputs": [
    {
     "output_type": "execute_result",
     "data": {
      "text/plain": [
       "True"
      ]
     },
     "metadata": {},
     "execution_count": 11
    }
   ],
   "source": [
    "filename.name == filename.stem + filename.suffix"
   ]
  },
  {
   "source": [
    "#### What is the file extension?"
   ],
   "cell_type": "markdown",
   "metadata": {}
  },
  {
   "source": [
    "filename.suffix"
   ],
   "cell_type": "code",
   "metadata": {},
   "execution_count": 12,
   "outputs": [
    {
     "output_type": "execute_result",
     "data": {
      "text/plain": [
       "'.jpg'"
      ]
     },
     "metadata": {},
     "execution_count": 12
    }
   ]
  },
  {
   "source": [
    "#### What is the filename (without the extension)?"
   ],
   "cell_type": "markdown",
   "metadata": {}
  },
  {
   "cell_type": "code",
   "execution_count": 13,
   "metadata": {},
   "outputs": [
    {
     "output_type": "execute_result",
     "data": {
      "text/plain": [
       "'nick_session1_day2'"
      ]
     },
     "metadata": {},
     "execution_count": 13
    }
   ],
   "source": [
    "filename.stem"
   ]
  },
  {
   "source": [],
   "cell_type": "markdown",
   "metadata": {}
  },
  {
   "source": [
    "#### Get the Path, but with a \".txt\" extension instead."
   ],
   "cell_type": "markdown",
   "metadata": {}
  },
  {
   "cell_type": "code",
   "execution_count": 14,
   "metadata": {},
   "outputs": [
    {
     "output_type": "execute_result",
     "data": {
      "text/plain": [
       "WindowsPath('/usr/home/nick/Desktop/MyExperiment/data/nick_session1_day2.txt')"
      ]
     },
     "metadata": {},
     "execution_count": 14
    }
   ],
   "source": [
    "Path.with_suffix(filename, \".txt\")"
   ]
  },
  {
   "cell_type": "code",
   "execution_count": 15,
   "metadata": {},
   "outputs": [
    {
     "output_type": "execute_result",
     "data": {
      "text/plain": [
       "WindowsPath('/usr/home/nick/Desktop/MyExperiment/data/nick_session1_day2.txt')"
      ]
     },
     "metadata": {},
     "execution_count": 15
    }
   ],
   "source": [
    "filename.with_suffix(\".txt\")"
   ]
  },
  {
   "source": [
    "#### Make a new filename \"data2.jpg\" in the same directory"
   ],
   "cell_type": "markdown",
   "metadata": {}
  },
  {
   "cell_type": "code",
   "execution_count": 16,
   "metadata": {},
   "outputs": [
    {
     "output_type": "execute_result",
     "data": {
      "text/plain": [
       "WindowsPath('/usr/home/nick/Desktop/MyExperiment/data/data2.jpg')"
      ]
     },
     "metadata": {},
     "execution_count": 16
    }
   ],
   "source": [
    "filename.with_name(\"data2.jpg\")"
   ]
  },
  {
   "source": [
    "#### Does the filename exist (the original one, not the new ones)?"
   ],
   "cell_type": "markdown",
   "metadata": {}
  },
  {
   "cell_type": "code",
   "execution_count": 20,
   "metadata": {},
   "outputs": [
    {
     "output_type": "execute_result",
     "data": {
      "text/plain": [
       "False"
      ]
     },
     "metadata": {},
     "execution_count": 20
    }
   ],
   "source": [
    "filename.exists()"
   ]
  },
  {
   "source": [
    "## Joining Paths\n",
    "\n",
    "From scratch:\n",
    "\n",
    "   - Path(\"\").joinpath(\"home\").joinpath(\"nick\")\n",
    "   - Path(\"\").joinpath(\"home/nick\")\n",
    "   - Path(\"home\") / \"nick\"\n",
    "\n",
    "From an existing directory:\n",
    "\n",
    "   - Path.cwd()\n",
    "   - Path.home()\n",
    "\n",
    "Files in a directory:\n",
    "\n",
    "   - list(Path.home().iterdir())\n",
    "   - Path.home().glob(\"*.txt\")\n",
    "\n",
    "\n",
    "   "
   ],
   "cell_type": "markdown",
   "metadata": {}
  },
  {
   "source": [
    "### Exercises"
   ],
   "cell_type": "markdown",
   "metadata": {}
  },
  {
   "source": [
    "#### What is your home directory?"
   ],
   "cell_type": "markdown",
   "metadata": {}
  },
  {
   "source": [
    "Path.home()"
   ],
   "cell_type": "code",
   "metadata": {},
   "execution_count": 21,
   "outputs": [
    {
     "output_type": "execute_result",
     "data": {
      "text/plain": [
       "WindowsPath('C:/Users/Nick')"
      ]
     },
     "metadata": {},
     "execution_count": 21
    }
   ]
  },
  {
   "source": [
    "### What is the current directory?"
   ],
   "cell_type": "markdown",
   "metadata": {}
  },
  {
   "cell_type": "code",
   "execution_count": 22,
   "metadata": {},
   "outputs": [
    {
     "output_type": "execute_result",
     "data": {
      "text/plain": [
       "WindowsPath('d:/ProgrammingProjects/slide-stiching-kata/notebooks/tutorials')"
      ]
     },
     "metadata": {},
     "execution_count": 22
    }
   ],
   "source": [
    "Path.cwd()"
   ]
  },
  {
   "cell_type": "code",
   "execution_count": 26,
   "metadata": {},
   "outputs": [
    {
     "output_type": "execute_result",
     "data": {
      "text/plain": [
       "WindowsPath('D:/ProgrammingProjects/slide-stiching-kata/notebooks/tutorials')"
      ]
     },
     "metadata": {},
     "execution_count": 26
    }
   ],
   "source": [
    "Path(\".\").resolve()"
   ]
  },
  {
   "source": [
    "### How many files are on your desktop?"
   ],
   "cell_type": "markdown",
   "metadata": {}
  },
  {
   "cell_type": "code",
   "execution_count": 65,
   "metadata": {},
   "outputs": [
    {
     "output_type": "execute_result",
     "data": {
      "text/plain": [
       "<generator object Path.iterdir at 0x0000021816629580>"
      ]
     },
     "metadata": {},
     "execution_count": 65
    }
   ],
   "source": [
    "Path.home().joinpath(\"Desktop\").iterdir()"
   ]
  },
  {
   "cell_type": "code",
   "execution_count": 30,
   "metadata": {},
   "outputs": [
    {
     "output_type": "execute_result",
     "data": {
      "text/plain": [
       "69"
      ]
     },
     "metadata": {},
     "execution_count": 30
    }
   ],
   "source": [
    "len(list(Path.home().joinpath(\"Desktop\").iterdir()))"
   ]
  },
  {
   "cell_type": "code",
   "execution_count": 45,
   "metadata": {},
   "outputs": [
    {
     "output_type": "execute_result",
     "data": {
      "text/plain": [
       "WindowsPath('C:/Users/Nick/Desktop/Book-Shelf.jpg')"
      ]
     },
     "metadata": {},
     "execution_count": 45
    }
   ],
   "source": [
    "next(files)"
   ]
  },
  {
   "cell_type": "code",
   "execution_count": 51,
   "metadata": {},
   "outputs": [
    {
     "output_type": "execute_result",
     "data": {
      "text/plain": [
       "WindowsPath('C:/Users/Nick/Desktop')"
      ]
     },
     "metadata": {},
     "execution_count": 51
    }
   ],
   "source": [
    "Path.home().joinpath(\"Desktop\")"
   ]
  },
  {
   "cell_type": "code",
   "execution_count": 54,
   "metadata": {},
   "outputs": [
    {
     "output_type": "execute_result",
     "data": {
      "text/plain": [
       "(pathlib.WindowsPath, str)"
      ]
     },
     "metadata": {},
     "execution_count": 54
    }
   ],
   "source": [
    "type(Path.home()), type(\"Desktop\")"
   ]
  },
  {
   "cell_type": "code",
   "execution_count": 56,
   "metadata": {},
   "outputs": [
    {
     "output_type": "execute_result",
     "data": {
      "text/plain": [
       "8"
      ]
     },
     "metadata": {},
     "execution_count": 56
    }
   ],
   "source": [
    "3 + 5"
   ]
  },
  {
   "cell_type": "code",
   "execution_count": 55,
   "metadata": {},
   "outputs": [
    {
     "output_type": "execute_result",
     "data": {
      "text/plain": [
       "'HelloWorld'"
      ]
     },
     "metadata": {},
     "execution_count": 55
    }
   ],
   "source": [
    "\"Hello\" + \"World\""
   ]
  },
  {
   "cell_type": "code",
   "execution_count": 58,
   "metadata": {},
   "outputs": [
    {
     "output_type": "execute_result",
     "data": {
      "text/plain": [
       "WindowsPath('C:/Users/Nick/Desktop/Nick')"
      ]
     },
     "metadata": {},
     "execution_count": 58
    }
   ],
   "source": [
    "Path.home() / \"Desktop\" / \"Nick\""
   ]
  },
  {
   "cell_type": "code",
   "execution_count": 64,
   "metadata": {},
   "outputs": [
    {
     "output_type": "execute_result",
     "data": {
      "text/plain": [
       "'C:\\\\Users\\\\Nick'"
      ]
     },
     "metadata": {},
     "execution_count": 64
    }
   ],
   "source": [
    "str(Path.home())"
   ]
  },
  {
   "source": [
    "### What is the name of the .tif files in the data/raw folder?"
   ],
   "cell_type": "markdown",
   "metadata": {}
  },
  {
   "cell_type": "code",
   "execution_count": 69,
   "metadata": {},
   "outputs": [
    {
     "output_type": "execute_result",
     "data": {
      "text/plain": [
       "[0, 1, 2, 3, 4]"
      ]
     },
     "metadata": {},
     "execution_count": 69
    }
   ],
   "source": [
    "list(range(5))"
   ]
  },
  {
   "source": [
    "list(Path(\".\").iterdir())"
   ],
   "cell_type": "code",
   "metadata": {},
   "execution_count": 71,
   "outputs": [
    {
     "output_type": "execute_result",
     "data": {
      "text/plain": [
       "[WindowsPath('.gitignore'),\n",
       " WindowsPath('filepaths.ipynb'),\n",
       " WindowsPath('read_tiff.ipynb'),\n",
       " WindowsPath('test.tif'),\n",
       " WindowsPath('test2.tif')]"
      ]
     },
     "metadata": {},
     "execution_count": 71
    }
   ]
  },
  {
   "source": [
    "### How many image files are in the data/raw folder?"
   ],
   "cell_type": "markdown",
   "metadata": {}
  },
  {
   "source": [],
   "cell_type": "markdown",
   "metadata": {}
  }
 ]
}