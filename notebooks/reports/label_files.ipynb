{
 "metadata": {
  "language_info": {
   "codemirror_mode": {
    "name": "ipython",
    "version": 3
   },
   "file_extension": ".py",
   "mimetype": "text/x-python",
   "name": "python",
   "nbconvert_exporter": "python",
   "pygments_lexer": "ipython3",
   "version": "3.8.3-final"
  },
  "orig_nbformat": 2,
  "kernelspec": {
   "name": "python3",
   "display_name": "Python 3",
   "language": "python"
  }
 },
 "nbformat": 4,
 "nbformat_minor": 2,
 "cells": [
  {
   "cell_type": "code",
   "execution_count": 14,
   "metadata": {},
   "outputs": [],
   "source": [
    "import tifffile\n",
    "from pathlib import Path\n",
    "import numpy as np\n",
    "import matplotlib.pyplot as plt\n",
    "import pandas as pd"
   ]
  },
  {
   "source": [
    "# Extract Locations from Tiff Filenames in data/raw"
   ],
   "cell_type": "markdown",
   "metadata": {}
  },
  {
   "source": [
    "## Get the Paths to the Tiff Images"
   ],
   "cell_type": "markdown",
   "metadata": {}
  },
  {
   "cell_type": "code",
   "execution_count": 15,
   "metadata": {},
   "outputs": [
    {
     "output_type": "execute_result",
     "data": {
      "text/plain": [
       "WindowsPath('../../data/raw')"
      ]
     },
     "metadata": {},
     "execution_count": 15
    }
   ],
   "source": [
    "raw_dir = Path(\"../../data/raw\")\n",
    "raw_dir"
   ]
  },
  {
   "cell_type": "code",
   "execution_count": 16,
   "metadata": {},
   "outputs": [
    {
     "output_type": "execute_result",
     "data": {
      "text/plain": [
       "[WindowsPath('../../data/raw/ExPW021_PW162-A05_Scan1_[10275,40702]_component_data.tif'),\n",
       " WindowsPath('../../data/raw/ExPW021_PW162-A05_Scan1_[10275,41397]_component_data.tif'),\n",
       " WindowsPath('../../data/raw/ExPW021_PW162-A05_Scan1_[10275,42092]_component_data.tif'),\n",
       " WindowsPath('../../data/raw/ExPW021_PW162-A05_Scan1_[10275,42787]_component_data.tif'),\n",
       " WindowsPath('../../data/raw/ExPW021_PW162-A05_Scan1_[10275,43482]_component_data.tif')]"
      ]
     },
     "metadata": {},
     "execution_count": 16
    }
   ],
   "source": [
    "def get_tiffs(path: str):\n",
    "    return list(Path(path).glob(\"*.tif\"))\n",
    "\n",
    "files = get_tiffs(raw_dir)\n",
    "files[:5]"
   ]
  },
  {
   "source": [
    "f\"There are {len(files)} tiff files\""
   ],
   "cell_type": "code",
   "metadata": {},
   "execution_count": 18,
   "outputs": [
    {
     "output_type": "execute_result",
     "data": {
      "text/plain": [
       "'There are 275 tiff files'"
      ]
     },
     "metadata": {},
     "execution_count": 18
    }
   ]
  },
  {
   "source": [
    "### Extract the x,y locations of each file from the Filename"
   ],
   "cell_type": "markdown",
   "metadata": {}
  },
  {
   "cell_type": "code",
   "execution_count": 21,
   "metadata": {},
   "outputs": [
    {
     "output_type": "execute_result",
     "data": {
      "text/plain": [
       "('ExPW021_PW162-A05_Scan1_[10275,47651]_component_data.tif', (10275, 47651))"
      ]
     },
     "metadata": {},
     "execution_count": 21
    }
   ],
   "source": [
    "def extract_locations(path):\n",
    "    start = path.name.find(\"_[\") + 2\n",
    "    stop = path.name.find(\"]_\")\n",
    "    x, y = path.name[start:stop].split(',')\n",
    "    return int(x), int(y)\n",
    "\n",
    "f = files[10]\n",
    "f.name, extract_locations(f)"
   ]
  },
  {
   "source": [
    "### Batch Process: Extract Locations for All Tiff Files into a DataFrame"
   ],
   "cell_type": "markdown",
   "metadata": {}
  },
  {
   "cell_type": "code",
   "execution_count": 20,
   "metadata": {},
   "outputs": [
    {
     "output_type": "execute_result",
     "data": {
      "text/plain": [
       "                                               Files      X      Y\n",
       "0  ..\\..\\data\\raw\\ExPW021_PW162-A05_Scan1_[10275,...  10275  40702\n",
       "1  ..\\..\\data\\raw\\ExPW021_PW162-A05_Scan1_[10275,...  10275  41397\n",
       "2  ..\\..\\data\\raw\\ExPW021_PW162-A05_Scan1_[10275,...  10275  42092\n",
       "3  ..\\..\\data\\raw\\ExPW021_PW162-A05_Scan1_[10275,...  10275  42787\n",
       "4  ..\\..\\data\\raw\\ExPW021_PW162-A05_Scan1_[10275,...  10275  43482"
      ],
      "text/html": "<div>\n<style scoped>\n    .dataframe tbody tr th:only-of-type {\n        vertical-align: middle;\n    }\n\n    .dataframe tbody tr th {\n        vertical-align: top;\n    }\n\n    .dataframe thead th {\n        text-align: right;\n    }\n</style>\n<table border=\"1\" class=\"dataframe\">\n  <thead>\n    <tr style=\"text-align: right;\">\n      <th></th>\n      <th>Files</th>\n      <th>X</th>\n      <th>Y</th>\n    </tr>\n  </thead>\n  <tbody>\n    <tr>\n      <th>0</th>\n      <td>..\\..\\data\\raw\\ExPW021_PW162-A05_Scan1_[10275,...</td>\n      <td>10275</td>\n      <td>40702</td>\n    </tr>\n    <tr>\n      <th>1</th>\n      <td>..\\..\\data\\raw\\ExPW021_PW162-A05_Scan1_[10275,...</td>\n      <td>10275</td>\n      <td>41397</td>\n    </tr>\n    <tr>\n      <th>2</th>\n      <td>..\\..\\data\\raw\\ExPW021_PW162-A05_Scan1_[10275,...</td>\n      <td>10275</td>\n      <td>42092</td>\n    </tr>\n    <tr>\n      <th>3</th>\n      <td>..\\..\\data\\raw\\ExPW021_PW162-A05_Scan1_[10275,...</td>\n      <td>10275</td>\n      <td>42787</td>\n    </tr>\n    <tr>\n      <th>4</th>\n      <td>..\\..\\data\\raw\\ExPW021_PW162-A05_Scan1_[10275,...</td>\n      <td>10275</td>\n      <td>43482</td>\n    </tr>\n  </tbody>\n</table>\n</div>"
     },
     "metadata": {},
     "execution_count": 20
    }
   ],
   "source": [
    "raw_dir = Path(\"../../data/raw\")\n",
    "df = (pd.DataFrame({f: extract_locations(f) for f in get_tiffs(raw_dir)}, index=[\"X\", \"Y\"])\n",
    ".T\n",
    ".astype(int)\n",
    ".rename_axis(index=\"Files\")\n",
    ".reset_index()\n",
    ")\n",
    "df.head()"
   ]
  },
  {
   "source": [
    "### Plot Point locations"
   ],
   "cell_type": "markdown",
   "metadata": {}
  },
  {
   "cell_type": "code",
   "execution_count": 13,
   "metadata": {},
   "outputs": [
    {
     "output_type": "display_data",
     "data": {
      "text/plain": "<Figure size 432x288 with 1 Axes>",
      "image/svg+xml": "<?xml version=\"1.0\" encoding=\"utf-8\" standalone=\"no\"?>\r\n<!DOCTYPE svg PUBLIC \"-//W3C//DTD SVG 1.1//EN\"\r\n  \"http://www.w3.org/Graphics/SVG/1.1/DTD/svg11.dtd\">\r\n<!-- Created with matplotlib (https://matplotlib.org/) -->\r\n<svg height=\"248.895181pt\" version=\"1.1\" viewBox=\"0 0 153.347 248.895181\" width=\"153.347pt\" xmlns=\"http://www.w3.org/2000/svg\" xmlns:xlink=\"http://www.w3.org/1999/xlink\">\r\n <metadata>\r\n  <rdf:RDF xmlns:cc=\"http://creativecommons.org/ns#\" xmlns:dc=\"http://purl.org/dc/elements/1.1/\" xmlns:rdf=\"http://www.w3.org/1999/02/22-rdf-syntax-ns#\">\r\n   <cc:Work>\r\n    <dc:type rdf:resource=\"http://purl.org/dc/dcmitype/StillImage\"/>\r\n    <dc:date>2021-03-16T13:24:56.382536</dc:date>\r\n    <dc:format>image/svg+xml</dc:format>\r\n    <dc:creator>\r\n     <cc:Agent>\r\n      <dc:title>Matplotlib v3.3.4, https://matplotlib.org/</dc:title>\r\n     </cc:Agent>\r\n    </dc:creator>\r\n   </cc:Work>\r\n  </rdf:RDF>\r\n </metadata>\r\n <defs>\r\n  <style type=\"text/css\">*{stroke-linecap:butt;stroke-linejoin:round;}</style>\r\n </defs>\r\n <g id=\"figure_1\">\r\n  <g id=\"patch_1\">\r\n   <path d=\"M 0 248.895181 \r\nL 153.347 248.895181 \r\nL 153.347 0 \r\nL 0 0 \r\nz\r\n\" style=\"fill:none;\"/>\r\n  </g>\r\n  <g id=\"axes_1\">\r\n   <g id=\"patch_2\">\r\n    <path d=\"M 46.0125 225.017056 \r\nL 138.624426 225.017056 \r\nL 138.624426 7.577056 \r\nL 46.0125 7.577056 \r\nz\r\n\" style=\"fill:#ffffff;\"/>\r\n   </g>\r\n   <g id=\"PathCollection_1\">\r\n    <defs>\r\n     <path d=\"M 0 3 \r\nC 0.795609 3 1.55874 2.683901 2.12132 2.12132 \r\nC 2.683901 1.55874 3 0.795609 3 0 \r\nC 3 -0.795609 2.683901 -1.55874 2.12132 -2.12132 \r\nC 1.55874 -2.683901 0.795609 -3 0 -3 \r\nC -0.795609 -3 -1.55874 -2.683901 -2.12132 -2.12132 \r\nC -2.683901 -1.55874 -3 -0.795609 -3 0 \r\nC -3 0.795609 -2.683901 1.55874 -2.12132 2.12132 \r\nC -1.55874 2.683901 -0.795609 3 0 3 \r\nz\r\n\" id=\"m24570a5dcf\" style=\"stroke:#1f77b4;\"/>\r\n    </defs>\r\n    <g clip-path=\"url(#pdcc847df67)\">\r\n     <use style=\"fill:#1f77b4;stroke:#1f77b4;\" x=\"63.03451\" xlink:href=\"#m24570a5dcf\" y=\"144.361276\"/>\r\n     <use style=\"fill:#1f77b4;stroke:#1f77b4;\" x=\"63.03451\" xlink:href=\"#m24570a5dcf\" y=\"139.558362\"/>\r\n     <use style=\"fill:#1f77b4;stroke:#1f77b4;\" x=\"63.03451\" xlink:href=\"#m24570a5dcf\" y=\"134.755449\"/>\r\n     <use style=\"fill:#1f77b4;stroke:#1f77b4;\" x=\"63.03451\" xlink:href=\"#m24570a5dcf\" y=\"129.952535\"/>\r\n     <use style=\"fill:#1f77b4;stroke:#1f77b4;\" x=\"63.03451\" xlink:href=\"#m24570a5dcf\" y=\"125.149621\"/>\r\n     <use style=\"fill:#1f77b4;stroke:#1f77b4;\" x=\"63.03451\" xlink:href=\"#m24570a5dcf\" y=\"120.346707\"/>\r\n     <use style=\"fill:#1f77b4;stroke:#1f77b4;\" x=\"63.03451\" xlink:href=\"#m24570a5dcf\" y=\"115.550704\"/>\r\n     <use style=\"fill:#1f77b4;stroke:#1f77b4;\" x=\"63.03451\" xlink:href=\"#m24570a5dcf\" y=\"110.74779\"/>\r\n     <use style=\"fill:#1f77b4;stroke:#1f77b4;\" x=\"63.03451\" xlink:href=\"#m24570a5dcf\" y=\"105.944877\"/>\r\n     <use style=\"fill:#1f77b4;stroke:#1f77b4;\" x=\"63.03451\" xlink:href=\"#m24570a5dcf\" y=\"101.141963\"/>\r\n     <use style=\"fill:#1f77b4;stroke:#1f77b4;\" x=\"63.03451\" xlink:href=\"#m24570a5dcf\" y=\"96.339049\"/>\r\n     <use style=\"fill:#1f77b4;stroke:#1f77b4;\" x=\"63.03451\" xlink:href=\"#m24570a5dcf\" y=\"91.536135\"/>\r\n     <use style=\"fill:#1f77b4;stroke:#1f77b4;\" x=\"64.734534\" xlink:href=\"#m24570a5dcf\" y=\"215.13342\"/>\r\n     <use style=\"fill:#1f77b4;stroke:#1f77b4;\" x=\"64.734534\" xlink:href=\"#m24570a5dcf\" y=\"210.330506\"/>\r\n     <use style=\"fill:#1f77b4;stroke:#1f77b4;\" x=\"64.734534\" xlink:href=\"#m24570a5dcf\" y=\"205.527592\"/>\r\n     <use style=\"fill:#1f77b4;stroke:#1f77b4;\" x=\"64.734534\" xlink:href=\"#m24570a5dcf\" y=\"200.724679\"/>\r\n     <use style=\"fill:#1f77b4;stroke:#1f77b4;\" x=\"64.734534\" xlink:href=\"#m24570a5dcf\" y=\"195.928676\"/>\r\n     <use style=\"fill:#1f77b4;stroke:#1f77b4;\" x=\"64.734534\" xlink:href=\"#m24570a5dcf\" y=\"191.125762\"/>\r\n     <use style=\"fill:#1f77b4;stroke:#1f77b4;\" x=\"64.734534\" xlink:href=\"#m24570a5dcf\" y=\"186.322848\"/>\r\n     <use style=\"fill:#1f77b4;stroke:#1f77b4;\" x=\"64.734534\" xlink:href=\"#m24570a5dcf\" y=\"181.519934\"/>\r\n     <use style=\"fill:#1f77b4;stroke:#1f77b4;\" x=\"64.734534\" xlink:href=\"#m24570a5dcf\" y=\"176.71702\"/>\r\n     <use style=\"fill:#1f77b4;stroke:#1f77b4;\" x=\"64.734534\" xlink:href=\"#m24570a5dcf\" y=\"171.914107\"/>\r\n     <use style=\"fill:#1f77b4;stroke:#1f77b4;\" x=\"64.734534\" xlink:href=\"#m24570a5dcf\" y=\"167.111193\"/>\r\n     <use style=\"fill:#1f77b4;stroke:#1f77b4;\" x=\"64.734534\" xlink:href=\"#m24570a5dcf\" y=\"162.31519\"/>\r\n     <use style=\"fill:#1f77b4;stroke:#1f77b4;\" x=\"65.957722\" xlink:href=\"#m24570a5dcf\" y=\"70.278923\"/>\r\n     <use style=\"fill:#1f77b4;stroke:#1f77b4;\" x=\"65.957722\" xlink:href=\"#m24570a5dcf\" y=\"65.476009\"/>\r\n     <use style=\"fill:#1f77b4;stroke:#1f77b4;\" x=\"65.957722\" xlink:href=\"#m24570a5dcf\" y=\"60.673095\"/>\r\n     <use style=\"fill:#1f77b4;stroke:#1f77b4;\" x=\"65.957722\" xlink:href=\"#m24570a5dcf\" y=\"55.877092\"/>\r\n     <use style=\"fill:#1f77b4;stroke:#1f77b4;\" x=\"65.957722\" xlink:href=\"#m24570a5dcf\" y=\"51.074178\"/>\r\n     <use style=\"fill:#1f77b4;stroke:#1f77b4;\" x=\"65.957722\" xlink:href=\"#m24570a5dcf\" y=\"46.271265\"/>\r\n     <use style=\"fill:#1f77b4;stroke:#1f77b4;\" x=\"65.957722\" xlink:href=\"#m24570a5dcf\" y=\"41.468351\"/>\r\n     <use style=\"fill:#1f77b4;stroke:#1f77b4;\" x=\"65.957722\" xlink:href=\"#m24570a5dcf\" y=\"36.665437\"/>\r\n     <use style=\"fill:#1f77b4;stroke:#1f77b4;\" x=\"65.957722\" xlink:href=\"#m24570a5dcf\" y=\"31.862523\"/>\r\n     <use style=\"fill:#1f77b4;stroke:#1f77b4;\" x=\"65.957722\" xlink:href=\"#m24570a5dcf\" y=\"27.05961\"/>\r\n     <use style=\"fill:#1f77b4;stroke:#1f77b4;\" x=\"65.957722\" xlink:href=\"#m24570a5dcf\" y=\"22.263606\"/>\r\n     <use style=\"fill:#1f77b4;stroke:#1f77b4;\" x=\"69.440699\" xlink:href=\"#m24570a5dcf\" y=\"144.361276\"/>\r\n     <use style=\"fill:#1f77b4;stroke:#1f77b4;\" x=\"69.440699\" xlink:href=\"#m24570a5dcf\" y=\"139.558362\"/>\r\n     <use style=\"fill:#1f77b4;stroke:#1f77b4;\" x=\"69.440699\" xlink:href=\"#m24570a5dcf\" y=\"134.755449\"/>\r\n     <use style=\"fill:#1f77b4;stroke:#1f77b4;\" x=\"69.440699\" xlink:href=\"#m24570a5dcf\" y=\"129.952535\"/>\r\n     <use style=\"fill:#1f77b4;stroke:#1f77b4;\" x=\"69.440699\" xlink:href=\"#m24570a5dcf\" y=\"125.149621\"/>\r\n     <use style=\"fill:#1f77b4;stroke:#1f77b4;\" x=\"69.440699\" xlink:href=\"#m24570a5dcf\" y=\"120.346707\"/>\r\n     <use style=\"fill:#1f77b4;stroke:#1f77b4;\" x=\"69.440699\" xlink:href=\"#m24570a5dcf\" y=\"115.550704\"/>\r\n     <use style=\"fill:#1f77b4;stroke:#1f77b4;\" x=\"69.440699\" xlink:href=\"#m24570a5dcf\" y=\"110.74779\"/>\r\n     <use style=\"fill:#1f77b4;stroke:#1f77b4;\" x=\"69.440699\" xlink:href=\"#m24570a5dcf\" y=\"105.944877\"/>\r\n     <use style=\"fill:#1f77b4;stroke:#1f77b4;\" x=\"69.440699\" xlink:href=\"#m24570a5dcf\" y=\"101.141963\"/>\r\n     <use style=\"fill:#1f77b4;stroke:#1f77b4;\" x=\"69.440699\" xlink:href=\"#m24570a5dcf\" y=\"96.339049\"/>\r\n     <use style=\"fill:#1f77b4;stroke:#1f77b4;\" x=\"69.440699\" xlink:href=\"#m24570a5dcf\" y=\"91.536135\"/>\r\n     <use style=\"fill:#1f77b4;stroke:#1f77b4;\" x=\"71.133812\" xlink:href=\"#m24570a5dcf\" y=\"215.13342\"/>\r\n     <use style=\"fill:#1f77b4;stroke:#1f77b4;\" x=\"71.133812\" xlink:href=\"#m24570a5dcf\" y=\"210.330506\"/>\r\n     <use style=\"fill:#1f77b4;stroke:#1f77b4;\" x=\"71.133812\" xlink:href=\"#m24570a5dcf\" y=\"205.527592\"/>\r\n     <use style=\"fill:#1f77b4;stroke:#1f77b4;\" x=\"71.133812\" xlink:href=\"#m24570a5dcf\" y=\"200.724679\"/>\r\n     <use style=\"fill:#1f77b4;stroke:#1f77b4;\" x=\"71.133812\" xlink:href=\"#m24570a5dcf\" y=\"195.928676\"/>\r\n     <use style=\"fill:#1f77b4;stroke:#1f77b4;\" x=\"71.133812\" xlink:href=\"#m24570a5dcf\" y=\"191.125762\"/>\r\n     <use style=\"fill:#1f77b4;stroke:#1f77b4;\" x=\"71.133812\" xlink:href=\"#m24570a5dcf\" y=\"186.322848\"/>\r\n     <use style=\"fill:#1f77b4;stroke:#1f77b4;\" x=\"71.133812\" xlink:href=\"#m24570a5dcf\" y=\"181.519934\"/>\r\n     <use style=\"fill:#1f77b4;stroke:#1f77b4;\" x=\"71.133812\" xlink:href=\"#m24570a5dcf\" y=\"176.71702\"/>\r\n     <use style=\"fill:#1f77b4;stroke:#1f77b4;\" x=\"71.133812\" xlink:href=\"#m24570a5dcf\" y=\"171.914107\"/>\r\n     <use style=\"fill:#1f77b4;stroke:#1f77b4;\" x=\"71.133812\" xlink:href=\"#m24570a5dcf\" y=\"167.111193\"/>\r\n     <use style=\"fill:#1f77b4;stroke:#1f77b4;\" x=\"71.133812\" xlink:href=\"#m24570a5dcf\" y=\"162.31519\"/>\r\n     <use style=\"fill:#1f77b4;stroke:#1f77b4;\" x=\"72.363911\" xlink:href=\"#m24570a5dcf\" y=\"70.278923\"/>\r\n     <use style=\"fill:#1f77b4;stroke:#1f77b4;\" x=\"72.363911\" xlink:href=\"#m24570a5dcf\" y=\"65.476009\"/>\r\n     <use style=\"fill:#1f77b4;stroke:#1f77b4;\" x=\"72.363911\" xlink:href=\"#m24570a5dcf\" y=\"60.673095\"/>\r\n     <use style=\"fill:#1f77b4;stroke:#1f77b4;\" x=\"72.363911\" xlink:href=\"#m24570a5dcf\" y=\"55.877092\"/>\r\n     <use style=\"fill:#1f77b4;stroke:#1f77b4;\" x=\"72.363911\" xlink:href=\"#m24570a5dcf\" y=\"51.074178\"/>\r\n     <use style=\"fill:#1f77b4;stroke:#1f77b4;\" x=\"72.363911\" xlink:href=\"#m24570a5dcf\" y=\"46.271265\"/>\r\n     <use style=\"fill:#1f77b4;stroke:#1f77b4;\" x=\"72.363911\" xlink:href=\"#m24570a5dcf\" y=\"41.468351\"/>\r\n     <use style=\"fill:#1f77b4;stroke:#1f77b4;\" x=\"72.363911\" xlink:href=\"#m24570a5dcf\" y=\"36.665437\"/>\r\n     <use style=\"fill:#1f77b4;stroke:#1f77b4;\" x=\"72.363911\" xlink:href=\"#m24570a5dcf\" y=\"31.862523\"/>\r\n     <use style=\"fill:#1f77b4;stroke:#1f77b4;\" x=\"72.363911\" xlink:href=\"#m24570a5dcf\" y=\"27.05961\"/>\r\n     <use style=\"fill:#1f77b4;stroke:#1f77b4;\" x=\"72.363911\" xlink:href=\"#m24570a5dcf\" y=\"22.263606\"/>\r\n     <use style=\"fill:#1f77b4;stroke:#1f77b4;\" x=\"72.363911\" xlink:href=\"#m24570a5dcf\" y=\"17.460693\"/>\r\n     <use style=\"fill:#1f77b4;stroke:#1f77b4;\" x=\"75.846887\" xlink:href=\"#m24570a5dcf\" y=\"144.361276\"/>\r\n     <use style=\"fill:#1f77b4;stroke:#1f77b4;\" x=\"75.846887\" xlink:href=\"#m24570a5dcf\" y=\"139.558362\"/>\r\n     <use style=\"fill:#1f77b4;stroke:#1f77b4;\" x=\"75.846887\" xlink:href=\"#m24570a5dcf\" y=\"134.755449\"/>\r\n     <use style=\"fill:#1f77b4;stroke:#1f77b4;\" x=\"75.846887\" xlink:href=\"#m24570a5dcf\" y=\"129.952535\"/>\r\n     <use style=\"fill:#1f77b4;stroke:#1f77b4;\" x=\"75.846887\" xlink:href=\"#m24570a5dcf\" y=\"125.149621\"/>\r\n     <use style=\"fill:#1f77b4;stroke:#1f77b4;\" x=\"75.846887\" xlink:href=\"#m24570a5dcf\" y=\"120.346707\"/>\r\n     <use style=\"fill:#1f77b4;stroke:#1f77b4;\" x=\"75.846887\" xlink:href=\"#m24570a5dcf\" y=\"115.550704\"/>\r\n     <use style=\"fill:#1f77b4;stroke:#1f77b4;\" x=\"75.846887\" xlink:href=\"#m24570a5dcf\" y=\"110.74779\"/>\r\n     <use style=\"fill:#1f77b4;stroke:#1f77b4;\" x=\"75.846887\" xlink:href=\"#m24570a5dcf\" y=\"105.944877\"/>\r\n     <use style=\"fill:#1f77b4;stroke:#1f77b4;\" x=\"75.846887\" xlink:href=\"#m24570a5dcf\" y=\"101.141963\"/>\r\n     <use style=\"fill:#1f77b4;stroke:#1f77b4;\" x=\"75.846887\" xlink:href=\"#m24570a5dcf\" y=\"96.339049\"/>\r\n     <use style=\"fill:#1f77b4;stroke:#1f77b4;\" x=\"75.846887\" xlink:href=\"#m24570a5dcf\" y=\"91.536135\"/>\r\n     <use style=\"fill:#1f77b4;stroke:#1f77b4;\" x=\"77.540001\" xlink:href=\"#m24570a5dcf\" y=\"215.13342\"/>\r\n     <use style=\"fill:#1f77b4;stroke:#1f77b4;\" x=\"77.540001\" xlink:href=\"#m24570a5dcf\" y=\"210.330506\"/>\r\n     <use style=\"fill:#1f77b4;stroke:#1f77b4;\" x=\"77.540001\" xlink:href=\"#m24570a5dcf\" y=\"205.527592\"/>\r\n     <use style=\"fill:#1f77b4;stroke:#1f77b4;\" x=\"77.540001\" xlink:href=\"#m24570a5dcf\" y=\"200.724679\"/>\r\n     <use style=\"fill:#1f77b4;stroke:#1f77b4;\" x=\"77.540001\" xlink:href=\"#m24570a5dcf\" y=\"195.928676\"/>\r\n     <use style=\"fill:#1f77b4;stroke:#1f77b4;\" x=\"77.540001\" xlink:href=\"#m24570a5dcf\" y=\"191.125762\"/>\r\n     <use style=\"fill:#1f77b4;stroke:#1f77b4;\" x=\"77.540001\" xlink:href=\"#m24570a5dcf\" y=\"186.322848\"/>\r\n     <use style=\"fill:#1f77b4;stroke:#1f77b4;\" x=\"77.540001\" xlink:href=\"#m24570a5dcf\" y=\"181.519934\"/>\r\n     <use style=\"fill:#1f77b4;stroke:#1f77b4;\" x=\"77.540001\" xlink:href=\"#m24570a5dcf\" y=\"176.71702\"/>\r\n     <use style=\"fill:#1f77b4;stroke:#1f77b4;\" x=\"77.540001\" xlink:href=\"#m24570a5dcf\" y=\"171.914107\"/>\r\n     <use style=\"fill:#1f77b4;stroke:#1f77b4;\" x=\"77.540001\" xlink:href=\"#m24570a5dcf\" y=\"167.111193\"/>\r\n     <use style=\"fill:#1f77b4;stroke:#1f77b4;\" x=\"77.540001\" xlink:href=\"#m24570a5dcf\" y=\"162.31519\"/>\r\n     <use style=\"fill:#1f77b4;stroke:#1f77b4;\" x=\"78.763189\" xlink:href=\"#m24570a5dcf\" y=\"70.278923\"/>\r\n     <use style=\"fill:#1f77b4;stroke:#1f77b4;\" x=\"78.763189\" xlink:href=\"#m24570a5dcf\" y=\"65.476009\"/>\r\n     <use style=\"fill:#1f77b4;stroke:#1f77b4;\" x=\"78.763189\" xlink:href=\"#m24570a5dcf\" y=\"60.673095\"/>\r\n     <use style=\"fill:#1f77b4;stroke:#1f77b4;\" x=\"78.763189\" xlink:href=\"#m24570a5dcf\" y=\"55.877092\"/>\r\n     <use style=\"fill:#1f77b4;stroke:#1f77b4;\" x=\"78.763189\" xlink:href=\"#m24570a5dcf\" y=\"51.074178\"/>\r\n     <use style=\"fill:#1f77b4;stroke:#1f77b4;\" x=\"78.763189\" xlink:href=\"#m24570a5dcf\" y=\"46.271265\"/>\r\n     <use style=\"fill:#1f77b4;stroke:#1f77b4;\" x=\"78.763189\" xlink:href=\"#m24570a5dcf\" y=\"41.468351\"/>\r\n     <use style=\"fill:#1f77b4;stroke:#1f77b4;\" x=\"78.763189\" xlink:href=\"#m24570a5dcf\" y=\"36.665437\"/>\r\n     <use style=\"fill:#1f77b4;stroke:#1f77b4;\" x=\"78.763189\" xlink:href=\"#m24570a5dcf\" y=\"31.862523\"/>\r\n     <use style=\"fill:#1f77b4;stroke:#1f77b4;\" x=\"78.763189\" xlink:href=\"#m24570a5dcf\" y=\"27.05961\"/>\r\n     <use style=\"fill:#1f77b4;stroke:#1f77b4;\" x=\"78.763189\" xlink:href=\"#m24570a5dcf\" y=\"22.263606\"/>\r\n     <use style=\"fill:#1f77b4;stroke:#1f77b4;\" x=\"78.763189\" xlink:href=\"#m24570a5dcf\" y=\"17.460693\"/>\r\n     <use style=\"fill:#1f77b4;stroke:#1f77b4;\" x=\"82.253076\" xlink:href=\"#m24570a5dcf\" y=\"144.361276\"/>\r\n     <use style=\"fill:#1f77b4;stroke:#1f77b4;\" x=\"82.253076\" xlink:href=\"#m24570a5dcf\" y=\"139.558362\"/>\r\n     <use style=\"fill:#1f77b4;stroke:#1f77b4;\" x=\"82.253076\" xlink:href=\"#m24570a5dcf\" y=\"134.755449\"/>\r\n     <use style=\"fill:#1f77b4;stroke:#1f77b4;\" x=\"82.253076\" xlink:href=\"#m24570a5dcf\" y=\"129.952535\"/>\r\n     <use style=\"fill:#1f77b4;stroke:#1f77b4;\" x=\"82.253076\" xlink:href=\"#m24570a5dcf\" y=\"125.149621\"/>\r\n     <use style=\"fill:#1f77b4;stroke:#1f77b4;\" x=\"82.253076\" xlink:href=\"#m24570a5dcf\" y=\"120.346707\"/>\r\n     <use style=\"fill:#1f77b4;stroke:#1f77b4;\" x=\"82.253076\" xlink:href=\"#m24570a5dcf\" y=\"115.550704\"/>\r\n     <use style=\"fill:#1f77b4;stroke:#1f77b4;\" x=\"82.253076\" xlink:href=\"#m24570a5dcf\" y=\"110.74779\"/>\r\n     <use style=\"fill:#1f77b4;stroke:#1f77b4;\" x=\"82.253076\" xlink:href=\"#m24570a5dcf\" y=\"105.944877\"/>\r\n     <use style=\"fill:#1f77b4;stroke:#1f77b4;\" x=\"82.253076\" xlink:href=\"#m24570a5dcf\" y=\"101.141963\"/>\r\n     <use style=\"fill:#1f77b4;stroke:#1f77b4;\" x=\"82.253076\" xlink:href=\"#m24570a5dcf\" y=\"96.339049\"/>\r\n     <use style=\"fill:#1f77b4;stroke:#1f77b4;\" x=\"82.253076\" xlink:href=\"#m24570a5dcf\" y=\"91.536135\"/>\r\n     <use style=\"fill:#1f77b4;stroke:#1f77b4;\" x=\"83.946189\" xlink:href=\"#m24570a5dcf\" y=\"210.330506\"/>\r\n     <use style=\"fill:#1f77b4;stroke:#1f77b4;\" x=\"83.946189\" xlink:href=\"#m24570a5dcf\" y=\"205.527592\"/>\r\n     <use style=\"fill:#1f77b4;stroke:#1f77b4;\" x=\"83.946189\" xlink:href=\"#m24570a5dcf\" y=\"200.724679\"/>\r\n     <use style=\"fill:#1f77b4;stroke:#1f77b4;\" x=\"83.946189\" xlink:href=\"#m24570a5dcf\" y=\"195.928676\"/>\r\n     <use style=\"fill:#1f77b4;stroke:#1f77b4;\" x=\"83.946189\" xlink:href=\"#m24570a5dcf\" y=\"191.125762\"/>\r\n     <use style=\"fill:#1f77b4;stroke:#1f77b4;\" x=\"83.946189\" xlink:href=\"#m24570a5dcf\" y=\"186.322848\"/>\r\n     <use style=\"fill:#1f77b4;stroke:#1f77b4;\" x=\"83.946189\" xlink:href=\"#m24570a5dcf\" y=\"181.519934\"/>\r\n     <use style=\"fill:#1f77b4;stroke:#1f77b4;\" x=\"83.946189\" xlink:href=\"#m24570a5dcf\" y=\"176.71702\"/>\r\n     <use style=\"fill:#1f77b4;stroke:#1f77b4;\" x=\"83.946189\" xlink:href=\"#m24570a5dcf\" y=\"171.914107\"/>\r\n     <use style=\"fill:#1f77b4;stroke:#1f77b4;\" x=\"83.946189\" xlink:href=\"#m24570a5dcf\" y=\"167.111193\"/>\r\n     <use style=\"fill:#1f77b4;stroke:#1f77b4;\" x=\"83.946189\" xlink:href=\"#m24570a5dcf\" y=\"162.31519\"/>\r\n     <use style=\"fill:#1f77b4;stroke:#1f77b4;\" x=\"85.169377\" xlink:href=\"#m24570a5dcf\" y=\"70.278923\"/>\r\n     <use style=\"fill:#1f77b4;stroke:#1f77b4;\" x=\"85.169377\" xlink:href=\"#m24570a5dcf\" y=\"65.476009\"/>\r\n     <use style=\"fill:#1f77b4;stroke:#1f77b4;\" x=\"85.169377\" xlink:href=\"#m24570a5dcf\" y=\"60.673095\"/>\r\n     <use style=\"fill:#1f77b4;stroke:#1f77b4;\" x=\"85.169377\" xlink:href=\"#m24570a5dcf\" y=\"55.877092\"/>\r\n     <use style=\"fill:#1f77b4;stroke:#1f77b4;\" x=\"85.169377\" xlink:href=\"#m24570a5dcf\" y=\"51.074178\"/>\r\n     <use style=\"fill:#1f77b4;stroke:#1f77b4;\" x=\"85.169377\" xlink:href=\"#m24570a5dcf\" y=\"46.271265\"/>\r\n     <use style=\"fill:#1f77b4;stroke:#1f77b4;\" x=\"85.169377\" xlink:href=\"#m24570a5dcf\" y=\"41.468351\"/>\r\n     <use style=\"fill:#1f77b4;stroke:#1f77b4;\" x=\"85.169377\" xlink:href=\"#m24570a5dcf\" y=\"36.665437\"/>\r\n     <use style=\"fill:#1f77b4;stroke:#1f77b4;\" x=\"85.169377\" xlink:href=\"#m24570a5dcf\" y=\"31.862523\"/>\r\n     <use style=\"fill:#1f77b4;stroke:#1f77b4;\" x=\"85.169377\" xlink:href=\"#m24570a5dcf\" y=\"27.05961\"/>\r\n     <use style=\"fill:#1f77b4;stroke:#1f77b4;\" x=\"85.169377\" xlink:href=\"#m24570a5dcf\" y=\"22.263606\"/>\r\n     <use style=\"fill:#1f77b4;stroke:#1f77b4;\" x=\"88.652354\" xlink:href=\"#m24570a5dcf\" y=\"139.558362\"/>\r\n     <use style=\"fill:#1f77b4;stroke:#1f77b4;\" x=\"88.652354\" xlink:href=\"#m24570a5dcf\" y=\"134.755449\"/>\r\n     <use style=\"fill:#1f77b4;stroke:#1f77b4;\" x=\"88.652354\" xlink:href=\"#m24570a5dcf\" y=\"129.952535\"/>\r\n     <use style=\"fill:#1f77b4;stroke:#1f77b4;\" x=\"88.652354\" xlink:href=\"#m24570a5dcf\" y=\"125.149621\"/>\r\n     <use style=\"fill:#1f77b4;stroke:#1f77b4;\" x=\"88.652354\" xlink:href=\"#m24570a5dcf\" y=\"120.346707\"/>\r\n     <use style=\"fill:#1f77b4;stroke:#1f77b4;\" x=\"88.652354\" xlink:href=\"#m24570a5dcf\" y=\"115.550704\"/>\r\n     <use style=\"fill:#1f77b4;stroke:#1f77b4;\" x=\"88.652354\" xlink:href=\"#m24570a5dcf\" y=\"110.74779\"/>\r\n     <use style=\"fill:#1f77b4;stroke:#1f77b4;\" x=\"88.652354\" xlink:href=\"#m24570a5dcf\" y=\"105.944877\"/>\r\n     <use style=\"fill:#1f77b4;stroke:#1f77b4;\" x=\"88.652354\" xlink:href=\"#m24570a5dcf\" y=\"101.141963\"/>\r\n     <use style=\"fill:#1f77b4;stroke:#1f77b4;\" x=\"88.652354\" xlink:href=\"#m24570a5dcf\" y=\"96.339049\"/>\r\n     <use style=\"fill:#1f77b4;stroke:#1f77b4;\" x=\"90.352378\" xlink:href=\"#m24570a5dcf\" y=\"205.527592\"/>\r\n     <use style=\"fill:#1f77b4;stroke:#1f77b4;\" x=\"90.352378\" xlink:href=\"#m24570a5dcf\" y=\"200.724679\"/>\r\n     <use style=\"fill:#1f77b4;stroke:#1f77b4;\" x=\"90.352378\" xlink:href=\"#m24570a5dcf\" y=\"195.928676\"/>\r\n     <use style=\"fill:#1f77b4;stroke:#1f77b4;\" x=\"90.352378\" xlink:href=\"#m24570a5dcf\" y=\"191.125762\"/>\r\n     <use style=\"fill:#1f77b4;stroke:#1f77b4;\" x=\"90.352378\" xlink:href=\"#m24570a5dcf\" y=\"186.322848\"/>\r\n     <use style=\"fill:#1f77b4;stroke:#1f77b4;\" x=\"90.352378\" xlink:href=\"#m24570a5dcf\" y=\"181.519934\"/>\r\n     <use style=\"fill:#1f77b4;stroke:#1f77b4;\" x=\"90.352378\" xlink:href=\"#m24570a5dcf\" y=\"176.71702\"/>\r\n     <use style=\"fill:#1f77b4;stroke:#1f77b4;\" x=\"90.352378\" xlink:href=\"#m24570a5dcf\" y=\"171.914107\"/>\r\n     <use style=\"fill:#1f77b4;stroke:#1f77b4;\" x=\"91.575566\" xlink:href=\"#m24570a5dcf\" y=\"65.476009\"/>\r\n     <use style=\"fill:#1f77b4;stroke:#1f77b4;\" x=\"91.575566\" xlink:href=\"#m24570a5dcf\" y=\"60.673095\"/>\r\n     <use style=\"fill:#1f77b4;stroke:#1f77b4;\" x=\"91.575566\" xlink:href=\"#m24570a5dcf\" y=\"55.877092\"/>\r\n     <use style=\"fill:#1f77b4;stroke:#1f77b4;\" x=\"91.575566\" xlink:href=\"#m24570a5dcf\" y=\"51.074178\"/>\r\n     <use style=\"fill:#1f77b4;stroke:#1f77b4;\" x=\"91.575566\" xlink:href=\"#m24570a5dcf\" y=\"46.271265\"/>\r\n     <use style=\"fill:#1f77b4;stroke:#1f77b4;\" x=\"91.575566\" xlink:href=\"#m24570a5dcf\" y=\"41.468351\"/>\r\n     <use style=\"fill:#1f77b4;stroke:#1f77b4;\" x=\"91.575566\" xlink:href=\"#m24570a5dcf\" y=\"36.665437\"/>\r\n     <use style=\"fill:#1f77b4;stroke:#1f77b4;\" x=\"91.575566\" xlink:href=\"#m24570a5dcf\" y=\"31.862523\"/>\r\n     <use style=\"fill:#1f77b4;stroke:#1f77b4;\" x=\"91.575566\" xlink:href=\"#m24570a5dcf\" y=\"27.05961\"/>\r\n     <use style=\"fill:#1f77b4;stroke:#1f77b4;\" x=\"95.984572\" xlink:href=\"#m24570a5dcf\" y=\"186.246831\"/>\r\n     <use style=\"fill:#1f77b4;stroke:#1f77b4;\" x=\"95.984572\" xlink:href=\"#m24570a5dcf\" y=\"181.443917\"/>\r\n     <use style=\"fill:#1f77b4;stroke:#1f77b4;\" x=\"95.984572\" xlink:href=\"#m24570a5dcf\" y=\"176.641003\"/>\r\n     <use style=\"fill:#1f77b4;stroke:#1f77b4;\" x=\"102.39076\" xlink:href=\"#m24570a5dcf\" y=\"210.254489\"/>\r\n     <use style=\"fill:#1f77b4;stroke:#1f77b4;\" x=\"102.39076\" xlink:href=\"#m24570a5dcf\" y=\"205.451575\"/>\r\n     <use style=\"fill:#1f77b4;stroke:#1f77b4;\" x=\"102.39076\" xlink:href=\"#m24570a5dcf\" y=\"200.648661\"/>\r\n     <use style=\"fill:#1f77b4;stroke:#1f77b4;\" x=\"102.39076\" xlink:href=\"#m24570a5dcf\" y=\"195.852658\"/>\r\n     <use style=\"fill:#1f77b4;stroke:#1f77b4;\" x=\"102.39076\" xlink:href=\"#m24570a5dcf\" y=\"191.049744\"/>\r\n     <use style=\"fill:#1f77b4;stroke:#1f77b4;\" x=\"102.39076\" xlink:href=\"#m24570a5dcf\" y=\"186.246831\"/>\r\n     <use style=\"fill:#1f77b4;stroke:#1f77b4;\" x=\"102.39076\" xlink:href=\"#m24570a5dcf\" y=\"181.443917\"/>\r\n     <use style=\"fill:#1f77b4;stroke:#1f77b4;\" x=\"102.39076\" xlink:href=\"#m24570a5dcf\" y=\"176.641003\"/>\r\n     <use style=\"fill:#1f77b4;stroke:#1f77b4;\" x=\"102.39076\" xlink:href=\"#m24570a5dcf\" y=\"171.838089\"/>\r\n     <use style=\"fill:#1f77b4;stroke:#1f77b4;\" x=\"102.39076\" xlink:href=\"#m24570a5dcf\" y=\"167.035176\"/>\r\n     <use style=\"fill:#1f77b4;stroke:#1f77b4;\" x=\"102.39076\" xlink:href=\"#m24570a5dcf\" y=\"162.239172\"/>\r\n     <use style=\"fill:#1f77b4;stroke:#1f77b4;\" x=\"108.796949\" xlink:href=\"#m24570a5dcf\" y=\"215.057403\"/>\r\n     <use style=\"fill:#1f77b4;stroke:#1f77b4;\" x=\"108.796949\" xlink:href=\"#m24570a5dcf\" y=\"210.254489\"/>\r\n     <use style=\"fill:#1f77b4;stroke:#1f77b4;\" x=\"108.796949\" xlink:href=\"#m24570a5dcf\" y=\"205.451575\"/>\r\n     <use style=\"fill:#1f77b4;stroke:#1f77b4;\" x=\"108.796949\" xlink:href=\"#m24570a5dcf\" y=\"200.648661\"/>\r\n     <use style=\"fill:#1f77b4;stroke:#1f77b4;\" x=\"108.796949\" xlink:href=\"#m24570a5dcf\" y=\"195.852658\"/>\r\n     <use style=\"fill:#1f77b4;stroke:#1f77b4;\" x=\"108.796949\" xlink:href=\"#m24570a5dcf\" y=\"191.049744\"/>\r\n     <use style=\"fill:#1f77b4;stroke:#1f77b4;\" x=\"108.796949\" xlink:href=\"#m24570a5dcf\" y=\"186.246831\"/>\r\n     <use style=\"fill:#1f77b4;stroke:#1f77b4;\" x=\"108.796949\" xlink:href=\"#m24570a5dcf\" y=\"181.443917\"/>\r\n     <use style=\"fill:#1f77b4;stroke:#1f77b4;\" x=\"108.796949\" xlink:href=\"#m24570a5dcf\" y=\"176.641003\"/>\r\n     <use style=\"fill:#1f77b4;stroke:#1f77b4;\" x=\"108.796949\" xlink:href=\"#m24570a5dcf\" y=\"171.838089\"/>\r\n     <use style=\"fill:#1f77b4;stroke:#1f77b4;\" x=\"108.796949\" xlink:href=\"#m24570a5dcf\" y=\"167.035176\"/>\r\n     <use style=\"fill:#1f77b4;stroke:#1f77b4;\" x=\"108.796949\" xlink:href=\"#m24570a5dcf\" y=\"162.239172\"/>\r\n     <use style=\"fill:#1f77b4;stroke:#1f77b4;\" x=\"115.203138\" xlink:href=\"#m24570a5dcf\" y=\"215.057403\"/>\r\n     <use style=\"fill:#1f77b4;stroke:#1f77b4;\" x=\"115.203138\" xlink:href=\"#m24570a5dcf\" y=\"210.254489\"/>\r\n     <use style=\"fill:#1f77b4;stroke:#1f77b4;\" x=\"115.203138\" xlink:href=\"#m24570a5dcf\" y=\"205.451575\"/>\r\n     <use style=\"fill:#1f77b4;stroke:#1f77b4;\" x=\"115.203138\" xlink:href=\"#m24570a5dcf\" y=\"200.648661\"/>\r\n     <use style=\"fill:#1f77b4;stroke:#1f77b4;\" x=\"115.203138\" xlink:href=\"#m24570a5dcf\" y=\"195.852658\"/>\r\n     <use style=\"fill:#1f77b4;stroke:#1f77b4;\" x=\"115.203138\" xlink:href=\"#m24570a5dcf\" y=\"191.049744\"/>\r\n     <use style=\"fill:#1f77b4;stroke:#1f77b4;\" x=\"115.203138\" xlink:href=\"#m24570a5dcf\" y=\"186.246831\"/>\r\n     <use style=\"fill:#1f77b4;stroke:#1f77b4;\" x=\"115.203138\" xlink:href=\"#m24570a5dcf\" y=\"181.443917\"/>\r\n     <use style=\"fill:#1f77b4;stroke:#1f77b4;\" x=\"115.203138\" xlink:href=\"#m24570a5dcf\" y=\"176.641003\"/>\r\n     <use style=\"fill:#1f77b4;stroke:#1f77b4;\" x=\"115.203138\" xlink:href=\"#m24570a5dcf\" y=\"171.838089\"/>\r\n     <use style=\"fill:#1f77b4;stroke:#1f77b4;\" x=\"115.203138\" xlink:href=\"#m24570a5dcf\" y=\"167.035176\"/>\r\n     <use style=\"fill:#1f77b4;stroke:#1f77b4;\" x=\"115.203138\" xlink:href=\"#m24570a5dcf\" y=\"162.239172\"/>\r\n     <use style=\"fill:#1f77b4;stroke:#1f77b4;\" x=\"121.602415\" xlink:href=\"#m24570a5dcf\" y=\"215.057403\"/>\r\n     <use style=\"fill:#1f77b4;stroke:#1f77b4;\" x=\"121.602415\" xlink:href=\"#m24570a5dcf\" y=\"210.254489\"/>\r\n     <use style=\"fill:#1f77b4;stroke:#1f77b4;\" x=\"121.602415\" xlink:href=\"#m24570a5dcf\" y=\"205.451575\"/>\r\n     <use style=\"fill:#1f77b4;stroke:#1f77b4;\" x=\"121.602415\" xlink:href=\"#m24570a5dcf\" y=\"200.648661\"/>\r\n     <use style=\"fill:#1f77b4;stroke:#1f77b4;\" x=\"121.602415\" xlink:href=\"#m24570a5dcf\" y=\"195.852658\"/>\r\n     <use style=\"fill:#1f77b4;stroke:#1f77b4;\" x=\"121.602415\" xlink:href=\"#m24570a5dcf\" y=\"191.049744\"/>\r\n     <use style=\"fill:#1f77b4;stroke:#1f77b4;\" x=\"121.602415\" xlink:href=\"#m24570a5dcf\" y=\"186.246831\"/>\r\n     <use style=\"fill:#1f77b4;stroke:#1f77b4;\" x=\"121.602415\" xlink:href=\"#m24570a5dcf\" y=\"181.443917\"/>\r\n     <use style=\"fill:#1f77b4;stroke:#1f77b4;\" x=\"121.602415\" xlink:href=\"#m24570a5dcf\" y=\"176.641003\"/>\r\n     <use style=\"fill:#1f77b4;stroke:#1f77b4;\" x=\"121.602415\" xlink:href=\"#m24570a5dcf\" y=\"171.838089\"/>\r\n     <use style=\"fill:#1f77b4;stroke:#1f77b4;\" x=\"121.602415\" xlink:href=\"#m24570a5dcf\" y=\"167.035176\"/>\r\n     <use style=\"fill:#1f77b4;stroke:#1f77b4;\" x=\"121.602415\" xlink:href=\"#m24570a5dcf\" y=\"162.239172\"/>\r\n     <use style=\"fill:#1f77b4;stroke:#1f77b4;\" x=\"128.008604\" xlink:href=\"#m24570a5dcf\" y=\"215.057403\"/>\r\n     <use style=\"fill:#1f77b4;stroke:#1f77b4;\" x=\"128.008604\" xlink:href=\"#m24570a5dcf\" y=\"210.254489\"/>\r\n     <use style=\"fill:#1f77b4;stroke:#1f77b4;\" x=\"128.008604\" xlink:href=\"#m24570a5dcf\" y=\"205.451575\"/>\r\n     <use style=\"fill:#1f77b4;stroke:#1f77b4;\" x=\"128.008604\" xlink:href=\"#m24570a5dcf\" y=\"200.648661\"/>\r\n     <use style=\"fill:#1f77b4;stroke:#1f77b4;\" x=\"128.008604\" xlink:href=\"#m24570a5dcf\" y=\"195.852658\"/>\r\n     <use style=\"fill:#1f77b4;stroke:#1f77b4;\" x=\"128.008604\" xlink:href=\"#m24570a5dcf\" y=\"191.049744\"/>\r\n     <use style=\"fill:#1f77b4;stroke:#1f77b4;\" x=\"128.008604\" xlink:href=\"#m24570a5dcf\" y=\"186.246831\"/>\r\n     <use style=\"fill:#1f77b4;stroke:#1f77b4;\" x=\"128.008604\" xlink:href=\"#m24570a5dcf\" y=\"181.443917\"/>\r\n     <use style=\"fill:#1f77b4;stroke:#1f77b4;\" x=\"128.008604\" xlink:href=\"#m24570a5dcf\" y=\"176.641003\"/>\r\n     <use style=\"fill:#1f77b4;stroke:#1f77b4;\" x=\"128.008604\" xlink:href=\"#m24570a5dcf\" y=\"171.838089\"/>\r\n     <use style=\"fill:#1f77b4;stroke:#1f77b4;\" x=\"128.008604\" xlink:href=\"#m24570a5dcf\" y=\"167.035176\"/>\r\n     <use style=\"fill:#1f77b4;stroke:#1f77b4;\" x=\"128.008604\" xlink:href=\"#m24570a5dcf\" y=\"162.239172\"/>\r\n     <use style=\"fill:#1f77b4;stroke:#1f77b4;\" x=\"134.414793\" xlink:href=\"#m24570a5dcf\" y=\"205.451575\"/>\r\n     <use style=\"fill:#1f77b4;stroke:#1f77b4;\" x=\"134.414793\" xlink:href=\"#m24570a5dcf\" y=\"200.648661\"/>\r\n     <use style=\"fill:#1f77b4;stroke:#1f77b4;\" x=\"134.414793\" xlink:href=\"#m24570a5dcf\" y=\"195.852658\"/>\r\n     <use style=\"fill:#1f77b4;stroke:#1f77b4;\" x=\"134.414793\" xlink:href=\"#m24570a5dcf\" y=\"191.049744\"/>\r\n     <use style=\"fill:#1f77b4;stroke:#1f77b4;\" x=\"134.414793\" xlink:href=\"#m24570a5dcf\" y=\"186.246831\"/>\r\n     <use style=\"fill:#1f77b4;stroke:#1f77b4;\" x=\"134.414793\" xlink:href=\"#m24570a5dcf\" y=\"181.443917\"/>\r\n     <use style=\"fill:#1f77b4;stroke:#1f77b4;\" x=\"134.414793\" xlink:href=\"#m24570a5dcf\" y=\"176.641003\"/>\r\n     <use style=\"fill:#1f77b4;stroke:#1f77b4;\" x=\"134.414793\" xlink:href=\"#m24570a5dcf\" y=\"171.838089\"/>\r\n     <use style=\"fill:#1f77b4;stroke:#1f77b4;\" x=\"50.222133\" xlink:href=\"#m24570a5dcf\" y=\"110.74779\"/>\r\n     <use style=\"fill:#1f77b4;stroke:#1f77b4;\" x=\"51.922157\" xlink:href=\"#m24570a5dcf\" y=\"200.724679\"/>\r\n     <use style=\"fill:#1f77b4;stroke:#1f77b4;\" x=\"51.922157\" xlink:href=\"#m24570a5dcf\" y=\"195.928676\"/>\r\n     <use style=\"fill:#1f77b4;stroke:#1f77b4;\" x=\"51.922157\" xlink:href=\"#m24570a5dcf\" y=\"191.125762\"/>\r\n     <use style=\"fill:#1f77b4;stroke:#1f77b4;\" x=\"51.922157\" xlink:href=\"#m24570a5dcf\" y=\"186.322848\"/>\r\n     <use style=\"fill:#1f77b4;stroke:#1f77b4;\" x=\"51.922157\" xlink:href=\"#m24570a5dcf\" y=\"181.519934\"/>\r\n     <use style=\"fill:#1f77b4;stroke:#1f77b4;\" x=\"51.922157\" xlink:href=\"#m24570a5dcf\" y=\"176.71702\"/>\r\n     <use style=\"fill:#1f77b4;stroke:#1f77b4;\" x=\"56.628322\" xlink:href=\"#m24570a5dcf\" y=\"139.558362\"/>\r\n     <use style=\"fill:#1f77b4;stroke:#1f77b4;\" x=\"56.628322\" xlink:href=\"#m24570a5dcf\" y=\"134.755449\"/>\r\n     <use style=\"fill:#1f77b4;stroke:#1f77b4;\" x=\"56.628322\" xlink:href=\"#m24570a5dcf\" y=\"129.952535\"/>\r\n     <use style=\"fill:#1f77b4;stroke:#1f77b4;\" x=\"56.628322\" xlink:href=\"#m24570a5dcf\" y=\"125.149621\"/>\r\n     <use style=\"fill:#1f77b4;stroke:#1f77b4;\" x=\"56.628322\" xlink:href=\"#m24570a5dcf\" y=\"120.346707\"/>\r\n     <use style=\"fill:#1f77b4;stroke:#1f77b4;\" x=\"56.628322\" xlink:href=\"#m24570a5dcf\" y=\"115.550704\"/>\r\n     <use style=\"fill:#1f77b4;stroke:#1f77b4;\" x=\"56.628322\" xlink:href=\"#m24570a5dcf\" y=\"110.74779\"/>\r\n     <use style=\"fill:#1f77b4;stroke:#1f77b4;\" x=\"56.628322\" xlink:href=\"#m24570a5dcf\" y=\"105.944877\"/>\r\n     <use style=\"fill:#1f77b4;stroke:#1f77b4;\" x=\"56.628322\" xlink:href=\"#m24570a5dcf\" y=\"101.141963\"/>\r\n     <use style=\"fill:#1f77b4;stroke:#1f77b4;\" x=\"56.628322\" xlink:href=\"#m24570a5dcf\" y=\"96.339049\"/>\r\n     <use style=\"fill:#1f77b4;stroke:#1f77b4;\" x=\"58.328346\" xlink:href=\"#m24570a5dcf\" y=\"210.330506\"/>\r\n     <use style=\"fill:#1f77b4;stroke:#1f77b4;\" x=\"58.328346\" xlink:href=\"#m24570a5dcf\" y=\"205.527592\"/>\r\n     <use style=\"fill:#1f77b4;stroke:#1f77b4;\" x=\"58.328346\" xlink:href=\"#m24570a5dcf\" y=\"200.724679\"/>\r\n     <use style=\"fill:#1f77b4;stroke:#1f77b4;\" x=\"58.328346\" xlink:href=\"#m24570a5dcf\" y=\"195.928676\"/>\r\n     <use style=\"fill:#1f77b4;stroke:#1f77b4;\" x=\"58.328346\" xlink:href=\"#m24570a5dcf\" y=\"191.125762\"/>\r\n     <use style=\"fill:#1f77b4;stroke:#1f77b4;\" x=\"58.328346\" xlink:href=\"#m24570a5dcf\" y=\"186.322848\"/>\r\n     <use style=\"fill:#1f77b4;stroke:#1f77b4;\" x=\"58.328346\" xlink:href=\"#m24570a5dcf\" y=\"181.519934\"/>\r\n     <use style=\"fill:#1f77b4;stroke:#1f77b4;\" x=\"58.328346\" xlink:href=\"#m24570a5dcf\" y=\"176.71702\"/>\r\n     <use style=\"fill:#1f77b4;stroke:#1f77b4;\" x=\"58.328346\" xlink:href=\"#m24570a5dcf\" y=\"171.914107\"/>\r\n     <use style=\"fill:#1f77b4;stroke:#1f77b4;\" x=\"58.328346\" xlink:href=\"#m24570a5dcf\" y=\"167.111193\"/>\r\n     <use style=\"fill:#1f77b4;stroke:#1f77b4;\" x=\"58.328346\" xlink:href=\"#m24570a5dcf\" y=\"162.31519\"/>\r\n     <use style=\"fill:#1f77b4;stroke:#1f77b4;\" x=\"59.551534\" xlink:href=\"#m24570a5dcf\" y=\"65.476009\"/>\r\n     <use style=\"fill:#1f77b4;stroke:#1f77b4;\" x=\"59.551534\" xlink:href=\"#m24570a5dcf\" y=\"60.673095\"/>\r\n     <use style=\"fill:#1f77b4;stroke:#1f77b4;\" x=\"59.551534\" xlink:href=\"#m24570a5dcf\" y=\"55.877092\"/>\r\n     <use style=\"fill:#1f77b4;stroke:#1f77b4;\" x=\"59.551534\" xlink:href=\"#m24570a5dcf\" y=\"51.074178\"/>\r\n     <use style=\"fill:#1f77b4;stroke:#1f77b4;\" x=\"59.551534\" xlink:href=\"#m24570a5dcf\" y=\"46.271265\"/>\r\n     <use style=\"fill:#1f77b4;stroke:#1f77b4;\" x=\"59.551534\" xlink:href=\"#m24570a5dcf\" y=\"41.468351\"/>\r\n     <use style=\"fill:#1f77b4;stroke:#1f77b4;\" x=\"59.551534\" xlink:href=\"#m24570a5dcf\" y=\"36.665437\"/>\r\n     <use style=\"fill:#1f77b4;stroke:#1f77b4;\" x=\"59.551534\" xlink:href=\"#m24570a5dcf\" y=\"31.862523\"/>\r\n     <use style=\"fill:#1f77b4;stroke:#1f77b4;\" x=\"59.551534\" xlink:href=\"#m24570a5dcf\" y=\"27.05961\"/>\r\n    </g>\r\n   </g>\r\n   <g id=\"matplotlib.axis_1\">\r\n    <g id=\"xtick_1\">\r\n     <g id=\"line2d_1\">\r\n      <defs>\r\n       <path d=\"M 0 0 \r\nL 0 3.5 \r\n\" id=\"mde88d372ff\" style=\"stroke:#000000;stroke-width:0.8;\"/>\r\n      </defs>\r\n      <g>\r\n       <use style=\"stroke:#000000;stroke-width:0.8;\" x=\"61.134077\" xlink:href=\"#mde88d372ff\" y=\"225.017056\"/>\r\n      </g>\r\n     </g>\r\n     <g id=\"text_1\">\r\n      <!-- 10000 -->\r\n      <g transform=\"translate(45.227827 239.615494)scale(0.1 -0.1)\">\r\n       <defs>\r\n        <path d=\"M 12.40625 8.296875 \r\nL 28.515625 8.296875 \r\nL 28.515625 63.921875 \r\nL 10.984375 60.40625 \r\nL 10.984375 69.390625 \r\nL 28.421875 72.90625 \r\nL 38.28125 72.90625 \r\nL 38.28125 8.296875 \r\nL 54.390625 8.296875 \r\nL 54.390625 0 \r\nL 12.40625 0 \r\nz\r\n\" id=\"DejaVuSans-49\"/>\r\n        <path d=\"M 31.78125 66.40625 \r\nQ 24.171875 66.40625 20.328125 58.90625 \r\nQ 16.5 51.421875 16.5 36.375 \r\nQ 16.5 21.390625 20.328125 13.890625 \r\nQ 24.171875 6.390625 31.78125 6.390625 \r\nQ 39.453125 6.390625 43.28125 13.890625 \r\nQ 47.125 21.390625 47.125 36.375 \r\nQ 47.125 51.421875 43.28125 58.90625 \r\nQ 39.453125 66.40625 31.78125 66.40625 \r\nz\r\nM 31.78125 74.21875 \r\nQ 44.046875 74.21875 50.515625 64.515625 \r\nQ 56.984375 54.828125 56.984375 36.375 \r\nQ 56.984375 17.96875 50.515625 8.265625 \r\nQ 44.046875 -1.421875 31.78125 -1.421875 \r\nQ 19.53125 -1.421875 13.0625 8.265625 \r\nQ 6.59375 17.96875 6.59375 36.375 \r\nQ 6.59375 54.828125 13.0625 64.515625 \r\nQ 19.53125 74.21875 31.78125 74.21875 \r\nz\r\n\" id=\"DejaVuSans-48\"/>\r\n       </defs>\r\n       <use xlink:href=\"#DejaVuSans-49\"/>\r\n       <use x=\"63.623047\" xlink:href=\"#DejaVuSans-48\"/>\r\n       <use x=\"127.246094\" xlink:href=\"#DejaVuSans-48\"/>\r\n       <use x=\"190.869141\" xlink:href=\"#DejaVuSans-48\"/>\r\n       <use x=\"254.492188\" xlink:href=\"#DejaVuSans-48\"/>\r\n      </g>\r\n     </g>\r\n    </g>\r\n    <g id=\"xtick_2\">\r\n     <g id=\"line2d_2\">\r\n      <g>\r\n       <use style=\"stroke:#000000;stroke-width:0.8;\" x=\"95.687413\" xlink:href=\"#mde88d372ff\" y=\"225.017056\"/>\r\n      </g>\r\n     </g>\r\n     <g id=\"text_2\">\r\n      <!-- 15000 -->\r\n      <g transform=\"translate(79.781163 239.615494)scale(0.1 -0.1)\">\r\n       <defs>\r\n        <path d=\"M 10.796875 72.90625 \r\nL 49.515625 72.90625 \r\nL 49.515625 64.59375 \r\nL 19.828125 64.59375 \r\nL 19.828125 46.734375 \r\nQ 21.96875 47.46875 24.109375 47.828125 \r\nQ 26.265625 48.1875 28.421875 48.1875 \r\nQ 40.625 48.1875 47.75 41.5 \r\nQ 54.890625 34.8125 54.890625 23.390625 \r\nQ 54.890625 11.625 47.5625 5.09375 \r\nQ 40.234375 -1.421875 26.90625 -1.421875 \r\nQ 22.3125 -1.421875 17.546875 -0.640625 \r\nQ 12.796875 0.140625 7.71875 1.703125 \r\nL 7.71875 11.625 \r\nQ 12.109375 9.234375 16.796875 8.0625 \r\nQ 21.484375 6.890625 26.703125 6.890625 \r\nQ 35.15625 6.890625 40.078125 11.328125 \r\nQ 45.015625 15.765625 45.015625 23.390625 \r\nQ 45.015625 31 40.078125 35.4375 \r\nQ 35.15625 39.890625 26.703125 39.890625 \r\nQ 22.75 39.890625 18.8125 39.015625 \r\nQ 14.890625 38.140625 10.796875 36.28125 \r\nz\r\n\" id=\"DejaVuSans-53\"/>\r\n       </defs>\r\n       <use xlink:href=\"#DejaVuSans-49\"/>\r\n       <use x=\"63.623047\" xlink:href=\"#DejaVuSans-53\"/>\r\n       <use x=\"127.246094\" xlink:href=\"#DejaVuSans-48\"/>\r\n       <use x=\"190.869141\" xlink:href=\"#DejaVuSans-48\"/>\r\n       <use x=\"254.492188\" xlink:href=\"#DejaVuSans-48\"/>\r\n      </g>\r\n     </g>\r\n    </g>\r\n    <g id=\"xtick_3\">\r\n     <g id=\"line2d_3\">\r\n      <g>\r\n       <use style=\"stroke:#000000;stroke-width:0.8;\" x=\"130.24075\" xlink:href=\"#mde88d372ff\" y=\"225.017056\"/>\r\n      </g>\r\n     </g>\r\n     <g id=\"text_3\">\r\n      <!-- 20000 -->\r\n      <g transform=\"translate(114.3345 239.615494)scale(0.1 -0.1)\">\r\n       <defs>\r\n        <path d=\"M 19.1875 8.296875 \r\nL 53.609375 8.296875 \r\nL 53.609375 0 \r\nL 7.328125 0 \r\nL 7.328125 8.296875 \r\nQ 12.9375 14.109375 22.625 23.890625 \r\nQ 32.328125 33.6875 34.8125 36.53125 \r\nQ 39.546875 41.84375 41.421875 45.53125 \r\nQ 43.3125 49.21875 43.3125 52.78125 \r\nQ 43.3125 58.59375 39.234375 62.25 \r\nQ 35.15625 65.921875 28.609375 65.921875 \r\nQ 23.96875 65.921875 18.8125 64.3125 \r\nQ 13.671875 62.703125 7.8125 59.421875 \r\nL 7.8125 69.390625 \r\nQ 13.765625 71.78125 18.9375 73 \r\nQ 24.125 74.21875 28.421875 74.21875 \r\nQ 39.75 74.21875 46.484375 68.546875 \r\nQ 53.21875 62.890625 53.21875 53.421875 \r\nQ 53.21875 48.921875 51.53125 44.890625 \r\nQ 49.859375 40.875 45.40625 35.40625 \r\nQ 44.1875 33.984375 37.640625 27.21875 \r\nQ 31.109375 20.453125 19.1875 8.296875 \r\nz\r\n\" id=\"DejaVuSans-50\"/>\r\n       </defs>\r\n       <use xlink:href=\"#DejaVuSans-50\"/>\r\n       <use x=\"63.623047\" xlink:href=\"#DejaVuSans-48\"/>\r\n       <use x=\"127.246094\" xlink:href=\"#DejaVuSans-48\"/>\r\n       <use x=\"190.869141\" xlink:href=\"#DejaVuSans-48\"/>\r\n       <use x=\"254.492188\" xlink:href=\"#DejaVuSans-48\"/>\r\n      </g>\r\n     </g>\r\n    </g>\r\n   </g>\r\n   <g id=\"matplotlib.axis_2\">\r\n    <g id=\"ytick_1\">\r\n     <g id=\"line2d_4\">\r\n      <defs>\r\n       <path d=\"M 0 0 \r\nL -3.5 0 \r\n\" id=\"mf918395446\" style=\"stroke:#000000;stroke-width:0.8;\"/>\r\n      </defs>\r\n      <g>\r\n       <use style=\"stroke:#000000;stroke-width:0.8;\" x=\"46.0125\" xlink:href=\"#mf918395446\" y=\"218.319238\"/>\r\n      </g>\r\n     </g>\r\n     <g id=\"text_4\">\r\n      <!-- 30000 -->\r\n      <g transform=\"translate(7.2 222.118456)scale(0.1 -0.1)\">\r\n       <defs>\r\n        <path d=\"M 40.578125 39.3125 \r\nQ 47.65625 37.796875 51.625 33 \r\nQ 55.609375 28.21875 55.609375 21.1875 \r\nQ 55.609375 10.40625 48.1875 4.484375 \r\nQ 40.765625 -1.421875 27.09375 -1.421875 \r\nQ 22.515625 -1.421875 17.65625 -0.515625 \r\nQ 12.796875 0.390625 7.625 2.203125 \r\nL 7.625 11.71875 \r\nQ 11.71875 9.328125 16.59375 8.109375 \r\nQ 21.484375 6.890625 26.8125 6.890625 \r\nQ 36.078125 6.890625 40.9375 10.546875 \r\nQ 45.796875 14.203125 45.796875 21.1875 \r\nQ 45.796875 27.640625 41.28125 31.265625 \r\nQ 36.765625 34.90625 28.71875 34.90625 \r\nL 20.21875 34.90625 \r\nL 20.21875 43.015625 \r\nL 29.109375 43.015625 \r\nQ 36.375 43.015625 40.234375 45.921875 \r\nQ 44.09375 48.828125 44.09375 54.296875 \r\nQ 44.09375 59.90625 40.109375 62.90625 \r\nQ 36.140625 65.921875 28.71875 65.921875 \r\nQ 24.65625 65.921875 20.015625 65.03125 \r\nQ 15.375 64.15625 9.8125 62.3125 \r\nL 9.8125 71.09375 \r\nQ 15.4375 72.65625 20.34375 73.4375 \r\nQ 25.25 74.21875 29.59375 74.21875 \r\nQ 40.828125 74.21875 47.359375 69.109375 \r\nQ 53.90625 64.015625 53.90625 55.328125 \r\nQ 53.90625 49.265625 50.4375 45.09375 \r\nQ 46.96875 40.921875 40.578125 39.3125 \r\nz\r\n\" id=\"DejaVuSans-51\"/>\r\n       </defs>\r\n       <use xlink:href=\"#DejaVuSans-51\"/>\r\n       <use x=\"63.623047\" xlink:href=\"#DejaVuSans-48\"/>\r\n       <use x=\"127.246094\" xlink:href=\"#DejaVuSans-48\"/>\r\n       <use x=\"190.869141\" xlink:href=\"#DejaVuSans-48\"/>\r\n       <use x=\"254.492188\" xlink:href=\"#DejaVuSans-48\"/>\r\n      </g>\r\n     </g>\r\n    </g>\r\n    <g id=\"ytick_2\">\r\n     <g id=\"line2d_5\">\r\n      <g>\r\n       <use style=\"stroke:#000000;stroke-width:0.8;\" x=\"46.0125\" xlink:href=\"#mf918395446\" y=\"183.765901\"/>\r\n      </g>\r\n     </g>\r\n     <g id=\"text_5\">\r\n      <!-- 35000 -->\r\n      <g transform=\"translate(7.2 187.56512)scale(0.1 -0.1)\">\r\n       <use xlink:href=\"#DejaVuSans-51\"/>\r\n       <use x=\"63.623047\" xlink:href=\"#DejaVuSans-53\"/>\r\n       <use x=\"127.246094\" xlink:href=\"#DejaVuSans-48\"/>\r\n       <use x=\"190.869141\" xlink:href=\"#DejaVuSans-48\"/>\r\n       <use x=\"254.492188\" xlink:href=\"#DejaVuSans-48\"/>\r\n      </g>\r\n     </g>\r\n    </g>\r\n    <g id=\"ytick_3\">\r\n     <g id=\"line2d_6\">\r\n      <g>\r\n       <use style=\"stroke:#000000;stroke-width:0.8;\" x=\"46.0125\" xlink:href=\"#mf918395446\" y=\"149.212565\"/>\r\n      </g>\r\n     </g>\r\n     <g id=\"text_6\">\r\n      <!-- 40000 -->\r\n      <g transform=\"translate(7.2 153.011783)scale(0.1 -0.1)\">\r\n       <defs>\r\n        <path d=\"M 37.796875 64.3125 \r\nL 12.890625 25.390625 \r\nL 37.796875 25.390625 \r\nz\r\nM 35.203125 72.90625 \r\nL 47.609375 72.90625 \r\nL 47.609375 25.390625 \r\nL 58.015625 25.390625 \r\nL 58.015625 17.1875 \r\nL 47.609375 17.1875 \r\nL 47.609375 0 \r\nL 37.796875 0 \r\nL 37.796875 17.1875 \r\nL 4.890625 17.1875 \r\nL 4.890625 26.703125 \r\nz\r\n\" id=\"DejaVuSans-52\"/>\r\n       </defs>\r\n       <use xlink:href=\"#DejaVuSans-52\"/>\r\n       <use x=\"63.623047\" xlink:href=\"#DejaVuSans-48\"/>\r\n       <use x=\"127.246094\" xlink:href=\"#DejaVuSans-48\"/>\r\n       <use x=\"190.869141\" xlink:href=\"#DejaVuSans-48\"/>\r\n       <use x=\"254.492188\" xlink:href=\"#DejaVuSans-48\"/>\r\n      </g>\r\n     </g>\r\n    </g>\r\n    <g id=\"ytick_4\">\r\n     <g id=\"line2d_7\">\r\n      <g>\r\n       <use style=\"stroke:#000000;stroke-width:0.8;\" x=\"46.0125\" xlink:href=\"#mf918395446\" y=\"114.659228\"/>\r\n      </g>\r\n     </g>\r\n     <g id=\"text_7\">\r\n      <!-- 45000 -->\r\n      <g transform=\"translate(7.2 118.458447)scale(0.1 -0.1)\">\r\n       <use xlink:href=\"#DejaVuSans-52\"/>\r\n       <use x=\"63.623047\" xlink:href=\"#DejaVuSans-53\"/>\r\n       <use x=\"127.246094\" xlink:href=\"#DejaVuSans-48\"/>\r\n       <use x=\"190.869141\" xlink:href=\"#DejaVuSans-48\"/>\r\n       <use x=\"254.492188\" xlink:href=\"#DejaVuSans-48\"/>\r\n      </g>\r\n     </g>\r\n    </g>\r\n    <g id=\"ytick_5\">\r\n     <g id=\"line2d_8\">\r\n      <g>\r\n       <use style=\"stroke:#000000;stroke-width:0.8;\" x=\"46.0125\" xlink:href=\"#mf918395446\" y=\"80.105892\"/>\r\n      </g>\r\n     </g>\r\n     <g id=\"text_8\">\r\n      <!-- 50000 -->\r\n      <g transform=\"translate(7.2 83.90511)scale(0.1 -0.1)\">\r\n       <use xlink:href=\"#DejaVuSans-53\"/>\r\n       <use x=\"63.623047\" xlink:href=\"#DejaVuSans-48\"/>\r\n       <use x=\"127.246094\" xlink:href=\"#DejaVuSans-48\"/>\r\n       <use x=\"190.869141\" xlink:href=\"#DejaVuSans-48\"/>\r\n       <use x=\"254.492188\" xlink:href=\"#DejaVuSans-48\"/>\r\n      </g>\r\n     </g>\r\n    </g>\r\n    <g id=\"ytick_6\">\r\n     <g id=\"line2d_9\">\r\n      <g>\r\n       <use style=\"stroke:#000000;stroke-width:0.8;\" x=\"46.0125\" xlink:href=\"#mf918395446\" y=\"45.552555\"/>\r\n      </g>\r\n     </g>\r\n     <g id=\"text_9\">\r\n      <!-- 55000 -->\r\n      <g transform=\"translate(7.2 49.351774)scale(0.1 -0.1)\">\r\n       <use xlink:href=\"#DejaVuSans-53\"/>\r\n       <use x=\"63.623047\" xlink:href=\"#DejaVuSans-53\"/>\r\n       <use x=\"127.246094\" xlink:href=\"#DejaVuSans-48\"/>\r\n       <use x=\"190.869141\" xlink:href=\"#DejaVuSans-48\"/>\r\n       <use x=\"254.492188\" xlink:href=\"#DejaVuSans-48\"/>\r\n      </g>\r\n     </g>\r\n    </g>\r\n    <g id=\"ytick_7\">\r\n     <g id=\"line2d_10\">\r\n      <g>\r\n       <use style=\"stroke:#000000;stroke-width:0.8;\" x=\"46.0125\" xlink:href=\"#mf918395446\" y=\"10.999219\"/>\r\n      </g>\r\n     </g>\r\n     <g id=\"text_10\">\r\n      <!-- 60000 -->\r\n      <g transform=\"translate(7.2 14.798437)scale(0.1 -0.1)\">\r\n       <defs>\r\n        <path d=\"M 33.015625 40.375 \r\nQ 26.375 40.375 22.484375 35.828125 \r\nQ 18.609375 31.296875 18.609375 23.390625 \r\nQ 18.609375 15.53125 22.484375 10.953125 \r\nQ 26.375 6.390625 33.015625 6.390625 \r\nQ 39.65625 6.390625 43.53125 10.953125 \r\nQ 47.40625 15.53125 47.40625 23.390625 \r\nQ 47.40625 31.296875 43.53125 35.828125 \r\nQ 39.65625 40.375 33.015625 40.375 \r\nz\r\nM 52.59375 71.296875 \r\nL 52.59375 62.3125 \r\nQ 48.875 64.0625 45.09375 64.984375 \r\nQ 41.3125 65.921875 37.59375 65.921875 \r\nQ 27.828125 65.921875 22.671875 59.328125 \r\nQ 17.53125 52.734375 16.796875 39.40625 \r\nQ 19.671875 43.65625 24.015625 45.921875 \r\nQ 28.375 48.1875 33.59375 48.1875 \r\nQ 44.578125 48.1875 50.953125 41.515625 \r\nQ 57.328125 34.859375 57.328125 23.390625 \r\nQ 57.328125 12.15625 50.6875 5.359375 \r\nQ 44.046875 -1.421875 33.015625 -1.421875 \r\nQ 20.359375 -1.421875 13.671875 8.265625 \r\nQ 6.984375 17.96875 6.984375 36.375 \r\nQ 6.984375 53.65625 15.1875 63.9375 \r\nQ 23.390625 74.21875 37.203125 74.21875 \r\nQ 40.921875 74.21875 44.703125 73.484375 \r\nQ 48.484375 72.75 52.59375 71.296875 \r\nz\r\n\" id=\"DejaVuSans-54\"/>\r\n       </defs>\r\n       <use xlink:href=\"#DejaVuSans-54\"/>\r\n       <use x=\"63.623047\" xlink:href=\"#DejaVuSans-48\"/>\r\n       <use x=\"127.246094\" xlink:href=\"#DejaVuSans-48\"/>\r\n       <use x=\"190.869141\" xlink:href=\"#DejaVuSans-48\"/>\r\n       <use x=\"254.492188\" xlink:href=\"#DejaVuSans-48\"/>\r\n      </g>\r\n     </g>\r\n    </g>\r\n   </g>\r\n   <g id=\"patch_3\">\r\n    <path d=\"M 46.0125 225.017056 \r\nL 46.0125 7.577056 \r\n\" style=\"fill:none;stroke:#000000;stroke-linecap:square;stroke-linejoin:miter;stroke-width:0.8;\"/>\r\n   </g>\r\n   <g id=\"patch_4\">\r\n    <path d=\"M 138.624426 225.017056 \r\nL 138.624426 7.577056 \r\n\" style=\"fill:none;stroke:#000000;stroke-linecap:square;stroke-linejoin:miter;stroke-width:0.8;\"/>\r\n   </g>\r\n   <g id=\"patch_5\">\r\n    <path d=\"M 46.0125 225.017056 \r\nL 138.624426 225.017056 \r\n\" style=\"fill:none;stroke:#000000;stroke-linecap:square;stroke-linejoin:miter;stroke-width:0.8;\"/>\r\n   </g>\r\n   <g id=\"patch_6\">\r\n    <path d=\"M 46.0125 7.577056 \r\nL 138.624426 7.577056 \r\n\" style=\"fill:none;stroke:#000000;stroke-linecap:square;stroke-linejoin:miter;stroke-width:0.8;\"/>\r\n   </g>\r\n  </g>\r\n </g>\r\n <defs>\r\n  <clipPath id=\"pdcc847df67\">\r\n   <rect height=\"217.44\" width=\"92.611926\" x=\"46.0125\" y=\"7.577056\"/>\r\n  </clipPath>\r\n </defs>\r\n</svg>\r\n",
      "image/png": "[encoded data removed]"
     },
     "metadata": {
      "needs_background": "light"
     }
    }
   ],
   "source": [
    "plt.scatter(x=df.X, y=df.Y)\n",
    "plt.gca().set_aspect('equal')"
   ]
  },
  {
   "cell_type": "code",
   "execution_count": null,
   "metadata": {},
   "outputs": [],
   "source": []
  },
  {
   "source": [
    "## Identify Groups of Sections"
   ],
   "cell_type": "markdown",
   "metadata": {}
  },
  {
   "cell_type": "code",
   "execution_count": null,
   "metadata": {},
   "outputs": [],
   "source": []
  },
  {
   "cell_type": "code",
   "execution_count": null,
   "metadata": {},
   "outputs": [],
   "source": []
  },
  {
   "cell_type": "code",
   "execution_count": null,
   "metadata": {},
   "outputs": [],
   "source": []
  },
  {
   "cell_type": "code",
   "execution_count": null,
   "metadata": {},
   "outputs": [],
   "source": []
  },
  {
   "cell_type": "code",
   "execution_count": null,
   "metadata": {},
   "outputs": [],
   "source": []
  },
  {
   "cell_type": "code",
   "execution_count": null,
   "metadata": {},
   "outputs": [],
   "source": []
  },
  {
   "cell_type": "code",
   "execution_count": null,
   "metadata": {},
   "outputs": [],
   "source": []
  },
  {
   "cell_type": "code",
   "execution_count": null,
   "metadata": {},
   "outputs": [],
   "source": []
  },
  {
   "cell_type": "code",
   "execution_count": 1,
   "metadata": {},
   "outputs": [
    {
     "output_type": "stream",
     "name": "stderr",
     "text": [
      "D:\\miniconda\\lib\\site-packages\\numpy\\_distributor_init.py:30: UserWarning: loaded more than 1 DLL from .libs:\nD:\\miniconda\\lib\\site-packages\\numpy\\.libs\\libopenblas.JPIJNSWNNAN3CE6LLI5FWSPHUT2VXMTH.gfortran-win_amd64.dll\nD:\\miniconda\\lib\\site-packages\\numpy\\.libs\\libopenblas.PYQHXLVVQ7VESDPUVUADXEVJOBGHJPAY.gfortran-win_amd64.dll\n  warnings.warn(\"loaded more than 1 DLL from .libs:\"\n"
     ]
    }
   ],
   "source": [
    "from sklearn.cluster import KMeans"
   ]
  },
  {
   "cell_type": "code",
   "execution_count": 1,
   "metadata": {},
   "outputs": [
    {
     "output_type": "error",
     "ename": "ModuleNotFoundError",
     "evalue": "No module named 'sklearn'",
     "traceback": [
      "\u001b[1;31m---------------------------------------------------------------------------\u001b[0m",
      "\u001b[1;31mModuleNotFoundError\u001b[0m                       Traceback (most recent call last)",
      "\u001b[1;32m<ipython-input-1-adc65fced537>\u001b[0m in \u001b[0;36m<module>\u001b[1;34m\u001b[0m\n\u001b[1;32m----> 1\u001b[1;33m \u001b[1;32mfrom\u001b[0m \u001b[0msklearn\u001b[0m\u001b[1;33m.\u001b[0m\u001b[0mcluster\u001b[0m \u001b[1;32mimport\u001b[0m \u001b[0mKMeans\u001b[0m\u001b[1;33m\u001b[0m\u001b[1;33m\u001b[0m\u001b[0m\n\u001b[0m\u001b[0;32m      2\u001b[0m \u001b[0mdf\u001b[0m\u001b[1;33m[\u001b[0m\u001b[1;34m'Label'\u001b[0m\u001b[1;33m]\u001b[0m \u001b[1;33m=\u001b[0m \u001b[0mKMeans\u001b[0m\u001b[1;33m(\u001b[0m\u001b[0mn_clusters\u001b[0m\u001b[1;33m=\u001b[0m\u001b[1;36m4\u001b[0m\u001b[1;33m)\u001b[0m\u001b[1;33m.\u001b[0m\u001b[0mfit_predict\u001b[0m\u001b[1;33m(\u001b[0m\u001b[0mdf\u001b[0m\u001b[1;33m)\u001b[0m\u001b[1;33m\u001b[0m\u001b[1;33m\u001b[0m\u001b[0m\n\u001b[0;32m      3\u001b[0m \u001b[0mplt\u001b[0m\u001b[1;33m.\u001b[0m\u001b[0mscatter\u001b[0m\u001b[1;33m(\u001b[0m\u001b[0mdf\u001b[0m\u001b[1;33m.\u001b[0m\u001b[0mX\u001b[0m\u001b[1;33m,\u001b[0m \u001b[0mdf\u001b[0m\u001b[1;33m.\u001b[0m\u001b[0mY\u001b[0m\u001b[1;33m,\u001b[0m \u001b[0mc\u001b[0m\u001b[1;33m=\u001b[0m\u001b[0mdf\u001b[0m\u001b[1;33m.\u001b[0m\u001b[0mLabel\u001b[0m\u001b[1;33m)\u001b[0m\u001b[1;33m;\u001b[0m\u001b[1;33m\u001b[0m\u001b[1;33m\u001b[0m\u001b[0m\n\u001b[0;32m      4\u001b[0m \u001b[0mplt\u001b[0m\u001b[1;33m.\u001b[0m\u001b[0mgca\u001b[0m\u001b[1;33m(\u001b[0m\u001b[1;33m)\u001b[0m\u001b[1;33m.\u001b[0m\u001b[0mset_aspect\u001b[0m\u001b[1;33m(\u001b[0m\u001b[1;34m'equal'\u001b[0m\u001b[1;33m)\u001b[0m\u001b[1;33m;\u001b[0m\u001b[1;33m\u001b[0m\u001b[1;33m\u001b[0m\u001b[0m\n\u001b[0;32m      5\u001b[0m \u001b[0mdf\u001b[0m\u001b[1;33m.\u001b[0m\u001b[0msample\u001b[0m\u001b[1;33m(\u001b[0m\u001b[1;36m5\u001b[0m\u001b[1;33m)\u001b[0m\u001b[1;33m\u001b[0m\u001b[1;33m\u001b[0m\u001b[0m\n",
      "\u001b[1;31mModuleNotFoundError\u001b[0m: No module named 'sklearn'"
     ]
    }
   ],
   "source": [
    "from sklearn.cluster import KMeans\n",
    "df['Label'] = KMeans(n_clusters=4).fit_predict(df)\n",
    "plt.scatter(df.X, df.Y, c=df.Label);\n",
    "plt.gca().set_aspect('equal');\n",
    "df.sample(5)"
   ]
  },
  {
   "cell_type": "code",
   "execution_count": 157,
   "metadata": {},
   "outputs": [
    {
     "output_type": "execute_result",
     "data": {
      "text/plain": [
       "                                                        X      Y  Label  \\\n",
       "..\\..\\data\\raw\\ExPW021_PW162-A05_Scan1_[10275,4...  10275  40702      1   \n",
       "..\\..\\data\\raw\\ExPW021_PW162-A05_Scan1_[10275,4...  10275  41397      1   \n",
       "..\\..\\data\\raw\\ExPW021_PW162-A05_Scan1_[10275,4...  10275  42092      1   \n",
       "..\\..\\data\\raw\\ExPW021_PW162-A05_Scan1_[10275,4...  10275  42787      1   \n",
       "..\\..\\data\\raw\\ExPW021_PW162-A05_Scan1_[10275,4...  10275  43482      1   \n",
       "\n",
       "                                                   Category  \n",
       "..\\..\\data\\raw\\ExPW021_PW162-A05_Scan1_[10275,4...        B  \n",
       "..\\..\\data\\raw\\ExPW021_PW162-A05_Scan1_[10275,4...        B  \n",
       "..\\..\\data\\raw\\ExPW021_PW162-A05_Scan1_[10275,4...        B  \n",
       "..\\..\\data\\raw\\ExPW021_PW162-A05_Scan1_[10275,4...        B  \n",
       "..\\..\\data\\raw\\ExPW021_PW162-A05_Scan1_[10275,4...        B  "
      ],
      "text/html": "<div>\n<style scoped>\n    .dataframe tbody tr th:only-of-type {\n        vertical-align: middle;\n    }\n\n    .dataframe tbody tr th {\n        vertical-align: top;\n    }\n\n    .dataframe thead th {\n        text-align: right;\n    }\n</style>\n<table border=\"1\" class=\"dataframe\">\n  <thead>\n    <tr style=\"text-align: right;\">\n      <th></th>\n      <th>X</th>\n      <th>Y</th>\n      <th>Label</th>\n      <th>Category</th>\n    </tr>\n  </thead>\n  <tbody>\n    <tr>\n      <th>..\\..\\data\\raw\\ExPW021_PW162-A05_Scan1_[10275,40702]_component_data.tif</th>\n      <td>10275</td>\n      <td>40702</td>\n      <td>1</td>\n      <td>B</td>\n    </tr>\n    <tr>\n      <th>..\\..\\data\\raw\\ExPW021_PW162-A05_Scan1_[10275,41397]_component_data.tif</th>\n      <td>10275</td>\n      <td>41397</td>\n      <td>1</td>\n      <td>B</td>\n    </tr>\n    <tr>\n      <th>..\\..\\data\\raw\\ExPW021_PW162-A05_Scan1_[10275,42092]_component_data.tif</th>\n      <td>10275</td>\n      <td>42092</td>\n      <td>1</td>\n      <td>B</td>\n    </tr>\n    <tr>\n      <th>..\\..\\data\\raw\\ExPW021_PW162-A05_Scan1_[10275,42787]_component_data.tif</th>\n      <td>10275</td>\n      <td>42787</td>\n      <td>1</td>\n      <td>B</td>\n    </tr>\n    <tr>\n      <th>..\\..\\data\\raw\\ExPW021_PW162-A05_Scan1_[10275,43482]_component_data.tif</th>\n      <td>10275</td>\n      <td>43482</td>\n      <td>1</td>\n      <td>B</td>\n    </tr>\n  </tbody>\n</table>\n</div>"
     },
     "metadata": {},
     "execution_count": 157
    }
   ],
   "source": [
    "df['Category'] = df.Label.apply(lambda idx: \"ABCD\"[idx])\n",
    "df.head()"
   ]
  },
  {
   "cell_type": "code",
   "execution_count": 163,
   "metadata": {},
   "outputs": [],
   "source": [
    "from shutil import copy\n",
    "for filename, row in df.iterrows():\n",
    "    path = Path(\"../../data/processed/\") / row['Category']\n",
    "    path.mkdir(exist_ok=True, parents=True)\n",
    "    new_filename = path / filename.name\n",
    "    copy(filename, new_filename)\n",
    "    "
   ]
  }
 ]
}