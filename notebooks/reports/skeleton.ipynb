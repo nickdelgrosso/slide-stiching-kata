{
 "metadata": {
  "language_info": {
   "codemirror_mode": {
    "name": "ipython",
    "version": 3
   },
   "file_extension": ".py",
   "mimetype": "text/x-python",
   "name": "python",
   "nbconvert_exporter": "python",
   "pygments_lexer": "ipython3",
   "version": "3.8.3-final"
  },
  "orig_nbformat": 2,
  "kernelspec": {
   "name": "python3",
   "display_name": "Python 3",
   "language": "python"
  }
 },
 "nbformat": 4,
 "nbformat_minor": 2,
 "cells": [
  {
   "cell_type": "code",
   "execution_count": 2,
   "metadata": {},
   "outputs": [],
   "source": [
    "# Imports"
   ]
  },
  {
   "source": [
    "# Title"
   ],
   "cell_type": "markdown",
   "metadata": {}
  },
  {
   "source": [
    "## Step Heading 1\n",
    "\n",
    "(Link to useful docs or relavant information)"
   ],
   "cell_type": "markdown",
   "metadata": {}
  },
  {
   "cell_type": "code",
   "execution_count": 6,
   "metadata": {},
   "outputs": [
    {
     "output_type": "execute_result",
     "data": {
      "text/plain": [
       "3"
      ]
     },
     "metadata": {},
     "execution_count": 6
    }
   ],
   "source": [
    "def function_on_single_item_in_dataset(arg1, arg2):\n",
    "    result = arg1 + arg2\n",
    "    return result\n",
    "\n",
    "step_output = function_on_single_item_in_dataset(1, 2)\n",
    "step_output"
   ]
  },
  {
   "source": [
    "## Step Heading 2\n",
    "\n",
    "(Link to useful docs or relavant information)"
   ],
   "cell_type": "markdown",
   "metadata": {}
  },
  {
   "cell_type": "code",
   "execution_count": 4,
   "metadata": {},
   "outputs": [
    {
     "output_type": "execute_result",
     "data": {
      "text/plain": [
       "3"
      ]
     },
     "metadata": {},
     "execution_count": 4
    }
   ],
   "source": [
    "def function_on_single_item_in_dataset(arg1, arg2):\n",
    "    result = arg1 + arg2\n",
    "    return result\n",
    "\n",
    "step_output = function_on_single_item_in_dataset(1, 2)\n",
    "step_output"
   ]
  },
  {
   "cell_type": "code",
   "execution_count": 5,
   "metadata": {},
   "outputs": [],
   "source": [
    "# additonal visualizations, plots"
   ]
  },
  {
   "source": [
    "## Batch Processing: Run on all Items\n"
   ],
   "cell_type": "markdown",
   "metadata": {}
  },
  {
   "cell_type": "code",
   "execution_count": 8,
   "metadata": {},
   "outputs": [],
   "source": [
    "# Concise code calling previously-defined functions, running the full pipeline.\n",
    "# Optional: Write to output file(s) for further notebooks to use.\n",
    "# Show output summary of batch results"
   ]
  },
  {
   "source": [
    "### Visualizations, Stats"
   ],
   "cell_type": "markdown",
   "metadata": {}
  },
  {
   "cell_type": "code",
   "execution_count": null,
   "metadata": {},
   "outputs": [],
   "source": []
  },
  {
   "source": [
    "## Observations, Notes, Conclusions"
   ],
   "cell_type": "markdown",
   "metadata": {}
  },
  {
   "source": [],
   "cell_type": "markdown",
   "metadata": {}
  }
 ]
}